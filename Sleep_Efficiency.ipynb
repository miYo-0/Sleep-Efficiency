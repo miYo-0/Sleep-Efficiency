{
  "cells": [
    {
      "cell_type": "markdown",
      "metadata": {
        "id": "view-in-github",
        "colab_type": "text"
      },
      "source": [
        "<a href=\"https://colab.research.google.com/github/miYo-0/Sleep-Efficiency/blob/main/Sleep_Efficiency.ipynb\" target=\"_parent\"><img src=\"https://colab.research.google.com/assets/colab-badge.svg\" alt=\"Open In Colab\"/></a>"
      ]
    },
    {
      "cell_type": "code",
      "source": [
        "from google.colab import drive\n",
        "drive.mount('/content/drive')"
      ],
      "metadata": {
        "colab": {
          "base_uri": "https://localhost:8080/"
        },
        "id": "r00IIYmJoL31",
        "outputId": "115c7d43-fdaa-4c52-e14d-293f7b88aedb"
      },
      "execution_count": 1,
      "outputs": [
        {
          "output_type": "stream",
          "name": "stdout",
          "text": [
            "Mounted at /content/drive\n"
          ]
        }
      ]
    },
    {
      "cell_type": "code",
      "execution_count": 2,
      "metadata": {
        "id": "BfP-m2hDnHRG"
      },
      "outputs": [],
      "source": [
        "# Importing necessary libraries\n",
        "\n",
        "import pandas as pd\n",
        "import numpy as np\n",
        "import matplotlib.pyplot as plt\n",
        "import seaborn as sns\n",
        "\n",
        "import warnings\n",
        "warnings.filterwarnings('ignore')"
      ]
    },
    {
      "cell_type": "markdown",
      "metadata": {
        "id": "wxGWXiJenHRJ"
      },
      "source": [
        "# _About Dataset_\n",
        "### The dataset contains information about a group of test subjects and their sleep patterns. Each test subject is identified by a unique \"Subject ID\" and their age and gender are also recorded. \n",
        "\n",
        "### The \"Bedtime\" and \"Wakeup time\" features indicate when each subject goes to bed and wakes up each day, and the \"Sleep duration\" feature records the total amount of time each subject slept in hours. \n",
        "\n",
        "### The \"Sleep efficiency\" feature is a measure of the proportion of time spent in bed that is actually spent asleep. The \"REM sleep percentage\", \"Deep sleep percentage\", and \"Light sleep percentage\" features indicate the amount of time each subject spent in each stage of sleep.\n",
        "\n",
        "### The \"Awakenings\" feature records the number of times each subject wakes up during the night. Additionally, the dataset includes information about each subject's caffeine and alcohol consumption in the 24 hours prior to bedtime, their smoking status, and their exercise frequency."
      ]
    },
    {
      "cell_type": "code",
      "execution_count": 3,
      "metadata": {
        "id": "tb_e0_H4nHRN"
      },
      "outputs": [],
      "source": [
        "sleep = pd.read_csv('/content/drive/MyDrive/Dataset/Sleep_Efficiency.csv')"
      ]
    },
    {
      "cell_type": "code",
      "source": [
        "sleep.head()\n"
      ],
      "metadata": {
        "colab": {
          "base_uri": "https://localhost:8080/",
          "height": 354
        },
        "id": "wes7TI8apBQj",
        "outputId": "c23edcbb-ccd8-494f-cb25-1124483cf465"
      },
      "execution_count": 4,
      "outputs": [
        {
          "output_type": "execute_result",
          "data": {
            "text/plain": [
              "   ID  Age  Gender              Bedtime          Wakeup time  Sleep duration  \\\n",
              "0   1   65  Female  2021-03-06 01:00:00  2021-03-06 07:00:00             6.0   \n",
              "1   2   69    Male  2021-12-05 02:00:00  2021-12-05 09:00:00             7.0   \n",
              "2   3   40  Female  2021-05-25 21:30:00  2021-05-25 05:30:00             8.0   \n",
              "3   4   40  Female  2021-11-03 02:30:00  2021-11-03 08:30:00             6.0   \n",
              "4   5   57    Male  2021-03-13 01:00:00  2021-03-13 09:00:00             8.0   \n",
              "\n",
              "   Sleep efficiency  REM sleep percentage  Deep sleep percentage  \\\n",
              "0              0.88                    18                     70   \n",
              "1              0.66                    24                     28   \n",
              "2              0.89                    20                     70   \n",
              "3              0.51                    28                     25   \n",
              "4              0.76                    27                     55   \n",
              "\n",
              "   Light sleep percentage  Awakenings  Caffeine consumption  \\\n",
              "0                      10         0.0                   0.0   \n",
              "1                      53         3.0                   0.0   \n",
              "2                      10         1.0                   0.0   \n",
              "3                      52         3.0                  50.0   \n",
              "4                      18         3.0                   0.0   \n",
              "\n",
              "   Alcohol consumption Smoking status  Exercise frequency  \n",
              "0                  0.0            Yes                 3.0  \n",
              "1                  3.0            Yes                 3.0  \n",
              "2                  0.0             No                 3.0  \n",
              "3                  5.0            Yes                 1.0  \n",
              "4                  3.0             No                 3.0  "
            ],
            "text/html": [
              "\n",
              "  <div id=\"df-2686fc57-9ca2-4178-9fd1-dd2536140471\">\n",
              "    <div class=\"colab-df-container\">\n",
              "      <div>\n",
              "<style scoped>\n",
              "    .dataframe tbody tr th:only-of-type {\n",
              "        vertical-align: middle;\n",
              "    }\n",
              "\n",
              "    .dataframe tbody tr th {\n",
              "        vertical-align: top;\n",
              "    }\n",
              "\n",
              "    .dataframe thead th {\n",
              "        text-align: right;\n",
              "    }\n",
              "</style>\n",
              "<table border=\"1\" class=\"dataframe\">\n",
              "  <thead>\n",
              "    <tr style=\"text-align: right;\">\n",
              "      <th></th>\n",
              "      <th>ID</th>\n",
              "      <th>Age</th>\n",
              "      <th>Gender</th>\n",
              "      <th>Bedtime</th>\n",
              "      <th>Wakeup time</th>\n",
              "      <th>Sleep duration</th>\n",
              "      <th>Sleep efficiency</th>\n",
              "      <th>REM sleep percentage</th>\n",
              "      <th>Deep sleep percentage</th>\n",
              "      <th>Light sleep percentage</th>\n",
              "      <th>Awakenings</th>\n",
              "      <th>Caffeine consumption</th>\n",
              "      <th>Alcohol consumption</th>\n",
              "      <th>Smoking status</th>\n",
              "      <th>Exercise frequency</th>\n",
              "    </tr>\n",
              "  </thead>\n",
              "  <tbody>\n",
              "    <tr>\n",
              "      <th>0</th>\n",
              "      <td>1</td>\n",
              "      <td>65</td>\n",
              "      <td>Female</td>\n",
              "      <td>2021-03-06 01:00:00</td>\n",
              "      <td>2021-03-06 07:00:00</td>\n",
              "      <td>6.0</td>\n",
              "      <td>0.88</td>\n",
              "      <td>18</td>\n",
              "      <td>70</td>\n",
              "      <td>10</td>\n",
              "      <td>0.0</td>\n",
              "      <td>0.0</td>\n",
              "      <td>0.0</td>\n",
              "      <td>Yes</td>\n",
              "      <td>3.0</td>\n",
              "    </tr>\n",
              "    <tr>\n",
              "      <th>1</th>\n",
              "      <td>2</td>\n",
              "      <td>69</td>\n",
              "      <td>Male</td>\n",
              "      <td>2021-12-05 02:00:00</td>\n",
              "      <td>2021-12-05 09:00:00</td>\n",
              "      <td>7.0</td>\n",
              "      <td>0.66</td>\n",
              "      <td>24</td>\n",
              "      <td>28</td>\n",
              "      <td>53</td>\n",
              "      <td>3.0</td>\n",
              "      <td>0.0</td>\n",
              "      <td>3.0</td>\n",
              "      <td>Yes</td>\n",
              "      <td>3.0</td>\n",
              "    </tr>\n",
              "    <tr>\n",
              "      <th>2</th>\n",
              "      <td>3</td>\n",
              "      <td>40</td>\n",
              "      <td>Female</td>\n",
              "      <td>2021-05-25 21:30:00</td>\n",
              "      <td>2021-05-25 05:30:00</td>\n",
              "      <td>8.0</td>\n",
              "      <td>0.89</td>\n",
              "      <td>20</td>\n",
              "      <td>70</td>\n",
              "      <td>10</td>\n",
              "      <td>1.0</td>\n",
              "      <td>0.0</td>\n",
              "      <td>0.0</td>\n",
              "      <td>No</td>\n",
              "      <td>3.0</td>\n",
              "    </tr>\n",
              "    <tr>\n",
              "      <th>3</th>\n",
              "      <td>4</td>\n",
              "      <td>40</td>\n",
              "      <td>Female</td>\n",
              "      <td>2021-11-03 02:30:00</td>\n",
              "      <td>2021-11-03 08:30:00</td>\n",
              "      <td>6.0</td>\n",
              "      <td>0.51</td>\n",
              "      <td>28</td>\n",
              "      <td>25</td>\n",
              "      <td>52</td>\n",
              "      <td>3.0</td>\n",
              "      <td>50.0</td>\n",
              "      <td>5.0</td>\n",
              "      <td>Yes</td>\n",
              "      <td>1.0</td>\n",
              "    </tr>\n",
              "    <tr>\n",
              "      <th>4</th>\n",
              "      <td>5</td>\n",
              "      <td>57</td>\n",
              "      <td>Male</td>\n",
              "      <td>2021-03-13 01:00:00</td>\n",
              "      <td>2021-03-13 09:00:00</td>\n",
              "      <td>8.0</td>\n",
              "      <td>0.76</td>\n",
              "      <td>27</td>\n",
              "      <td>55</td>\n",
              "      <td>18</td>\n",
              "      <td>3.0</td>\n",
              "      <td>0.0</td>\n",
              "      <td>3.0</td>\n",
              "      <td>No</td>\n",
              "      <td>3.0</td>\n",
              "    </tr>\n",
              "  </tbody>\n",
              "</table>\n",
              "</div>\n",
              "      <button class=\"colab-df-convert\" onclick=\"convertToInteractive('df-2686fc57-9ca2-4178-9fd1-dd2536140471')\"\n",
              "              title=\"Convert this dataframe to an interactive table.\"\n",
              "              style=\"display:none;\">\n",
              "        \n",
              "  <svg xmlns=\"http://www.w3.org/2000/svg\" height=\"24px\"viewBox=\"0 0 24 24\"\n",
              "       width=\"24px\">\n",
              "    <path d=\"M0 0h24v24H0V0z\" fill=\"none\"/>\n",
              "    <path d=\"M18.56 5.44l.94 2.06.94-2.06 2.06-.94-2.06-.94-.94-2.06-.94 2.06-2.06.94zm-11 1L8.5 8.5l.94-2.06 2.06-.94-2.06-.94L8.5 2.5l-.94 2.06-2.06.94zm10 10l.94 2.06.94-2.06 2.06-.94-2.06-.94-.94-2.06-.94 2.06-2.06.94z\"/><path d=\"M17.41 7.96l-1.37-1.37c-.4-.4-.92-.59-1.43-.59-.52 0-1.04.2-1.43.59L10.3 9.45l-7.72 7.72c-.78.78-.78 2.05 0 2.83L4 21.41c.39.39.9.59 1.41.59.51 0 1.02-.2 1.41-.59l7.78-7.78 2.81-2.81c.8-.78.8-2.07 0-2.86zM5.41 20L4 18.59l7.72-7.72 1.47 1.35L5.41 20z\"/>\n",
              "  </svg>\n",
              "      </button>\n",
              "      \n",
              "  <style>\n",
              "    .colab-df-container {\n",
              "      display:flex;\n",
              "      flex-wrap:wrap;\n",
              "      gap: 12px;\n",
              "    }\n",
              "\n",
              "    .colab-df-convert {\n",
              "      background-color: #E8F0FE;\n",
              "      border: none;\n",
              "      border-radius: 50%;\n",
              "      cursor: pointer;\n",
              "      display: none;\n",
              "      fill: #1967D2;\n",
              "      height: 32px;\n",
              "      padding: 0 0 0 0;\n",
              "      width: 32px;\n",
              "    }\n",
              "\n",
              "    .colab-df-convert:hover {\n",
              "      background-color: #E2EBFA;\n",
              "      box-shadow: 0px 1px 2px rgba(60, 64, 67, 0.3), 0px 1px 3px 1px rgba(60, 64, 67, 0.15);\n",
              "      fill: #174EA6;\n",
              "    }\n",
              "\n",
              "    [theme=dark] .colab-df-convert {\n",
              "      background-color: #3B4455;\n",
              "      fill: #D2E3FC;\n",
              "    }\n",
              "\n",
              "    [theme=dark] .colab-df-convert:hover {\n",
              "      background-color: #434B5C;\n",
              "      box-shadow: 0px 1px 3px 1px rgba(0, 0, 0, 0.15);\n",
              "      filter: drop-shadow(0px 1px 2px rgba(0, 0, 0, 0.3));\n",
              "      fill: #FFFFFF;\n",
              "    }\n",
              "  </style>\n",
              "\n",
              "      <script>\n",
              "        const buttonEl =\n",
              "          document.querySelector('#df-2686fc57-9ca2-4178-9fd1-dd2536140471 button.colab-df-convert');\n",
              "        buttonEl.style.display =\n",
              "          google.colab.kernel.accessAllowed ? 'block' : 'none';\n",
              "\n",
              "        async function convertToInteractive(key) {\n",
              "          const element = document.querySelector('#df-2686fc57-9ca2-4178-9fd1-dd2536140471');\n",
              "          const dataTable =\n",
              "            await google.colab.kernel.invokeFunction('convertToInteractive',\n",
              "                                                     [key], {});\n",
              "          if (!dataTable) return;\n",
              "\n",
              "          const docLinkHtml = 'Like what you see? Visit the ' +\n",
              "            '<a target=\"_blank\" href=https://colab.research.google.com/notebooks/data_table.ipynb>data table notebook</a>'\n",
              "            + ' to learn more about interactive tables.';\n",
              "          element.innerHTML = '';\n",
              "          dataTable['output_type'] = 'display_data';\n",
              "          await google.colab.output.renderOutput(dataTable, element);\n",
              "          const docLink = document.createElement('div');\n",
              "          docLink.innerHTML = docLinkHtml;\n",
              "          element.appendChild(docLink);\n",
              "        }\n",
              "      </script>\n",
              "    </div>\n",
              "  </div>\n",
              "  "
            ]
          },
          "metadata": {},
          "execution_count": 4
        }
      ]
    },
    {
      "cell_type": "code",
      "execution_count": 5,
      "metadata": {
        "colab": {
          "base_uri": "https://localhost:8080/"
        },
        "id": "fJ6AxYjonHRO",
        "outputId": "c7742d0c-0368-43eb-e43e-b0e6bfd0b6f0"
      },
      "outputs": [
        {
          "output_type": "execute_result",
          "data": {
            "text/plain": [
              "(452, 15)"
            ]
          },
          "metadata": {},
          "execution_count": 5
        }
      ],
      "source": [
        "sleep.shape"
      ]
    },
    {
      "cell_type": "code",
      "execution_count": 6,
      "metadata": {
        "colab": {
          "base_uri": "https://localhost:8080/"
        },
        "id": "bxmVzFHfnHRQ",
        "outputId": "afb7aea8-db11-4df0-db48-d4479711df2c"
      },
      "outputs": [
        {
          "output_type": "stream",
          "name": "stdout",
          "text": [
            "<class 'pandas.core.frame.DataFrame'>\n",
            "RangeIndex: 452 entries, 0 to 451\n",
            "Data columns (total 15 columns):\n",
            " #   Column                  Non-Null Count  Dtype  \n",
            "---  ------                  --------------  -----  \n",
            " 0   ID                      452 non-null    int64  \n",
            " 1   Age                     452 non-null    int64  \n",
            " 2   Gender                  452 non-null    object \n",
            " 3   Bedtime                 452 non-null    object \n",
            " 4   Wakeup time             452 non-null    object \n",
            " 5   Sleep duration          452 non-null    float64\n",
            " 6   Sleep efficiency        452 non-null    float64\n",
            " 7   REM sleep percentage    452 non-null    int64  \n",
            " 8   Deep sleep percentage   452 non-null    int64  \n",
            " 9   Light sleep percentage  452 non-null    int64  \n",
            " 10  Awakenings              432 non-null    float64\n",
            " 11  Caffeine consumption    427 non-null    float64\n",
            " 12  Alcohol consumption     436 non-null    float64\n",
            " 13  Smoking status          452 non-null    object \n",
            " 14  Exercise frequency      446 non-null    float64\n",
            "dtypes: float64(6), int64(5), object(4)\n",
            "memory usage: 53.1+ KB\n"
          ]
        }
      ],
      "source": [
        "# Information on dataframe\n",
        "sleep.info()"
      ]
    },
    {
      "cell_type": "code",
      "execution_count": 7,
      "metadata": {
        "scrolled": false,
        "colab": {
          "base_uri": "https://localhost:8080/",
          "height": 362
        },
        "id": "JkyXftRsnHRR",
        "outputId": "82995961-6569-4f2d-e1a7-55bad48455db"
      },
      "outputs": [
        {
          "output_type": "execute_result",
          "data": {
            "text/plain": [
              "               ID         Age  Sleep duration  Sleep efficiency  \\\n",
              "count  452.000000  452.000000      452.000000        452.000000   \n",
              "mean   226.500000   40.285398        7.465708          0.788916   \n",
              "std    130.625419   13.172250        0.866625          0.135237   \n",
              "min      1.000000    9.000000        5.000000          0.500000   \n",
              "25%    113.750000   29.000000        7.000000          0.697500   \n",
              "50%    226.500000   40.000000        7.500000          0.820000   \n",
              "75%    339.250000   52.000000        8.000000          0.900000   \n",
              "max    452.000000   69.000000       10.000000          0.990000   \n",
              "\n",
              "       REM sleep percentage  Deep sleep percentage  Light sleep percentage  \\\n",
              "count            452.000000             452.000000              452.000000   \n",
              "mean              23.002212              52.960177               24.831858   \n",
              "std                3.972466              15.561713               15.150774   \n",
              "min               15.000000              20.000000                7.000000   \n",
              "25%               20.000000              51.250000               15.000000   \n",
              "50%               22.000000              60.000000               18.000000   \n",
              "75%               27.000000              63.000000               27.250000   \n",
              "max               30.000000              75.000000               56.000000   \n",
              "\n",
              "       Awakenings  Caffeine consumption  Alcohol consumption  \\\n",
              "count  432.000000            427.000000           436.000000   \n",
              "mean     1.641204             23.653396             1.245413   \n",
              "std      1.356762             30.202785             1.643336   \n",
              "min      0.000000              0.000000             0.000000   \n",
              "25%      1.000000              0.000000             0.000000   \n",
              "50%      1.000000             25.000000             0.000000   \n",
              "75%      3.000000             50.000000             2.000000   \n",
              "max      4.000000            200.000000             5.000000   \n",
              "\n",
              "       Exercise frequency  \n",
              "count          446.000000  \n",
              "mean             1.791480  \n",
              "std              1.428134  \n",
              "min              0.000000  \n",
              "25%              0.000000  \n",
              "50%              2.000000  \n",
              "75%              3.000000  \n",
              "max              5.000000  "
            ],
            "text/html": [
              "\n",
              "  <div id=\"df-2d54109e-68d6-4eed-b206-639e25e79f9a\">\n",
              "    <div class=\"colab-df-container\">\n",
              "      <div>\n",
              "<style scoped>\n",
              "    .dataframe tbody tr th:only-of-type {\n",
              "        vertical-align: middle;\n",
              "    }\n",
              "\n",
              "    .dataframe tbody tr th {\n",
              "        vertical-align: top;\n",
              "    }\n",
              "\n",
              "    .dataframe thead th {\n",
              "        text-align: right;\n",
              "    }\n",
              "</style>\n",
              "<table border=\"1\" class=\"dataframe\">\n",
              "  <thead>\n",
              "    <tr style=\"text-align: right;\">\n",
              "      <th></th>\n",
              "      <th>ID</th>\n",
              "      <th>Age</th>\n",
              "      <th>Sleep duration</th>\n",
              "      <th>Sleep efficiency</th>\n",
              "      <th>REM sleep percentage</th>\n",
              "      <th>Deep sleep percentage</th>\n",
              "      <th>Light sleep percentage</th>\n",
              "      <th>Awakenings</th>\n",
              "      <th>Caffeine consumption</th>\n",
              "      <th>Alcohol consumption</th>\n",
              "      <th>Exercise frequency</th>\n",
              "    </tr>\n",
              "  </thead>\n",
              "  <tbody>\n",
              "    <tr>\n",
              "      <th>count</th>\n",
              "      <td>452.000000</td>\n",
              "      <td>452.000000</td>\n",
              "      <td>452.000000</td>\n",
              "      <td>452.000000</td>\n",
              "      <td>452.000000</td>\n",
              "      <td>452.000000</td>\n",
              "      <td>452.000000</td>\n",
              "      <td>432.000000</td>\n",
              "      <td>427.000000</td>\n",
              "      <td>436.000000</td>\n",
              "      <td>446.000000</td>\n",
              "    </tr>\n",
              "    <tr>\n",
              "      <th>mean</th>\n",
              "      <td>226.500000</td>\n",
              "      <td>40.285398</td>\n",
              "      <td>7.465708</td>\n",
              "      <td>0.788916</td>\n",
              "      <td>23.002212</td>\n",
              "      <td>52.960177</td>\n",
              "      <td>24.831858</td>\n",
              "      <td>1.641204</td>\n",
              "      <td>23.653396</td>\n",
              "      <td>1.245413</td>\n",
              "      <td>1.791480</td>\n",
              "    </tr>\n",
              "    <tr>\n",
              "      <th>std</th>\n",
              "      <td>130.625419</td>\n",
              "      <td>13.172250</td>\n",
              "      <td>0.866625</td>\n",
              "      <td>0.135237</td>\n",
              "      <td>3.972466</td>\n",
              "      <td>15.561713</td>\n",
              "      <td>15.150774</td>\n",
              "      <td>1.356762</td>\n",
              "      <td>30.202785</td>\n",
              "      <td>1.643336</td>\n",
              "      <td>1.428134</td>\n",
              "    </tr>\n",
              "    <tr>\n",
              "      <th>min</th>\n",
              "      <td>1.000000</td>\n",
              "      <td>9.000000</td>\n",
              "      <td>5.000000</td>\n",
              "      <td>0.500000</td>\n",
              "      <td>15.000000</td>\n",
              "      <td>20.000000</td>\n",
              "      <td>7.000000</td>\n",
              "      <td>0.000000</td>\n",
              "      <td>0.000000</td>\n",
              "      <td>0.000000</td>\n",
              "      <td>0.000000</td>\n",
              "    </tr>\n",
              "    <tr>\n",
              "      <th>25%</th>\n",
              "      <td>113.750000</td>\n",
              "      <td>29.000000</td>\n",
              "      <td>7.000000</td>\n",
              "      <td>0.697500</td>\n",
              "      <td>20.000000</td>\n",
              "      <td>51.250000</td>\n",
              "      <td>15.000000</td>\n",
              "      <td>1.000000</td>\n",
              "      <td>0.000000</td>\n",
              "      <td>0.000000</td>\n",
              "      <td>0.000000</td>\n",
              "    </tr>\n",
              "    <tr>\n",
              "      <th>50%</th>\n",
              "      <td>226.500000</td>\n",
              "      <td>40.000000</td>\n",
              "      <td>7.500000</td>\n",
              "      <td>0.820000</td>\n",
              "      <td>22.000000</td>\n",
              "      <td>60.000000</td>\n",
              "      <td>18.000000</td>\n",
              "      <td>1.000000</td>\n",
              "      <td>25.000000</td>\n",
              "      <td>0.000000</td>\n",
              "      <td>2.000000</td>\n",
              "    </tr>\n",
              "    <tr>\n",
              "      <th>75%</th>\n",
              "      <td>339.250000</td>\n",
              "      <td>52.000000</td>\n",
              "      <td>8.000000</td>\n",
              "      <td>0.900000</td>\n",
              "      <td>27.000000</td>\n",
              "      <td>63.000000</td>\n",
              "      <td>27.250000</td>\n",
              "      <td>3.000000</td>\n",
              "      <td>50.000000</td>\n",
              "      <td>2.000000</td>\n",
              "      <td>3.000000</td>\n",
              "    </tr>\n",
              "    <tr>\n",
              "      <th>max</th>\n",
              "      <td>452.000000</td>\n",
              "      <td>69.000000</td>\n",
              "      <td>10.000000</td>\n",
              "      <td>0.990000</td>\n",
              "      <td>30.000000</td>\n",
              "      <td>75.000000</td>\n",
              "      <td>56.000000</td>\n",
              "      <td>4.000000</td>\n",
              "      <td>200.000000</td>\n",
              "      <td>5.000000</td>\n",
              "      <td>5.000000</td>\n",
              "    </tr>\n",
              "  </tbody>\n",
              "</table>\n",
              "</div>\n",
              "      <button class=\"colab-df-convert\" onclick=\"convertToInteractive('df-2d54109e-68d6-4eed-b206-639e25e79f9a')\"\n",
              "              title=\"Convert this dataframe to an interactive table.\"\n",
              "              style=\"display:none;\">\n",
              "        \n",
              "  <svg xmlns=\"http://www.w3.org/2000/svg\" height=\"24px\"viewBox=\"0 0 24 24\"\n",
              "       width=\"24px\">\n",
              "    <path d=\"M0 0h24v24H0V0z\" fill=\"none\"/>\n",
              "    <path d=\"M18.56 5.44l.94 2.06.94-2.06 2.06-.94-2.06-.94-.94-2.06-.94 2.06-2.06.94zm-11 1L8.5 8.5l.94-2.06 2.06-.94-2.06-.94L8.5 2.5l-.94 2.06-2.06.94zm10 10l.94 2.06.94-2.06 2.06-.94-2.06-.94-.94-2.06-.94 2.06-2.06.94z\"/><path d=\"M17.41 7.96l-1.37-1.37c-.4-.4-.92-.59-1.43-.59-.52 0-1.04.2-1.43.59L10.3 9.45l-7.72 7.72c-.78.78-.78 2.05 0 2.83L4 21.41c.39.39.9.59 1.41.59.51 0 1.02-.2 1.41-.59l7.78-7.78 2.81-2.81c.8-.78.8-2.07 0-2.86zM5.41 20L4 18.59l7.72-7.72 1.47 1.35L5.41 20z\"/>\n",
              "  </svg>\n",
              "      </button>\n",
              "      \n",
              "  <style>\n",
              "    .colab-df-container {\n",
              "      display:flex;\n",
              "      flex-wrap:wrap;\n",
              "      gap: 12px;\n",
              "    }\n",
              "\n",
              "    .colab-df-convert {\n",
              "      background-color: #E8F0FE;\n",
              "      border: none;\n",
              "      border-radius: 50%;\n",
              "      cursor: pointer;\n",
              "      display: none;\n",
              "      fill: #1967D2;\n",
              "      height: 32px;\n",
              "      padding: 0 0 0 0;\n",
              "      width: 32px;\n",
              "    }\n",
              "\n",
              "    .colab-df-convert:hover {\n",
              "      background-color: #E2EBFA;\n",
              "      box-shadow: 0px 1px 2px rgba(60, 64, 67, 0.3), 0px 1px 3px 1px rgba(60, 64, 67, 0.15);\n",
              "      fill: #174EA6;\n",
              "    }\n",
              "\n",
              "    [theme=dark] .colab-df-convert {\n",
              "      background-color: #3B4455;\n",
              "      fill: #D2E3FC;\n",
              "    }\n",
              "\n",
              "    [theme=dark] .colab-df-convert:hover {\n",
              "      background-color: #434B5C;\n",
              "      box-shadow: 0px 1px 3px 1px rgba(0, 0, 0, 0.15);\n",
              "      filter: drop-shadow(0px 1px 2px rgba(0, 0, 0, 0.3));\n",
              "      fill: #FFFFFF;\n",
              "    }\n",
              "  </style>\n",
              "\n",
              "      <script>\n",
              "        const buttonEl =\n",
              "          document.querySelector('#df-2d54109e-68d6-4eed-b206-639e25e79f9a button.colab-df-convert');\n",
              "        buttonEl.style.display =\n",
              "          google.colab.kernel.accessAllowed ? 'block' : 'none';\n",
              "\n",
              "        async function convertToInteractive(key) {\n",
              "          const element = document.querySelector('#df-2d54109e-68d6-4eed-b206-639e25e79f9a');\n",
              "          const dataTable =\n",
              "            await google.colab.kernel.invokeFunction('convertToInteractive',\n",
              "                                                     [key], {});\n",
              "          if (!dataTable) return;\n",
              "\n",
              "          const docLinkHtml = 'Like what you see? Visit the ' +\n",
              "            '<a target=\"_blank\" href=https://colab.research.google.com/notebooks/data_table.ipynb>data table notebook</a>'\n",
              "            + ' to learn more about interactive tables.';\n",
              "          element.innerHTML = '';\n",
              "          dataTable['output_type'] = 'display_data';\n",
              "          await google.colab.output.renderOutput(dataTable, element);\n",
              "          const docLink = document.createElement('div');\n",
              "          docLink.innerHTML = docLinkHtml;\n",
              "          element.appendChild(docLink);\n",
              "        }\n",
              "      </script>\n",
              "    </div>\n",
              "  </div>\n",
              "  "
            ]
          },
          "metadata": {},
          "execution_count": 7
        }
      ],
      "source": [
        "sleep.describe()"
      ]
    },
    {
      "cell_type": "markdown",
      "metadata": {
        "id": "txAx_sYknHRR"
      },
      "source": [
        "## Exploratory Data Analysis"
      ]
    },
    {
      "cell_type": "code",
      "execution_count": 8,
      "metadata": {
        "colab": {
          "base_uri": "https://localhost:8080/",
          "height": 564
        },
        "id": "ckgNCbwJnHRS",
        "outputId": "4e5377b0-98b6-46a8-c4ae-ece82eb1c202"
      },
      "outputs": [
        {
          "output_type": "display_data",
          "data": {
            "text/plain": [
              "<Figure size 800x600 with 1 Axes>"
            ],
            "image/png": "[encoded data removed]"
          },
          "metadata": {}
        }
      ],
      "source": [
        "# Creating a histogram of Distribution of Sleep Duration\n",
        "plt.figure(figsize=(8,6))\n",
        "plt.hist(sleep[\"Sleep duration\"])\n",
        "plt.xlabel(\"Sleep duration\")\n",
        "plt.ylabel(\"Frequency\")\n",
        "plt.title(\"Distribution of Sleep Duration\");"
      ]
    },
    {
      "cell_type": "code",
      "execution_count": 9,
      "metadata": {
        "colab": {
          "base_uri": "https://localhost:8080/",
          "height": 564
        },
        "id": "nUeXme7FnHRT",
        "outputId": "d2deacc7-fe60-40f3-9691-ac5a98566b00"
      },
      "outputs": [
        {
          "output_type": "display_data",
          "data": {
            "text/plain": [
              "<Figure size 800x600 with 1 Axes>"
            ],
            "image/png": "[encoded data removed]"
          },
          "metadata": {}
        }
      ],
      "source": [
        "# Creating a histogram of Distribution of Sleep efficiency\n",
        "plt.figure(figsize=(8,6))\n",
        "plt.hist(sleep[\"Sleep efficiency\"])\n",
        "plt.xlabel(\"Sleep efficiency\")\n",
        "plt.ylabel(\"Frequency\")\n",
        "plt.title(\"Distribution of Sleep efficiency\");"
      ]
    },
    {
      "cell_type": "code",
      "execution_count": 10,
      "metadata": {
        "id": "_IsIIQCRnHRT"
      },
      "outputs": [],
      "source": [
        "sleep['REM sleep percentage'] = sleep['REM sleep percentage']/100\n",
        "sleep['Deep sleep percentage'] = sleep['Deep sleep percentage']/100\n",
        "sleep['Light sleep percentage'] = sleep['Light sleep percentage']/100"
      ]
    },
    {
      "cell_type": "code",
      "execution_count": 11,
      "metadata": {
        "colab": {
          "base_uri": "https://localhost:8080/",
          "height": 143
        },
        "id": "xQUpmlbRnHRU",
        "outputId": "c72d1a11-9497-4f22-9bd4-1bb6eb0d261e"
      },
      "outputs": [
        {
          "output_type": "execute_result",
          "data": {
            "text/plain": [
              "        Sleep efficiency  REM sleep percentage  Deep sleep percentage  \\\n",
              "Gender                                                                  \n",
              "Female          0.787545              0.236205               0.519911   \n",
              "Male            0.790263              0.223947               0.539123   \n",
              "\n",
              "        Light sleep percentage  Sleep duration  \n",
              "Gender                                          \n",
              "Female                0.255357        7.504464  \n",
              "Male                  0.241404        7.427632  "
            ],
            "text/html": [
              "\n",
              "  <div id=\"df-323ece95-763e-44fc-80f5-77073f9296d5\">\n",
              "    <div class=\"colab-df-container\">\n",
              "      <div>\n",
              "<style scoped>\n",
              "    .dataframe tbody tr th:only-of-type {\n",
              "        vertical-align: middle;\n",
              "    }\n",
              "\n",
              "    .dataframe tbody tr th {\n",
              "        vertical-align: top;\n",
              "    }\n",
              "\n",
              "    .dataframe thead th {\n",
              "        text-align: right;\n",
              "    }\n",
              "</style>\n",
              "<table border=\"1\" class=\"dataframe\">\n",
              "  <thead>\n",
              "    <tr style=\"text-align: right;\">\n",
              "      <th></th>\n",
              "      <th>Sleep efficiency</th>\n",
              "      <th>REM sleep percentage</th>\n",
              "      <th>Deep sleep percentage</th>\n",
              "      <th>Light sleep percentage</th>\n",
              "      <th>Sleep duration</th>\n",
              "    </tr>\n",
              "    <tr>\n",
              "      <th>Gender</th>\n",
              "      <th></th>\n",
              "      <th></th>\n",
              "      <th></th>\n",
              "      <th></th>\n",
              "      <th></th>\n",
              "    </tr>\n",
              "  </thead>\n",
              "  <tbody>\n",
              "    <tr>\n",
              "      <th>Female</th>\n",
              "      <td>0.787545</td>\n",
              "      <td>0.236205</td>\n",
              "      <td>0.519911</td>\n",
              "      <td>0.255357</td>\n",
              "      <td>7.504464</td>\n",
              "    </tr>\n",
              "    <tr>\n",
              "      <th>Male</th>\n",
              "      <td>0.790263</td>\n",
              "      <td>0.223947</td>\n",
              "      <td>0.539123</td>\n",
              "      <td>0.241404</td>\n",
              "      <td>7.427632</td>\n",
              "    </tr>\n",
              "  </tbody>\n",
              "</table>\n",
              "</div>\n",
              "      <button class=\"colab-df-convert\" onclick=\"convertToInteractive('df-323ece95-763e-44fc-80f5-77073f9296d5')\"\n",
              "              title=\"Convert this dataframe to an interactive table.\"\n",
              "              style=\"display:none;\">\n",
              "        \n",
              "  <svg xmlns=\"http://www.w3.org/2000/svg\" height=\"24px\"viewBox=\"0 0 24 24\"\n",
              "       width=\"24px\">\n",
              "    <path d=\"M0 0h24v24H0V0z\" fill=\"none\"/>\n",
              "    <path d=\"M18.56 5.44l.94 2.06.94-2.06 2.06-.94-2.06-.94-.94-2.06-.94 2.06-2.06.94zm-11 1L8.5 8.5l.94-2.06 2.06-.94-2.06-.94L8.5 2.5l-.94 2.06-2.06.94zm10 10l.94 2.06.94-2.06 2.06-.94-2.06-.94-.94-2.06-.94 2.06-2.06.94z\"/><path d=\"M17.41 7.96l-1.37-1.37c-.4-.4-.92-.59-1.43-.59-.52 0-1.04.2-1.43.59L10.3 9.45l-7.72 7.72c-.78.78-.78 2.05 0 2.83L4 21.41c.39.39.9.59 1.41.59.51 0 1.02-.2 1.41-.59l7.78-7.78 2.81-2.81c.8-.78.8-2.07 0-2.86zM5.41 20L4 18.59l7.72-7.72 1.47 1.35L5.41 20z\"/>\n",
              "  </svg>\n",
              "      </button>\n",
              "      \n",
              "  <style>\n",
              "    .colab-df-container {\n",
              "      display:flex;\n",
              "      flex-wrap:wrap;\n",
              "      gap: 12px;\n",
              "    }\n",
              "\n",
              "    .colab-df-convert {\n",
              "      background-color: #E8F0FE;\n",
              "      border: none;\n",
              "      border-radius: 50%;\n",
              "      cursor: pointer;\n",
              "      display: none;\n",
              "      fill: #1967D2;\n",
              "      height: 32px;\n",
              "      padding: 0 0 0 0;\n",
              "      width: 32px;\n",
              "    }\n",
              "\n",
              "    .colab-df-convert:hover {\n",
              "      background-color: #E2EBFA;\n",
              "      box-shadow: 0px 1px 2px rgba(60, 64, 67, 0.3), 0px 1px 3px 1px rgba(60, 64, 67, 0.15);\n",
              "      fill: #174EA6;\n",
              "    }\n",
              "\n",
              "    [theme=dark] .colab-df-convert {\n",
              "      background-color: #3B4455;\n",
              "      fill: #D2E3FC;\n",
              "    }\n",
              "\n",
              "    [theme=dark] .colab-df-convert:hover {\n",
              "      background-color: #434B5C;\n",
              "      box-shadow: 0px 1px 3px 1px rgba(0, 0, 0, 0.15);\n",
              "      filter: drop-shadow(0px 1px 2px rgba(0, 0, 0, 0.3));\n",
              "      fill: #FFFFFF;\n",
              "    }\n",
              "  </style>\n",
              "\n",
              "      <script>\n",
              "        const buttonEl =\n",
              "          document.querySelector('#df-323ece95-763e-44fc-80f5-77073f9296d5 button.colab-df-convert');\n",
              "        buttonEl.style.display =\n",
              "          google.colab.kernel.accessAllowed ? 'block' : 'none';\n",
              "\n",
              "        async function convertToInteractive(key) {\n",
              "          const element = document.querySelector('#df-323ece95-763e-44fc-80f5-77073f9296d5');\n",
              "          const dataTable =\n",
              "            await google.colab.kernel.invokeFunction('convertToInteractive',\n",
              "                                                     [key], {});\n",
              "          if (!dataTable) return;\n",
              "\n",
              "          const docLinkHtml = 'Like what you see? Visit the ' +\n",
              "            '<a target=\"_blank\" href=https://colab.research.google.com/notebooks/data_table.ipynb>data table notebook</a>'\n",
              "            + ' to learn more about interactive tables.';\n",
              "          element.innerHTML = '';\n",
              "          dataTable['output_type'] = 'display_data';\n",
              "          await google.colab.output.renderOutput(dataTable, element);\n",
              "          const docLink = document.createElement('div');\n",
              "          docLink.innerHTML = docLinkHtml;\n",
              "          element.appendChild(docLink);\n",
              "        }\n",
              "      </script>\n",
              "    </div>\n",
              "  </div>\n",
              "  "
            ]
          },
          "metadata": {},
          "execution_count": 11
        }
      ],
      "source": [
        "gender_group = sleep.groupby('Gender')['Sleep efficiency', 'REM sleep percentage',\n",
        "                                       'Deep sleep percentage', 'Light sleep percentage', 'Sleep duration'].mean() \n",
        "gender_group"
      ]
    },
    {
      "cell_type": "code",
      "execution_count": 12,
      "metadata": {
        "colab": {
          "base_uri": "https://localhost:8080/",
          "height": 486
        },
        "id": "Yl-C-OhonHRU",
        "outputId": "57a6a642-0bcd-4840-8517-3da5795d40ca"
      },
      "outputs": [
        {
          "output_type": "display_data",
          "data": {
            "text/plain": [
              "<Figure size 640x480 with 1 Axes>"
            ],
            "image/png": "[encoded data removed]"
          },
          "metadata": {}
        }
      ],
      "source": [
        "gender_group.drop(columns=['Sleep duration']).plot(kind=\"bar\");"
      ]
    },
    {
      "cell_type": "markdown",
      "metadata": {
        "id": "R4UxpyFRnHRV"
      },
      "source": [
        "### From the plot above plot, it is clear that the gender of a person has very little impact on the Sleep efficiency and general sleep percentage"
      ]
    },
    {
      "cell_type": "code",
      "execution_count": 13,
      "metadata": {
        "colab": {
          "base_uri": "https://localhost:8080/",
          "height": 291
        },
        "id": "rLDQPEudnHRV",
        "outputId": "1d77366a-8bc4-489a-a580-61e4b319a25c"
      },
      "outputs": [
        {
          "output_type": "display_data",
          "data": {
            "text/plain": [
              "<Figure size 600x300 with 1 Axes>"
            ],
            "image/png": "[encoded data removed]"
          },
          "metadata": {}
        }
      ],
      "source": [
        "gender_group[['Sleep duration']].plot(kind='barh', figsize=(6,3));"
      ]
    },
    {
      "cell_type": "code",
      "execution_count": 14,
      "metadata": {
        "id": "xg2u8UcEnHRW"
      },
      "outputs": [],
      "source": [
        "# Sleep duration is also about the same in both males and females."
      ]
    },
    {
      "cell_type": "markdown",
      "metadata": {
        "id": "r_rouuDqnHRW"
      },
      "source": [
        "### Performing Age binning to check distribution of Sleep efficiency among different age groups."
      ]
    },
    {
      "cell_type": "code",
      "execution_count": 15,
      "metadata": {
        "colab": {
          "base_uri": "https://localhost:8080/"
        },
        "id": "F3VEt4-CnHRW",
        "outputId": "ee6df1df-27dd-43f0-f194-3834ea3fb5d6"
      },
      "outputs": [
        {
          "output_type": "execute_result",
          "data": {
            "text/plain": [
              "(9, 69)"
            ]
          },
          "metadata": {},
          "execution_count": 15
        }
      ],
      "source": [
        "min(sleep['Age']), max(sleep['Age'])"
      ]
    },
    {
      "cell_type": "code",
      "execution_count": 16,
      "metadata": {
        "id": "6evskTTBnHRX"
      },
      "outputs": [],
      "source": [
        "age_bins = [9, 12, 19, 29, 39, 49, 59, 70]\n",
        "group_names = [\"Child\", \"Teen\", \"20+\", \"30+\", \"40+\", \"50+\", \"60+\"]"
      ]
    },
    {
      "cell_type": "code",
      "execution_count": 17,
      "metadata": {
        "colab": {
          "base_uri": "https://localhost:8080/",
          "height": 206
        },
        "id": "l6p16-B-nHRX",
        "outputId": "92665418-9277-4211-87e4-99aa78293e87"
      },
      "outputs": [
        {
          "output_type": "execute_result",
          "data": {
            "text/plain": [
              "   Age age-binned\n",
              "0   65        60+\n",
              "1   69        60+\n",
              "2   40        40+\n",
              "3   40        40+\n",
              "4   57        50+"
            ],
            "text/html": [
              "\n",
              "  <div id=\"df-b0759069-5666-4046-93d5-567b2d4652fa\">\n",
              "    <div class=\"colab-df-container\">\n",
              "      <div>\n",
              "<style scoped>\n",
              "    .dataframe tbody tr th:only-of-type {\n",
              "        vertical-align: middle;\n",
              "    }\n",
              "\n",
              "    .dataframe tbody tr th {\n",
              "        vertical-align: top;\n",
              "    }\n",
              "\n",
              "    .dataframe thead th {\n",
              "        text-align: right;\n",
              "    }\n",
              "</style>\n",
              "<table border=\"1\" class=\"dataframe\">\n",
              "  <thead>\n",
              "    <tr style=\"text-align: right;\">\n",
              "      <th></th>\n",
              "      <th>Age</th>\n",
              "      <th>age-binned</th>\n",
              "    </tr>\n",
              "  </thead>\n",
              "  <tbody>\n",
              "    <tr>\n",
              "      <th>0</th>\n",
              "      <td>65</td>\n",
              "      <td>60+</td>\n",
              "    </tr>\n",
              "    <tr>\n",
              "      <th>1</th>\n",
              "      <td>69</td>\n",
              "      <td>60+</td>\n",
              "    </tr>\n",
              "    <tr>\n",
              "      <th>2</th>\n",
              "      <td>40</td>\n",
              "      <td>40+</td>\n",
              "    </tr>\n",
              "    <tr>\n",
              "      <th>3</th>\n",
              "      <td>40</td>\n",
              "      <td>40+</td>\n",
              "    </tr>\n",
              "    <tr>\n",
              "      <th>4</th>\n",
              "      <td>57</td>\n",
              "      <td>50+</td>\n",
              "    </tr>\n",
              "  </tbody>\n",
              "</table>\n",
              "</div>\n",
              "      <button class=\"colab-df-convert\" onclick=\"convertToInteractive('df-b0759069-5666-4046-93d5-567b2d4652fa')\"\n",
              "              title=\"Convert this dataframe to an interactive table.\"\n",
              "              style=\"display:none;\">\n",
              "        \n",
              "  <svg xmlns=\"http://www.w3.org/2000/svg\" height=\"24px\"viewBox=\"0 0 24 24\"\n",
              "       width=\"24px\">\n",
              "    <path d=\"M0 0h24v24H0V0z\" fill=\"none\"/>\n",
              "    <path d=\"M18.56 5.44l.94 2.06.94-2.06 2.06-.94-2.06-.94-.94-2.06-.94 2.06-2.06.94zm-11 1L8.5 8.5l.94-2.06 2.06-.94-2.06-.94L8.5 2.5l-.94 2.06-2.06.94zm10 10l.94 2.06.94-2.06 2.06-.94-2.06-.94-.94-2.06-.94 2.06-2.06.94z\"/><path d=\"M17.41 7.96l-1.37-1.37c-.4-.4-.92-.59-1.43-.59-.52 0-1.04.2-1.43.59L10.3 9.45l-7.72 7.72c-.78.78-.78 2.05 0 2.83L4 21.41c.39.39.9.59 1.41.59.51 0 1.02-.2 1.41-.59l7.78-7.78 2.81-2.81c.8-.78.8-2.07 0-2.86zM5.41 20L4 18.59l7.72-7.72 1.47 1.35L5.41 20z\"/>\n",
              "  </svg>\n",
              "      </button>\n",
              "      \n",
              "  <style>\n",
              "    .colab-df-container {\n",
              "      display:flex;\n",
              "      flex-wrap:wrap;\n",
              "      gap: 12px;\n",
              "    }\n",
              "\n",
              "    .colab-df-convert {\n",
              "      background-color: #E8F0FE;\n",
              "      border: none;\n",
              "      border-radius: 50%;\n",
              "      cursor: pointer;\n",
              "      display: none;\n",
              "      fill: #1967D2;\n",
              "      height: 32px;\n",
              "      padding: 0 0 0 0;\n",
              "      width: 32px;\n",
              "    }\n",
              "\n",
              "    .colab-df-convert:hover {\n",
              "      background-color: #E2EBFA;\n",
              "      box-shadow: 0px 1px 2px rgba(60, 64, 67, 0.3), 0px 1px 3px 1px rgba(60, 64, 67, 0.15);\n",
              "      fill: #174EA6;\n",
              "    }\n",
              "\n",
              "    [theme=dark] .colab-df-convert {\n",
              "      background-color: #3B4455;\n",
              "      fill: #D2E3FC;\n",
              "    }\n",
              "\n",
              "    [theme=dark] .colab-df-convert:hover {\n",
              "      background-color: #434B5C;\n",
              "      box-shadow: 0px 1px 3px 1px rgba(0, 0, 0, 0.15);\n",
              "      filter: drop-shadow(0px 1px 2px rgba(0, 0, 0, 0.3));\n",
              "      fill: #FFFFFF;\n",
              "    }\n",
              "  </style>\n",
              "\n",
              "      <script>\n",
              "        const buttonEl =\n",
              "          document.querySelector('#df-b0759069-5666-4046-93d5-567b2d4652fa button.colab-df-convert');\n",
              "        buttonEl.style.display =\n",
              "          google.colab.kernel.accessAllowed ? 'block' : 'none';\n",
              "\n",
              "        async function convertToInteractive(key) {\n",
              "          const element = document.querySelector('#df-b0759069-5666-4046-93d5-567b2d4652fa');\n",
              "          const dataTable =\n",
              "            await google.colab.kernel.invokeFunction('convertToInteractive',\n",
              "                                                     [key], {});\n",
              "          if (!dataTable) return;\n",
              "\n",
              "          const docLinkHtml = 'Like what you see? Visit the ' +\n",
              "            '<a target=\"_blank\" href=https://colab.research.google.com/notebooks/data_table.ipynb>data table notebook</a>'\n",
              "            + ' to learn more about interactive tables.';\n",
              "          element.innerHTML = '';\n",
              "          dataTable['output_type'] = 'display_data';\n",
              "          await google.colab.output.renderOutput(dataTable, element);\n",
              "          const docLink = document.createElement('div');\n",
              "          docLink.innerHTML = docLinkHtml;\n",
              "          element.appendChild(docLink);\n",
              "        }\n",
              "      </script>\n",
              "    </div>\n",
              "  </div>\n",
              "  "
            ]
          },
          "metadata": {},
          "execution_count": 17
        }
      ],
      "source": [
        "sleep[\"age-binned\"] = pd.cut(sleep[\"Age\"], age_bins, labels=group_names, include_lowest = True)\n",
        "sleep[['Age', 'age-binned']].head()"
      ]
    },
    {
      "cell_type": "code",
      "execution_count": 18,
      "metadata": {
        "colab": {
          "base_uri": "https://localhost:8080/",
          "height": 300
        },
        "id": "AXNRY-konHRY",
        "outputId": "61afb103-5232-4c39-ab30-0e28167ca385"
      },
      "outputs": [
        {
          "output_type": "execute_result",
          "data": {
            "text/plain": [
              "            Sleep efficiency  Sleep duration\n",
              "age-binned                                  \n",
              "Child               0.542500        8.375000\n",
              "Teen                0.719231        7.807692\n",
              "20+                 0.766509        7.415094\n",
              "30+                 0.813474        7.568421\n",
              "40+                 0.807347        7.367347\n",
              "50+                 0.801569        7.392157\n",
              "60+                 0.754706        7.602941"
            ],
            "text/html": [
              "\n",
              "  <div id=\"df-51a13334-b442-4821-9f42-96b459e3155e\">\n",
              "    <div class=\"colab-df-container\">\n",
              "      <div>\n",
              "<style scoped>\n",
              "    .dataframe tbody tr th:only-of-type {\n",
              "        vertical-align: middle;\n",
              "    }\n",
              "\n",
              "    .dataframe tbody tr th {\n",
              "        vertical-align: top;\n",
              "    }\n",
              "\n",
              "    .dataframe thead th {\n",
              "        text-align: right;\n",
              "    }\n",
              "</style>\n",
              "<table border=\"1\" class=\"dataframe\">\n",
              "  <thead>\n",
              "    <tr style=\"text-align: right;\">\n",
              "      <th></th>\n",
              "      <th>Sleep efficiency</th>\n",
              "      <th>Sleep duration</th>\n",
              "    </tr>\n",
              "    <tr>\n",
              "      <th>age-binned</th>\n",
              "      <th></th>\n",
              "      <th></th>\n",
              "    </tr>\n",
              "  </thead>\n",
              "  <tbody>\n",
              "    <tr>\n",
              "      <th>Child</th>\n",
              "      <td>0.542500</td>\n",
              "      <td>8.375000</td>\n",
              "    </tr>\n",
              "    <tr>\n",
              "      <th>Teen</th>\n",
              "      <td>0.719231</td>\n",
              "      <td>7.807692</td>\n",
              "    </tr>\n",
              "    <tr>\n",
              "      <th>20+</th>\n",
              "      <td>0.766509</td>\n",
              "      <td>7.415094</td>\n",
              "    </tr>\n",
              "    <tr>\n",
              "      <th>30+</th>\n",
              "      <td>0.813474</td>\n",
              "      <td>7.568421</td>\n",
              "    </tr>\n",
              "    <tr>\n",
              "      <th>40+</th>\n",
              "      <td>0.807347</td>\n",
              "      <td>7.367347</td>\n",
              "    </tr>\n",
              "    <tr>\n",
              "      <th>50+</th>\n",
              "      <td>0.801569</td>\n",
              "      <td>7.392157</td>\n",
              "    </tr>\n",
              "    <tr>\n",
              "      <th>60+</th>\n",
              "      <td>0.754706</td>\n",
              "      <td>7.602941</td>\n",
              "    </tr>\n",
              "  </tbody>\n",
              "</table>\n",
              "</div>\n",
              "      <button class=\"colab-df-convert\" onclick=\"convertToInteractive('df-51a13334-b442-4821-9f42-96b459e3155e')\"\n",
              "              title=\"Convert this dataframe to an interactive table.\"\n",
              "              style=\"display:none;\">\n",
              "        \n",
              "  <svg xmlns=\"http://www.w3.org/2000/svg\" height=\"24px\"viewBox=\"0 0 24 24\"\n",
              "       width=\"24px\">\n",
              "    <path d=\"M0 0h24v24H0V0z\" fill=\"none\"/>\n",
              "    <path d=\"M18.56 5.44l.94 2.06.94-2.06 2.06-.94-2.06-.94-.94-2.06-.94 2.06-2.06.94zm-11 1L8.5 8.5l.94-2.06 2.06-.94-2.06-.94L8.5 2.5l-.94 2.06-2.06.94zm10 10l.94 2.06.94-2.06 2.06-.94-2.06-.94-.94-2.06-.94 2.06-2.06.94z\"/><path d=\"M17.41 7.96l-1.37-1.37c-.4-.4-.92-.59-1.43-.59-.52 0-1.04.2-1.43.59L10.3 9.45l-7.72 7.72c-.78.78-.78 2.05 0 2.83L4 21.41c.39.39.9.59 1.41.59.51 0 1.02-.2 1.41-.59l7.78-7.78 2.81-2.81c.8-.78.8-2.07 0-2.86zM5.41 20L4 18.59l7.72-7.72 1.47 1.35L5.41 20z\"/>\n",
              "  </svg>\n",
              "      </button>\n",
              "      \n",
              "  <style>\n",
              "    .colab-df-container {\n",
              "      display:flex;\n",
              "      flex-wrap:wrap;\n",
              "      gap: 12px;\n",
              "    }\n",
              "\n",
              "    .colab-df-convert {\n",
              "      background-color: #E8F0FE;\n",
              "      border: none;\n",
              "      border-radius: 50%;\n",
              "      cursor: pointer;\n",
              "      display: none;\n",
              "      fill: #1967D2;\n",
              "      height: 32px;\n",
              "      padding: 0 0 0 0;\n",
              "      width: 32px;\n",
              "    }\n",
              "\n",
              "    .colab-df-convert:hover {\n",
              "      background-color: #E2EBFA;\n",
              "      box-shadow: 0px 1px 2px rgba(60, 64, 67, 0.3), 0px 1px 3px 1px rgba(60, 64, 67, 0.15);\n",
              "      fill: #174EA6;\n",
              "    }\n",
              "\n",
              "    [theme=dark] .colab-df-convert {\n",
              "      background-color: #3B4455;\n",
              "      fill: #D2E3FC;\n",
              "    }\n",
              "\n",
              "    [theme=dark] .colab-df-convert:hover {\n",
              "      background-color: #434B5C;\n",
              "      box-shadow: 0px 1px 3px 1px rgba(0, 0, 0, 0.15);\n",
              "      filter: drop-shadow(0px 1px 2px rgba(0, 0, 0, 0.3));\n",
              "      fill: #FFFFFF;\n",
              "    }\n",
              "  </style>\n",
              "\n",
              "      <script>\n",
              "        const buttonEl =\n",
              "          document.querySelector('#df-51a13334-b442-4821-9f42-96b459e3155e button.colab-df-convert');\n",
              "        buttonEl.style.display =\n",
              "          google.colab.kernel.accessAllowed ? 'block' : 'none';\n",
              "\n",
              "        async function convertToInteractive(key) {\n",
              "          const element = document.querySelector('#df-51a13334-b442-4821-9f42-96b459e3155e');\n",
              "          const dataTable =\n",
              "            await google.colab.kernel.invokeFunction('convertToInteractive',\n",
              "                                                     [key], {});\n",
              "          if (!dataTable) return;\n",
              "\n",
              "          const docLinkHtml = 'Like what you see? Visit the ' +\n",
              "            '<a target=\"_blank\" href=https://colab.research.google.com/notebooks/data_table.ipynb>data table notebook</a>'\n",
              "            + ' to learn more about interactive tables.';\n",
              "          element.innerHTML = '';\n",
              "          dataTable['output_type'] = 'display_data';\n",
              "          await google.colab.output.renderOutput(dataTable, element);\n",
              "          const docLink = document.createElement('div');\n",
              "          docLink.innerHTML = docLinkHtml;\n",
              "          element.appendChild(docLink);\n",
              "        }\n",
              "      </script>\n",
              "    </div>\n",
              "  </div>\n",
              "  "
            ]
          },
          "metadata": {},
          "execution_count": 18
        }
      ],
      "source": [
        "age_groups = sleep.groupby('age-binned')['Sleep efficiency', 'Sleep duration'].mean()\n",
        "age_groups"
      ]
    },
    {
      "cell_type": "code",
      "execution_count": 19,
      "metadata": {
        "colab": {
          "base_uri": "https://localhost:8080/",
          "height": 471
        },
        "id": "OZ1M44MVnHRZ",
        "outputId": "f6ce71d9-924a-437f-9b7f-fa7e13ac4a14"
      },
      "outputs": [
        {
          "output_type": "display_data",
          "data": {
            "text/plain": [
              "<Figure size 640x480 with 1 Axes>"
            ],
            "image/png": "[encoded data removed]"
          },
          "metadata": {}
        }
      ],
      "source": [
        "age_groups.plot(kind='bar', y='Sleep efficiency');"
      ]
    },
    {
      "cell_type": "markdown",
      "metadata": {
        "id": "928B100anHRZ"
      },
      "source": [
        "### While Sleep efficiency describes the percentage of sleep time actually spent sleeping, the dataset shows that Sleep efficiency increases to over 80% in age bracket of 40+ from around 50% in children before gradually decreasing as age increases further."
      ]
    },
    {
      "cell_type": "markdown",
      "metadata": {
        "id": "KYKDUgbgnHRa"
      },
      "source": [
        "### Sleep duration among age groups"
      ]
    },
    {
      "cell_type": "code",
      "execution_count": 20,
      "metadata": {
        "colab": {
          "base_uri": "https://localhost:8080/",
          "height": 471
        },
        "id": "f4C6ZB31nHRa",
        "outputId": "990c750a-04c2-4f8f-913a-0daabb5a020e"
      },
      "outputs": [
        {
          "output_type": "display_data",
          "data": {
            "text/plain": [
              "<Figure size 640x480 with 1 Axes>"
            ],
            "image/png": "[encoded data removed]"
          },
          "metadata": {}
        }
      ],
      "source": [
        "age_groups.plot(kind='bar', y='Sleep duration', colormap='cividis');"
      ]
    },
    {
      "cell_type": "markdown",
      "metadata": {
        "id": "nfUKonWQnHRb"
      },
      "source": [
        "### Sleep efficiency among smokers"
      ]
    },
    {
      "cell_type": "code",
      "execution_count": 21,
      "metadata": {
        "colab": {
          "base_uri": "https://localhost:8080/",
          "height": 143
        },
        "id": "5eO6tOTvnHRb",
        "outputId": "491d7a52-944e-4a48-ff3a-7d999bb883ab"
      },
      "outputs": [
        {
          "output_type": "execute_result",
          "data": {
            "text/plain": [
              "                Sleep efficiency\n",
              "Smoking status                  \n",
              "No                      0.822234\n",
              "Yes                     0.728696"
            ],
            "text/html": [
              "\n",
              "  <div id=\"df-bd68d30d-c03f-4ce7-8d58-020b7913c8ff\">\n",
              "    <div class=\"colab-df-container\">\n",
              "      <div>\n",
              "<style scoped>\n",
              "    .dataframe tbody tr th:only-of-type {\n",
              "        vertical-align: middle;\n",
              "    }\n",
              "\n",
              "    .dataframe tbody tr th {\n",
              "        vertical-align: top;\n",
              "    }\n",
              "\n",
              "    .dataframe thead th {\n",
              "        text-align: right;\n",
              "    }\n",
              "</style>\n",
              "<table border=\"1\" class=\"dataframe\">\n",
              "  <thead>\n",
              "    <tr style=\"text-align: right;\">\n",
              "      <th></th>\n",
              "      <th>Sleep efficiency</th>\n",
              "    </tr>\n",
              "    <tr>\n",
              "      <th>Smoking status</th>\n",
              "      <th></th>\n",
              "    </tr>\n",
              "  </thead>\n",
              "  <tbody>\n",
              "    <tr>\n",
              "      <th>No</th>\n",
              "      <td>0.822234</td>\n",
              "    </tr>\n",
              "    <tr>\n",
              "      <th>Yes</th>\n",
              "      <td>0.728696</td>\n",
              "    </tr>\n",
              "  </tbody>\n",
              "</table>\n",
              "</div>\n",
              "      <button class=\"colab-df-convert\" onclick=\"convertToInteractive('df-bd68d30d-c03f-4ce7-8d58-020b7913c8ff')\"\n",
              "              title=\"Convert this dataframe to an interactive table.\"\n",
              "              style=\"display:none;\">\n",
              "        \n",
              "  <svg xmlns=\"http://www.w3.org/2000/svg\" height=\"24px\"viewBox=\"0 0 24 24\"\n",
              "       width=\"24px\">\n",
              "    <path d=\"M0 0h24v24H0V0z\" fill=\"none\"/>\n",
              "    <path d=\"M18.56 5.44l.94 2.06.94-2.06 2.06-.94-2.06-.94-.94-2.06-.94 2.06-2.06.94zm-11 1L8.5 8.5l.94-2.06 2.06-.94-2.06-.94L8.5 2.5l-.94 2.06-2.06.94zm10 10l.94 2.06.94-2.06 2.06-.94-2.06-.94-.94-2.06-.94 2.06-2.06.94z\"/><path d=\"M17.41 7.96l-1.37-1.37c-.4-.4-.92-.59-1.43-.59-.52 0-1.04.2-1.43.59L10.3 9.45l-7.72 7.72c-.78.78-.78 2.05 0 2.83L4 21.41c.39.39.9.59 1.41.59.51 0 1.02-.2 1.41-.59l7.78-7.78 2.81-2.81c.8-.78.8-2.07 0-2.86zM5.41 20L4 18.59l7.72-7.72 1.47 1.35L5.41 20z\"/>\n",
              "  </svg>\n",
              "      </button>\n",
              "      \n",
              "  <style>\n",
              "    .colab-df-container {\n",
              "      display:flex;\n",
              "      flex-wrap:wrap;\n",
              "      gap: 12px;\n",
              "    }\n",
              "\n",
              "    .colab-df-convert {\n",
              "      background-color: #E8F0FE;\n",
              "      border: none;\n",
              "      border-radius: 50%;\n",
              "      cursor: pointer;\n",
              "      display: none;\n",
              "      fill: #1967D2;\n",
              "      height: 32px;\n",
              "      padding: 0 0 0 0;\n",
              "      width: 32px;\n",
              "    }\n",
              "\n",
              "    .colab-df-convert:hover {\n",
              "      background-color: #E2EBFA;\n",
              "      box-shadow: 0px 1px 2px rgba(60, 64, 67, 0.3), 0px 1px 3px 1px rgba(60, 64, 67, 0.15);\n",
              "      fill: #174EA6;\n",
              "    }\n",
              "\n",
              "    [theme=dark] .colab-df-convert {\n",
              "      background-color: #3B4455;\n",
              "      fill: #D2E3FC;\n",
              "    }\n",
              "\n",
              "    [theme=dark] .colab-df-convert:hover {\n",
              "      background-color: #434B5C;\n",
              "      box-shadow: 0px 1px 3px 1px rgba(0, 0, 0, 0.15);\n",
              "      filter: drop-shadow(0px 1px 2px rgba(0, 0, 0, 0.3));\n",
              "      fill: #FFFFFF;\n",
              "    }\n",
              "  </style>\n",
              "\n",
              "      <script>\n",
              "        const buttonEl =\n",
              "          document.querySelector('#df-bd68d30d-c03f-4ce7-8d58-020b7913c8ff button.colab-df-convert');\n",
              "        buttonEl.style.display =\n",
              "          google.colab.kernel.accessAllowed ? 'block' : 'none';\n",
              "\n",
              "        async function convertToInteractive(key) {\n",
              "          const element = document.querySelector('#df-bd68d30d-c03f-4ce7-8d58-020b7913c8ff');\n",
              "          const dataTable =\n",
              "            await google.colab.kernel.invokeFunction('convertToInteractive',\n",
              "                                                     [key], {});\n",
              "          if (!dataTable) return;\n",
              "\n",
              "          const docLinkHtml = 'Like what you see? Visit the ' +\n",
              "            '<a target=\"_blank\" href=https://colab.research.google.com/notebooks/data_table.ipynb>data table notebook</a>'\n",
              "            + ' to learn more about interactive tables.';\n",
              "          element.innerHTML = '';\n",
              "          dataTable['output_type'] = 'display_data';\n",
              "          await google.colab.output.renderOutput(dataTable, element);\n",
              "          const docLink = document.createElement('div');\n",
              "          docLink.innerHTML = docLinkHtml;\n",
              "          element.appendChild(docLink);\n",
              "        }\n",
              "      </script>\n",
              "    </div>\n",
              "  </div>\n",
              "  "
            ]
          },
          "metadata": {},
          "execution_count": 21
        }
      ],
      "source": [
        "smoking_group = sleep.groupby('Smoking status')['Sleep efficiency', 'Smoking status'].mean()\n",
        "smoking_group"
      ]
    },
    {
      "cell_type": "code",
      "execution_count": 22,
      "metadata": {
        "colab": {
          "base_uri": "https://localhost:8080/",
          "height": 627
        },
        "id": "Ef9drAoNnHRb",
        "outputId": "93316776-79e8-457e-ba09-99fe28ae6aff"
      },
      "outputs": [
        {
          "output_type": "display_data",
          "data": {
            "text/plain": [
              "<Figure size 400x700 with 1 Axes>"
            ],
            "image/png": "[encoded data removed]"
          },
          "metadata": {}
        }
      ],
      "source": [
        "smoking_group.plot(kind='bar', figsize=(4,7));"
      ]
    },
    {
      "cell_type": "code",
      "execution_count": 23,
      "metadata": {
        "id": "BDi-gI8pnHRb"
      },
      "outputs": [],
      "source": [
        "## It is clear here that Smokers generally have a lower sleep efficiency compared to non-smokers. "
      ]
    },
    {
      "cell_type": "markdown",
      "metadata": {
        "id": "e9h7kAitnHRc"
      },
      "source": [
        "### Effect of Exercise on Sleep efficiency"
      ]
    },
    {
      "cell_type": "code",
      "execution_count": 24,
      "metadata": {
        "colab": {
          "base_uri": "https://localhost:8080/"
        },
        "id": "GpAYqo_-nHRc",
        "outputId": "493bafe8-f8fe-4769-80b8-775412f5878e"
      },
      "outputs": [
        {
          "output_type": "execute_result",
          "data": {
            "text/plain": [
              "3.0    130\n",
              "0.0    116\n",
              "1.0     97\n",
              "2.0     54\n",
              "4.0     41\n",
              "5.0      8\n",
              "Name: Exercise frequency, dtype: int64"
            ]
          },
          "metadata": {},
          "execution_count": 24
        }
      ],
      "source": [
        "sleep['Exercise frequency'].value_counts()"
      ]
    },
    {
      "cell_type": "code",
      "execution_count": 25,
      "metadata": {
        "scrolled": true,
        "colab": {
          "base_uri": "https://localhost:8080/",
          "height": 238
        },
        "id": "uzR0rMc5nHRc",
        "outputId": "1ff1ffdf-4f4f-4d40-92c3-6a64137618aa"
      },
      "outputs": [
        {
          "output_type": "execute_result",
          "data": {
            "text/plain": [
              "   Exercise frequency  Sleep efficiency\n",
              "0                 0.0          0.743879\n",
              "1                 1.0          0.774124\n",
              "2                 2.0          0.810000\n",
              "3                 3.0          0.799154\n",
              "4                 4.0          0.881463\n",
              "5                 5.0          0.851250"
            ],
            "text/html": [
              "\n",
              "  <div id=\"df-06ff4304-cd26-43d6-834f-2c078b677937\">\n",
              "    <div class=\"colab-df-container\">\n",
              "      <div>\n",
              "<style scoped>\n",
              "    .dataframe tbody tr th:only-of-type {\n",
              "        vertical-align: middle;\n",
              "    }\n",
              "\n",
              "    .dataframe tbody tr th {\n",
              "        vertical-align: top;\n",
              "    }\n",
              "\n",
              "    .dataframe thead th {\n",
              "        text-align: right;\n",
              "    }\n",
              "</style>\n",
              "<table border=\"1\" class=\"dataframe\">\n",
              "  <thead>\n",
              "    <tr style=\"text-align: right;\">\n",
              "      <th></th>\n",
              "      <th>Exercise frequency</th>\n",
              "      <th>Sleep efficiency</th>\n",
              "    </tr>\n",
              "  </thead>\n",
              "  <tbody>\n",
              "    <tr>\n",
              "      <th>0</th>\n",
              "      <td>0.0</td>\n",
              "      <td>0.743879</td>\n",
              "    </tr>\n",
              "    <tr>\n",
              "      <th>1</th>\n",
              "      <td>1.0</td>\n",
              "      <td>0.774124</td>\n",
              "    </tr>\n",
              "    <tr>\n",
              "      <th>2</th>\n",
              "      <td>2.0</td>\n",
              "      <td>0.810000</td>\n",
              "    </tr>\n",
              "    <tr>\n",
              "      <th>3</th>\n",
              "      <td>3.0</td>\n",
              "      <td>0.799154</td>\n",
              "    </tr>\n",
              "    <tr>\n",
              "      <th>4</th>\n",
              "      <td>4.0</td>\n",
              "      <td>0.881463</td>\n",
              "    </tr>\n",
              "    <tr>\n",
              "      <th>5</th>\n",
              "      <td>5.0</td>\n",
              "      <td>0.851250</td>\n",
              "    </tr>\n",
              "  </tbody>\n",
              "</table>\n",
              "</div>\n",
              "      <button class=\"colab-df-convert\" onclick=\"convertToInteractive('df-06ff4304-cd26-43d6-834f-2c078b677937')\"\n",
              "              title=\"Convert this dataframe to an interactive table.\"\n",
              "              style=\"display:none;\">\n",
              "        \n",
              "  <svg xmlns=\"http://www.w3.org/2000/svg\" height=\"24px\"viewBox=\"0 0 24 24\"\n",
              "       width=\"24px\">\n",
              "    <path d=\"M0 0h24v24H0V0z\" fill=\"none\"/>\n",
              "    <path d=\"M18.56 5.44l.94 2.06.94-2.06 2.06-.94-2.06-.94-.94-2.06-.94 2.06-2.06.94zm-11 1L8.5 8.5l.94-2.06 2.06-.94-2.06-.94L8.5 2.5l-.94 2.06-2.06.94zm10 10l.94 2.06.94-2.06 2.06-.94-2.06-.94-.94-2.06-.94 2.06-2.06.94z\"/><path d=\"M17.41 7.96l-1.37-1.37c-.4-.4-.92-.59-1.43-.59-.52 0-1.04.2-1.43.59L10.3 9.45l-7.72 7.72c-.78.78-.78 2.05 0 2.83L4 21.41c.39.39.9.59 1.41.59.51 0 1.02-.2 1.41-.59l7.78-7.78 2.81-2.81c.8-.78.8-2.07 0-2.86zM5.41 20L4 18.59l7.72-7.72 1.47 1.35L5.41 20z\"/>\n",
              "  </svg>\n",
              "      </button>\n",
              "      \n",
              "  <style>\n",
              "    .colab-df-container {\n",
              "      display:flex;\n",
              "      flex-wrap:wrap;\n",
              "      gap: 12px;\n",
              "    }\n",
              "\n",
              "    .colab-df-convert {\n",
              "      background-color: #E8F0FE;\n",
              "      border: none;\n",
              "      border-radius: 50%;\n",
              "      cursor: pointer;\n",
              "      display: none;\n",
              "      fill: #1967D2;\n",
              "      height: 32px;\n",
              "      padding: 0 0 0 0;\n",
              "      width: 32px;\n",
              "    }\n",
              "\n",
              "    .colab-df-convert:hover {\n",
              "      background-color: #E2EBFA;\n",
              "      box-shadow: 0px 1px 2px rgba(60, 64, 67, 0.3), 0px 1px 3px 1px rgba(60, 64, 67, 0.15);\n",
              "      fill: #174EA6;\n",
              "    }\n",
              "\n",
              "    [theme=dark] .colab-df-convert {\n",
              "      background-color: #3B4455;\n",
              "      fill: #D2E3FC;\n",
              "    }\n",
              "\n",
              "    [theme=dark] .colab-df-convert:hover {\n",
              "      background-color: #434B5C;\n",
              "      box-shadow: 0px 1px 3px 1px rgba(0, 0, 0, 0.15);\n",
              "      filter: drop-shadow(0px 1px 2px rgba(0, 0, 0, 0.3));\n",
              "      fill: #FFFFFF;\n",
              "    }\n",
              "  </style>\n",
              "\n",
              "      <script>\n",
              "        const buttonEl =\n",
              "          document.querySelector('#df-06ff4304-cd26-43d6-834f-2c078b677937 button.colab-df-convert');\n",
              "        buttonEl.style.display =\n",
              "          google.colab.kernel.accessAllowed ? 'block' : 'none';\n",
              "\n",
              "        async function convertToInteractive(key) {\n",
              "          const element = document.querySelector('#df-06ff4304-cd26-43d6-834f-2c078b677937');\n",
              "          const dataTable =\n",
              "            await google.colab.kernel.invokeFunction('convertToInteractive',\n",
              "                                                     [key], {});\n",
              "          if (!dataTable) return;\n",
              "\n",
              "          const docLinkHtml = 'Like what you see? Visit the ' +\n",
              "            '<a target=\"_blank\" href=https://colab.research.google.com/notebooks/data_table.ipynb>data table notebook</a>'\n",
              "            + ' to learn more about interactive tables.';\n",
              "          element.innerHTML = '';\n",
              "          dataTable['output_type'] = 'display_data';\n",
              "          await google.colab.output.renderOutput(dataTable, element);\n",
              "          const docLink = document.createElement('div');\n",
              "          docLink.innerHTML = docLinkHtml;\n",
              "          element.appendChild(docLink);\n",
              "        }\n",
              "      </script>\n",
              "    </div>\n",
              "  </div>\n",
              "  "
            ]
          },
          "metadata": {},
          "execution_count": 25
        }
      ],
      "source": [
        "exercise_group = sleep.groupby('Exercise frequency')['Exercise frequency', 'Sleep efficiency'].mean()\n",
        "exercise_group = exercise_group.drop(columns=['Exercise frequency']).reset_index()\n",
        "exercise_group"
      ]
    },
    {
      "cell_type": "code",
      "execution_count": 26,
      "metadata": {
        "colab": {
          "base_uri": "https://localhost:8080/",
          "height": 445
        },
        "id": "TzHSyq5WnHRc",
        "outputId": "eb3a3aed-868f-496f-8890-7f0e17c2f31a"
      },
      "outputs": [
        {
          "output_type": "display_data",
          "data": {
            "text/plain": [
              "<Figure size 1300x500 with 1 Axes>"
            ],
            "image/png": "[encoded data removed]"
          },
          "metadata": {}
        }
      ],
      "source": [
        "exercise_group.plot(kind='barh', x='Exercise frequency', y='Sleep efficiency', figsize=(13,5)).legend(bbox_to_anchor=(1, 0.15));"
      ]
    },
    {
      "cell_type": "markdown",
      "metadata": {
        "id": "KzrrG4rgnHRc"
      },
      "source": [
        "### Sleep efficiency is generally higher amongst people with a frequent level of exercising."
      ]
    },
    {
      "cell_type": "markdown",
      "metadata": {
        "id": "lcxCy_MhnHRc"
      },
      "source": [
        "## Cleaning dataset"
      ]
    },
    {
      "cell_type": "code",
      "execution_count": 27,
      "metadata": {
        "id": "HYBKrvJHnHRc"
      },
      "outputs": [],
      "source": [
        "sleep_clean = sleep.drop(columns=['ID', 'Bedtime', 'Wakeup time'])"
      ]
    },
    {
      "cell_type": "code",
      "execution_count": 28,
      "metadata": {
        "colab": {
          "base_uri": "https://localhost:8080/"
        },
        "id": "Xpvi1rgbnHRd",
        "outputId": "89256c5d-864b-472f-8f05-701353b34d54"
      },
      "outputs": [
        {
          "output_type": "execute_result",
          "data": {
            "text/plain": [
              "Age                          int64\n",
              "Gender                      object\n",
              "Sleep duration             float64\n",
              "Sleep efficiency           float64\n",
              "REM sleep percentage       float64\n",
              "Deep sleep percentage      float64\n",
              "Light sleep percentage     float64\n",
              "Awakenings                 float64\n",
              "Caffeine consumption       float64\n",
              "Alcohol consumption        float64\n",
              "Smoking status              object\n",
              "Exercise frequency         float64\n",
              "age-binned                category\n",
              "dtype: object"
            ]
          },
          "metadata": {},
          "execution_count": 28
        }
      ],
      "source": [
        "sleep_clean.dtypes"
      ]
    },
    {
      "cell_type": "code",
      "execution_count": 29,
      "metadata": {
        "id": "UEL25er5nHRd"
      },
      "outputs": [],
      "source": [
        "sleep_clean['Gender']=sleep_clean['Gender'].astype('category')\n",
        "sleep_clean['Smoking status']=sleep_clean['Smoking status'].astype('category')"
      ]
    },
    {
      "cell_type": "code",
      "execution_count": 30,
      "metadata": {
        "colab": {
          "base_uri": "https://localhost:8080/"
        },
        "id": "qqIy5v83nHRd",
        "outputId": "502da8fe-34b5-4138-af37-dbb383c802c1"
      },
      "outputs": [
        {
          "output_type": "execute_result",
          "data": {
            "text/plain": [
              "Age                          int64\n",
              "Gender                    category\n",
              "Sleep duration             float64\n",
              "Sleep efficiency           float64\n",
              "REM sleep percentage       float64\n",
              "Deep sleep percentage      float64\n",
              "Light sleep percentage     float64\n",
              "Awakenings                 float64\n",
              "Caffeine consumption       float64\n",
              "Alcohol consumption        float64\n",
              "Smoking status            category\n",
              "Exercise frequency         float64\n",
              "age-binned                category\n",
              "dtype: object"
            ]
          },
          "metadata": {},
          "execution_count": 30
        }
      ],
      "source": [
        "sleep_clean.dtypes"
      ]
    },
    {
      "cell_type": "code",
      "execution_count": 31,
      "metadata": {
        "colab": {
          "base_uri": "https://localhost:8080/",
          "height": 334
        },
        "id": "1r4SzwmZnHR5",
        "outputId": "60921d26-e90a-488d-d969-1857ff116c5f"
      },
      "outputs": [
        {
          "output_type": "execute_result",
          "data": {
            "text/plain": [
              "   Age  Sleep duration  Sleep efficiency  REM sleep percentage  \\\n",
              "0   65             6.0              0.88                  0.18   \n",
              "1   69             7.0              0.66                  0.24   \n",
              "2   40             8.0              0.89                  0.20   \n",
              "3   40             6.0              0.51                  0.28   \n",
              "4   57             8.0              0.76                  0.27   \n",
              "\n",
              "   Deep sleep percentage  Light sleep percentage  Awakenings  \\\n",
              "0                   0.70                    0.10         0.0   \n",
              "1                   0.28                    0.53         3.0   \n",
              "2                   0.70                    0.10         1.0   \n",
              "3                   0.25                    0.52         3.0   \n",
              "4                   0.55                    0.18         3.0   \n",
              "\n",
              "   Caffeine consumption  Alcohol consumption  Exercise frequency  ...  \\\n",
              "0                   0.0                  0.0                 3.0  ...   \n",
              "1                   0.0                  3.0                 3.0  ...   \n",
              "2                   0.0                  0.0                 3.0  ...   \n",
              "3                  50.0                  5.0                 1.0  ...   \n",
              "4                   0.0                  3.0                 3.0  ...   \n",
              "\n",
              "   Gender_Male  Smoking status_No  Smoking status_Yes  age-binned_Child  \\\n",
              "0            0                  0                   1                 0   \n",
              "1            1                  0                   1                 0   \n",
              "2            0                  1                   0                 0   \n",
              "3            0                  0                   1                 0   \n",
              "4            1                  1                   0                 0   \n",
              "\n",
              "   age-binned_Teen  age-binned_20+  age-binned_30+  age-binned_40+  \\\n",
              "0                0               0               0               0   \n",
              "1                0               0               0               0   \n",
              "2                0               0               0               1   \n",
              "3                0               0               0               1   \n",
              "4                0               0               0               0   \n",
              "\n",
              "   age-binned_50+  age-binned_60+  \n",
              "0               0               1  \n",
              "1               0               1  \n",
              "2               0               0  \n",
              "3               0               0  \n",
              "4               1               0  \n",
              "\n",
              "[5 rows x 21 columns]"
            ],
            "text/html": [
              "\n",
              "  <div id=\"df-16848f61-f1c7-4a2b-b4a0-6310df05af87\">\n",
              "    <div class=\"colab-df-container\">\n",
              "      <div>\n",
              "<style scoped>\n",
              "    .dataframe tbody tr th:only-of-type {\n",
              "        vertical-align: middle;\n",
              "    }\n",
              "\n",
              "    .dataframe tbody tr th {\n",
              "        vertical-align: top;\n",
              "    }\n",
              "\n",
              "    .dataframe thead th {\n",
              "        text-align: right;\n",
              "    }\n",
              "</style>\n",
              "<table border=\"1\" class=\"dataframe\">\n",
              "  <thead>\n",
              "    <tr style=\"text-align: right;\">\n",
              "      <th></th>\n",
              "      <th>Age</th>\n",
              "      <th>Sleep duration</th>\n",
              "      <th>Sleep efficiency</th>\n",
              "      <th>REM sleep percentage</th>\n",
              "      <th>Deep sleep percentage</th>\n",
              "      <th>Light sleep percentage</th>\n",
              "      <th>Awakenings</th>\n",
              "      <th>Caffeine consumption</th>\n",
              "      <th>Alcohol consumption</th>\n",
              "      <th>Exercise frequency</th>\n",
              "      <th>...</th>\n",
              "      <th>Gender_Male</th>\n",
              "      <th>Smoking status_No</th>\n",
              "      <th>Smoking status_Yes</th>\n",
              "      <th>age-binned_Child</th>\n",
              "      <th>age-binned_Teen</th>\n",
              "      <th>age-binned_20+</th>\n",
              "      <th>age-binned_30+</th>\n",
              "      <th>age-binned_40+</th>\n",
              "      <th>age-binned_50+</th>\n",
              "      <th>age-binned_60+</th>\n",
              "    </tr>\n",
              "  </thead>\n",
              "  <tbody>\n",
              "    <tr>\n",
              "      <th>0</th>\n",
              "      <td>65</td>\n",
              "      <td>6.0</td>\n",
              "      <td>0.88</td>\n",
              "      <td>0.18</td>\n",
              "      <td>0.70</td>\n",
              "      <td>0.10</td>\n",
              "      <td>0.0</td>\n",
              "      <td>0.0</td>\n",
              "      <td>0.0</td>\n",
              "      <td>3.0</td>\n",
              "      <td>...</td>\n",
              "      <td>0</td>\n",
              "      <td>0</td>\n",
              "      <td>1</td>\n",
              "      <td>0</td>\n",
              "      <td>0</td>\n",
              "      <td>0</td>\n",
              "      <td>0</td>\n",
              "      <td>0</td>\n",
              "      <td>0</td>\n",
              "      <td>1</td>\n",
              "    </tr>\n",
              "    <tr>\n",
              "      <th>1</th>\n",
              "      <td>69</td>\n",
              "      <td>7.0</td>\n",
              "      <td>0.66</td>\n",
              "      <td>0.24</td>\n",
              "      <td>0.28</td>\n",
              "      <td>0.53</td>\n",
              "      <td>3.0</td>\n",
              "      <td>0.0</td>\n",
              "      <td>3.0</td>\n",
              "      <td>3.0</td>\n",
              "      <td>...</td>\n",
              "      <td>1</td>\n",
              "      <td>0</td>\n",
              "      <td>1</td>\n",
              "      <td>0</td>\n",
              "      <td>0</td>\n",
              "      <td>0</td>\n",
              "      <td>0</td>\n",
              "      <td>0</td>\n",
              "      <td>0</td>\n",
              "      <td>1</td>\n",
              "    </tr>\n",
              "    <tr>\n",
              "      <th>2</th>\n",
              "      <td>40</td>\n",
              "      <td>8.0</td>\n",
              "      <td>0.89</td>\n",
              "      <td>0.20</td>\n",
              "      <td>0.70</td>\n",
              "      <td>0.10</td>\n",
              "      <td>1.0</td>\n",
              "      <td>0.0</td>\n",
              "      <td>0.0</td>\n",
              "      <td>3.0</td>\n",
              "      <td>...</td>\n",
              "      <td>0</td>\n",
              "      <td>1</td>\n",
              "      <td>0</td>\n",
              "      <td>0</td>\n",
              "      <td>0</td>\n",
              "      <td>0</td>\n",
              "      <td>0</td>\n",
              "      <td>1</td>\n",
              "      <td>0</td>\n",
              "      <td>0</td>\n",
              "    </tr>\n",
              "    <tr>\n",
              "      <th>3</th>\n",
              "      <td>40</td>\n",
              "      <td>6.0</td>\n",
              "      <td>0.51</td>\n",
              "      <td>0.28</td>\n",
              "      <td>0.25</td>\n",
              "      <td>0.52</td>\n",
              "      <td>3.0</td>\n",
              "      <td>50.0</td>\n",
              "      <td>5.0</td>\n",
              "      <td>1.0</td>\n",
              "      <td>...</td>\n",
              "      <td>0</td>\n",
              "      <td>0</td>\n",
              "      <td>1</td>\n",
              "      <td>0</td>\n",
              "      <td>0</td>\n",
              "      <td>0</td>\n",
              "      <td>0</td>\n",
              "      <td>1</td>\n",
              "      <td>0</td>\n",
              "      <td>0</td>\n",
              "    </tr>\n",
              "    <tr>\n",
              "      <th>4</th>\n",
              "      <td>57</td>\n",
              "      <td>8.0</td>\n",
              "      <td>0.76</td>\n",
              "      <td>0.27</td>\n",
              "      <td>0.55</td>\n",
              "      <td>0.18</td>\n",
              "      <td>3.0</td>\n",
              "      <td>0.0</td>\n",
              "      <td>3.0</td>\n",
              "      <td>3.0</td>\n",
              "      <td>...</td>\n",
              "      <td>1</td>\n",
              "      <td>1</td>\n",
              "      <td>0</td>\n",
              "      <td>0</td>\n",
              "      <td>0</td>\n",
              "      <td>0</td>\n",
              "      <td>0</td>\n",
              "      <td>0</td>\n",
              "      <td>1</td>\n",
              "      <td>0</td>\n",
              "    </tr>\n",
              "  </tbody>\n",
              "</table>\n",
              "<p>5 rows × 21 columns</p>\n",
              "</div>\n",
              "      <button class=\"colab-df-convert\" onclick=\"convertToInteractive('df-16848f61-f1c7-4a2b-b4a0-6310df05af87')\"\n",
              "              title=\"Convert this dataframe to an interactive table.\"\n",
              "              style=\"display:none;\">\n",
              "        \n",
              "  <svg xmlns=\"http://www.w3.org/2000/svg\" height=\"24px\"viewBox=\"0 0 24 24\"\n",
              "       width=\"24px\">\n",
              "    <path d=\"M0 0h24v24H0V0z\" fill=\"none\"/>\n",
              "    <path d=\"M18.56 5.44l.94 2.06.94-2.06 2.06-.94-2.06-.94-.94-2.06-.94 2.06-2.06.94zm-11 1L8.5 8.5l.94-2.06 2.06-.94-2.06-.94L8.5 2.5l-.94 2.06-2.06.94zm10 10l.94 2.06.94-2.06 2.06-.94-2.06-.94-.94-2.06-.94 2.06-2.06.94z\"/><path d=\"M17.41 7.96l-1.37-1.37c-.4-.4-.92-.59-1.43-.59-.52 0-1.04.2-1.43.59L10.3 9.45l-7.72 7.72c-.78.78-.78 2.05 0 2.83L4 21.41c.39.39.9.59 1.41.59.51 0 1.02-.2 1.41-.59l7.78-7.78 2.81-2.81c.8-.78.8-2.07 0-2.86zM5.41 20L4 18.59l7.72-7.72 1.47 1.35L5.41 20z\"/>\n",
              "  </svg>\n",
              "      </button>\n",
              "      \n",
              "  <style>\n",
              "    .colab-df-container {\n",
              "      display:flex;\n",
              "      flex-wrap:wrap;\n",
              "      gap: 12px;\n",
              "    }\n",
              "\n",
              "    .colab-df-convert {\n",
              "      background-color: #E8F0FE;\n",
              "      border: none;\n",
              "      border-radius: 50%;\n",
              "      cursor: pointer;\n",
              "      display: none;\n",
              "      fill: #1967D2;\n",
              "      height: 32px;\n",
              "      padding: 0 0 0 0;\n",
              "      width: 32px;\n",
              "    }\n",
              "\n",
              "    .colab-df-convert:hover {\n",
              "      background-color: #E2EBFA;\n",
              "      box-shadow: 0px 1px 2px rgba(60, 64, 67, 0.3), 0px 1px 3px 1px rgba(60, 64, 67, 0.15);\n",
              "      fill: #174EA6;\n",
              "    }\n",
              "\n",
              "    [theme=dark] .colab-df-convert {\n",
              "      background-color: #3B4455;\n",
              "      fill: #D2E3FC;\n",
              "    }\n",
              "\n",
              "    [theme=dark] .colab-df-convert:hover {\n",
              "      background-color: #434B5C;\n",
              "      box-shadow: 0px 1px 3px 1px rgba(0, 0, 0, 0.15);\n",
              "      filter: drop-shadow(0px 1px 2px rgba(0, 0, 0, 0.3));\n",
              "      fill: #FFFFFF;\n",
              "    }\n",
              "  </style>\n",
              "\n",
              "      <script>\n",
              "        const buttonEl =\n",
              "          document.querySelector('#df-16848f61-f1c7-4a2b-b4a0-6310df05af87 button.colab-df-convert');\n",
              "        buttonEl.style.display =\n",
              "          google.colab.kernel.accessAllowed ? 'block' : 'none';\n",
              "\n",
              "        async function convertToInteractive(key) {\n",
              "          const element = document.querySelector('#df-16848f61-f1c7-4a2b-b4a0-6310df05af87');\n",
              "          const dataTable =\n",
              "            await google.colab.kernel.invokeFunction('convertToInteractive',\n",
              "                                                     [key], {});\n",
              "          if (!dataTable) return;\n",
              "\n",
              "          const docLinkHtml = 'Like what you see? Visit the ' +\n",
              "            '<a target=\"_blank\" href=https://colab.research.google.com/notebooks/data_table.ipynb>data table notebook</a>'\n",
              "            + ' to learn more about interactive tables.';\n",
              "          element.innerHTML = '';\n",
              "          dataTable['output_type'] = 'display_data';\n",
              "          await google.colab.output.renderOutput(dataTable, element);\n",
              "          const docLink = document.createElement('div');\n",
              "          docLink.innerHTML = docLinkHtml;\n",
              "          element.appendChild(docLink);\n",
              "        }\n",
              "      </script>\n",
              "    </div>\n",
              "  </div>\n",
              "  "
            ]
          },
          "metadata": {},
          "execution_count": 31
        }
      ],
      "source": [
        "sleep_clean = pd.get_dummies(sleep_clean, columns = ['Gender', 'Smoking status', 'age-binned'])\n",
        "sleep_clean.head()"
      ]
    },
    {
      "cell_type": "code",
      "execution_count": 32,
      "metadata": {
        "scrolled": false,
        "colab": {
          "base_uri": "https://localhost:8080/"
        },
        "id": "uwtyEFCfnHR6",
        "outputId": "253661da-e5a2-4f37-9d2c-dc0edda4ece7"
      },
      "outputs": [
        {
          "output_type": "execute_result",
          "data": {
            "text/plain": [
              "Age                        0\n",
              "Sleep duration             0\n",
              "Sleep efficiency           0\n",
              "REM sleep percentage       0\n",
              "Deep sleep percentage      0\n",
              "Light sleep percentage     0\n",
              "Awakenings                20\n",
              "Caffeine consumption      25\n",
              "Alcohol consumption       16\n",
              "Exercise frequency         6\n",
              "Gender_Female              0\n",
              "Gender_Male                0\n",
              "Smoking status_No          0\n",
              "Smoking status_Yes         0\n",
              "age-binned_Child           0\n",
              "age-binned_Teen            0\n",
              "age-binned_20+             0\n",
              "age-binned_30+             0\n",
              "age-binned_40+             0\n",
              "age-binned_50+             0\n",
              "age-binned_60+             0\n",
              "dtype: int64"
            ]
          },
          "metadata": {},
          "execution_count": 32
        }
      ],
      "source": [
        "#To check for missing data \n",
        "sleep_clean.isna().sum()"
      ]
    },
    {
      "cell_type": "markdown",
      "metadata": {
        "id": "Ru5IM49anHR6"
      },
      "source": [
        "There are missing data for `Awakenings`, `Caffeine_consumption`, `Alcohol_consumption` and `Exercise_frequency`."
      ]
    },
    {
      "cell_type": "markdown",
      "metadata": {
        "id": "_8J_lan1nHR6"
      },
      "source": [
        "### Since all of these features are either ordinal or descrete, we can assume that the missing datas should have values as zero."
      ]
    },
    {
      "cell_type": "code",
      "execution_count": 33,
      "metadata": {
        "colab": {
          "base_uri": "https://localhost:8080/"
        },
        "id": "BLMFVVK0nHR6",
        "outputId": "8ef1898e-9349-430f-81a6-fb63a4552883"
      },
      "outputs": [
        {
          "output_type": "execute_result",
          "data": {
            "text/plain": [
              "Age                       0\n",
              "Sleep duration            0\n",
              "Sleep efficiency          0\n",
              "REM sleep percentage      0\n",
              "Deep sleep percentage     0\n",
              "Light sleep percentage    0\n",
              "Awakenings                0\n",
              "Caffeine consumption      0\n",
              "Alcohol consumption       0\n",
              "Exercise frequency        0\n",
              "Gender_Female             0\n",
              "Gender_Male               0\n",
              "Smoking status_No         0\n",
              "Smoking status_Yes        0\n",
              "age-binned_Child          0\n",
              "age-binned_Teen           0\n",
              "age-binned_20+            0\n",
              "age-binned_30+            0\n",
              "age-binned_40+            0\n",
              "age-binned_50+            0\n",
              "age-binned_60+            0\n",
              "dtype: int64"
            ]
          },
          "metadata": {},
          "execution_count": 33
        }
      ],
      "source": [
        "# Replace NaNs with zeros in all columns\n",
        "sleep_clean.fillna(0, inplace=True)\n",
        "sleep_clean.isna().sum()"
      ]
    },
    {
      "cell_type": "markdown",
      "metadata": {
        "id": "sVoVvXgKnHR6"
      },
      "source": [
        "### Correlation Heatmap plot"
      ]
    },
    {
      "cell_type": "code",
      "execution_count": 34,
      "metadata": {
        "scrolled": false,
        "colab": {
          "base_uri": "https://localhost:8080/",
          "height": 850
        },
        "id": "azhBdE71nHR6",
        "outputId": "29110676-2560-457f-8a6b-f9161579cddc"
      },
      "outputs": [
        {
          "output_type": "display_data",
          "data": {
            "text/plain": [
              "<Figure size 1200x800 with 2 Axes>"
            ],
            "image/png": "[encoded data removed]"
          },
          "metadata": {}
        }
      ],
      "source": [
        "sns.set(rc={'figure.figsize':(12,8)})\n",
        "sns.heatmap(sleep.corr(), annot=True);"
      ]
    },
    {
      "cell_type": "markdown",
      "metadata": {
        "id": "2d5_Ng4tnHR6"
      },
      "source": [
        "### From the correlation plot, it is observed that Deep sleep percentage has a strong positive correlation with our target feature, Sleep efficiency.\n",
        "\n",
        "### Also, Light sleep percentage is strongly negatively correlated with Sleep efficiency and in summary says that Sleep efficiency decreases with increase in Light sleep percentage and increases with an increase as well in Deep sleep percentage."
      ]
    },
    {
      "cell_type": "markdown",
      "metadata": {
        "id": "KVSu4iIvnHR7"
      },
      "source": [
        "## Checking and Dealing with outliers"
      ]
    },
    {
      "cell_type": "code",
      "execution_count": 35,
      "metadata": {
        "colab": {
          "base_uri": "https://localhost:8080/",
          "height": 775
        },
        "id": "hDTid459nHR7",
        "outputId": "96b65470-85c6-46cb-ba82-c3b06e532c33"
      },
      "outputs": [
        {
          "output_type": "stream",
          "name": "stdout",
          "text": [
            "Box Plots of the continuous features\n"
          ]
        },
        {
          "output_type": "display_data",
          "data": {
            "text/plain": [
              "<Figure size 1800x900 with 5 Axes>"
            ],
            "image/png": "[encoded data removed]"
          },
          "metadata": {}
        }
      ],
      "source": [
        "# Next step in our process flow is to check for any outliers present in the continuous attributes/features.\n",
        "# We can identify with visuals and let us use z score technique.\n",
        "\n",
        "column_names_=['Age','Sleep duration','REM sleep percentage','Deep sleep percentage','Light sleep percentage']\n",
        "plt.figure(figsize=(18,9))\n",
        "for i in range(0,len(column_names_)):\n",
        "    plt.subplot(2,3,i+1)\n",
        "    sns.boxplot(sleep_clean[column_names_[i]],color='blue')\n",
        "print('Box Plots of the continuous features')\n",
        "plt.show()"
      ]
    },
    {
      "cell_type": "code",
      "execution_count": 36,
      "metadata": {
        "colab": {
          "base_uri": "https://localhost:8080/"
        },
        "id": "5LLZenzQnHR8",
        "outputId": "124168dd-3673-41ab-dd33-4c764d4f5cfe"
      },
      "outputs": [
        {
          "output_type": "stream",
          "name": "stdout",
          "text": [
            "(2, 55)\n"
          ]
        }
      ],
      "source": [
        "# Outliers are present in the columns. We will now check the z score of these columns and remove the outliers. \n",
        "\n",
        "from scipy.stats import zscore\n",
        "\n",
        "outliers = np.abs(zscore(sleep_clean.loc[:,'Age':]))\n",
        "print(np.shape(np.where(outliers>=3)))"
      ]
    },
    {
      "cell_type": "markdown",
      "metadata": {
        "id": "GaTvDwMenHR8"
      },
      "source": [
        "### Since we have only 55 data points (observations as outliers), we can choose to ignore these as they could represent extreme cases that could be crucial to creating a good model."
      ]
    },
    {
      "cell_type": "markdown",
      "metadata": {
        "id": "S0aUMLYnnHR8"
      },
      "source": [
        "## Split the Data"
      ]
    },
    {
      "cell_type": "code",
      "execution_count": 37,
      "metadata": {
        "colab": {
          "base_uri": "https://localhost:8080/",
          "height": 334
        },
        "id": "UtohQ-kHnHR8",
        "outputId": "9fc897cc-7cfe-4161-9202-e5e346a32d05"
      },
      "outputs": [
        {
          "output_type": "execute_result",
          "data": {
            "text/plain": [
              "   Age  Sleep duration  Sleep efficiency  REM sleep percentage  \\\n",
              "0   65             6.0              0.88                  0.18   \n",
              "1   69             7.0              0.66                  0.24   \n",
              "2   40             8.0              0.89                  0.20   \n",
              "3   40             6.0              0.51                  0.28   \n",
              "4   57             8.0              0.76                  0.27   \n",
              "\n",
              "   Deep sleep percentage  Light sleep percentage  Awakenings  \\\n",
              "0                   0.70                    0.10         0.0   \n",
              "1                   0.28                    0.53         3.0   \n",
              "2                   0.70                    0.10         1.0   \n",
              "3                   0.25                    0.52         3.0   \n",
              "4                   0.55                    0.18         3.0   \n",
              "\n",
              "   Caffeine consumption  Alcohol consumption  Exercise frequency  ...  \\\n",
              "0                   0.0                  0.0                 3.0  ...   \n",
              "1                   0.0                  3.0                 3.0  ...   \n",
              "2                   0.0                  0.0                 3.0  ...   \n",
              "3                  50.0                  5.0                 1.0  ...   \n",
              "4                   0.0                  3.0                 3.0  ...   \n",
              "\n",
              "   Gender_Male  Smoking status_No  Smoking status_Yes  age-binned_Child  \\\n",
              "0            0                  0                   1                 0   \n",
              "1            1                  0                   1                 0   \n",
              "2            0                  1                   0                 0   \n",
              "3            0                  0                   1                 0   \n",
              "4            1                  1                   0                 0   \n",
              "\n",
              "   age-binned_Teen  age-binned_20+  age-binned_30+  age-binned_40+  \\\n",
              "0                0               0               0               0   \n",
              "1                0               0               0               0   \n",
              "2                0               0               0               1   \n",
              "3                0               0               0               1   \n",
              "4                0               0               0               0   \n",
              "\n",
              "   age-binned_50+  age-binned_60+  \n",
              "0               0               1  \n",
              "1               0               1  \n",
              "2               0               0  \n",
              "3               0               0  \n",
              "4               1               0  \n",
              "\n",
              "[5 rows x 21 columns]"
            ],
            "text/html": [
              "\n",
              "  <div id=\"df-71752a28-67f5-4115-9cf1-c0ef19e1575c\">\n",
              "    <div class=\"colab-df-container\">\n",
              "      <div>\n",
              "<style scoped>\n",
              "    .dataframe tbody tr th:only-of-type {\n",
              "        vertical-align: middle;\n",
              "    }\n",
              "\n",
              "    .dataframe tbody tr th {\n",
              "        vertical-align: top;\n",
              "    }\n",
              "\n",
              "    .dataframe thead th {\n",
              "        text-align: right;\n",
              "    }\n",
              "</style>\n",
              "<table border=\"1\" class=\"dataframe\">\n",
              "  <thead>\n",
              "    <tr style=\"text-align: right;\">\n",
              "      <th></th>\n",
              "      <th>Age</th>\n",
              "      <th>Sleep duration</th>\n",
              "      <th>Sleep efficiency</th>\n",
              "      <th>REM sleep percentage</th>\n",
              "      <th>Deep sleep percentage</th>\n",
              "      <th>Light sleep percentage</th>\n",
              "      <th>Awakenings</th>\n",
              "      <th>Caffeine consumption</th>\n",
              "      <th>Alcohol consumption</th>\n",
              "      <th>Exercise frequency</th>\n",
              "      <th>...</th>\n",
              "      <th>Gender_Male</th>\n",
              "      <th>Smoking status_No</th>\n",
              "      <th>Smoking status_Yes</th>\n",
              "      <th>age-binned_Child</th>\n",
              "      <th>age-binned_Teen</th>\n",
              "      <th>age-binned_20+</th>\n",
              "      <th>age-binned_30+</th>\n",
              "      <th>age-binned_40+</th>\n",
              "      <th>age-binned_50+</th>\n",
              "      <th>age-binned_60+</th>\n",
              "    </tr>\n",
              "  </thead>\n",
              "  <tbody>\n",
              "    <tr>\n",
              "      <th>0</th>\n",
              "      <td>65</td>\n",
              "      <td>6.0</td>\n",
              "      <td>0.88</td>\n",
              "      <td>0.18</td>\n",
              "      <td>0.70</td>\n",
              "      <td>0.10</td>\n",
              "      <td>0.0</td>\n",
              "      <td>0.0</td>\n",
              "      <td>0.0</td>\n",
              "      <td>3.0</td>\n",
              "      <td>...</td>\n",
              "      <td>0</td>\n",
              "      <td>0</td>\n",
              "      <td>1</td>\n",
              "      <td>0</td>\n",
              "      <td>0</td>\n",
              "      <td>0</td>\n",
              "      <td>0</td>\n",
              "      <td>0</td>\n",
              "      <td>0</td>\n",
              "      <td>1</td>\n",
              "    </tr>\n",
              "    <tr>\n",
              "      <th>1</th>\n",
              "      <td>69</td>\n",
              "      <td>7.0</td>\n",
              "      <td>0.66</td>\n",
              "      <td>0.24</td>\n",
              "      <td>0.28</td>\n",
              "      <td>0.53</td>\n",
              "      <td>3.0</td>\n",
              "      <td>0.0</td>\n",
              "      <td>3.0</td>\n",
              "      <td>3.0</td>\n",
              "      <td>...</td>\n",
              "      <td>1</td>\n",
              "      <td>0</td>\n",
              "      <td>1</td>\n",
              "      <td>0</td>\n",
              "      <td>0</td>\n",
              "      <td>0</td>\n",
              "      <td>0</td>\n",
              "      <td>0</td>\n",
              "      <td>0</td>\n",
              "      <td>1</td>\n",
              "    </tr>\n",
              "    <tr>\n",
              "      <th>2</th>\n",
              "      <td>40</td>\n",
              "      <td>8.0</td>\n",
              "      <td>0.89</td>\n",
              "      <td>0.20</td>\n",
              "      <td>0.70</td>\n",
              "      <td>0.10</td>\n",
              "      <td>1.0</td>\n",
              "      <td>0.0</td>\n",
              "      <td>0.0</td>\n",
              "      <td>3.0</td>\n",
              "      <td>...</td>\n",
              "      <td>0</td>\n",
              "      <td>1</td>\n",
              "      <td>0</td>\n",
              "      <td>0</td>\n",
              "      <td>0</td>\n",
              "      <td>0</td>\n",
              "      <td>0</td>\n",
              "      <td>1</td>\n",
              "      <td>0</td>\n",
              "      <td>0</td>\n",
              "    </tr>\n",
              "    <tr>\n",
              "      <th>3</th>\n",
              "      <td>40</td>\n",
              "      <td>6.0</td>\n",
              "      <td>0.51</td>\n",
              "      <td>0.28</td>\n",
              "      <td>0.25</td>\n",
              "      <td>0.52</td>\n",
              "      <td>3.0</td>\n",
              "      <td>50.0</td>\n",
              "      <td>5.0</td>\n",
              "      <td>1.0</td>\n",
              "      <td>...</td>\n",
              "      <td>0</td>\n",
              "      <td>0</td>\n",
              "      <td>1</td>\n",
              "      <td>0</td>\n",
              "      <td>0</td>\n",
              "      <td>0</td>\n",
              "      <td>0</td>\n",
              "      <td>1</td>\n",
              "      <td>0</td>\n",
              "      <td>0</td>\n",
              "    </tr>\n",
              "    <tr>\n",
              "      <th>4</th>\n",
              "      <td>57</td>\n",
              "      <td>8.0</td>\n",
              "      <td>0.76</td>\n",
              "      <td>0.27</td>\n",
              "      <td>0.55</td>\n",
              "      <td>0.18</td>\n",
              "      <td>3.0</td>\n",
              "      <td>0.0</td>\n",
              "      <td>3.0</td>\n",
              "      <td>3.0</td>\n",
              "      <td>...</td>\n",
              "      <td>1</td>\n",
              "      <td>1</td>\n",
              "      <td>0</td>\n",
              "      <td>0</td>\n",
              "      <td>0</td>\n",
              "      <td>0</td>\n",
              "      <td>0</td>\n",
              "      <td>0</td>\n",
              "      <td>1</td>\n",
              "      <td>0</td>\n",
              "    </tr>\n",
              "  </tbody>\n",
              "</table>\n",
              "<p>5 rows × 21 columns</p>\n",
              "</div>\n",
              "      <button class=\"colab-df-convert\" onclick=\"convertToInteractive('df-71752a28-67f5-4115-9cf1-c0ef19e1575c')\"\n",
              "              title=\"Convert this dataframe to an interactive table.\"\n",
              "              style=\"display:none;\">\n",
              "        \n",
              "  <svg xmlns=\"http://www.w3.org/2000/svg\" height=\"24px\"viewBox=\"0 0 24 24\"\n",
              "       width=\"24px\">\n",
              "    <path d=\"M0 0h24v24H0V0z\" fill=\"none\"/>\n",
              "    <path d=\"M18.56 5.44l.94 2.06.94-2.06 2.06-.94-2.06-.94-.94-2.06-.94 2.06-2.06.94zm-11 1L8.5 8.5l.94-2.06 2.06-.94-2.06-.94L8.5 2.5l-.94 2.06-2.06.94zm10 10l.94 2.06.94-2.06 2.06-.94-2.06-.94-.94-2.06-.94 2.06-2.06.94z\"/><path d=\"M17.41 7.96l-1.37-1.37c-.4-.4-.92-.59-1.43-.59-.52 0-1.04.2-1.43.59L10.3 9.45l-7.72 7.72c-.78.78-.78 2.05 0 2.83L4 21.41c.39.39.9.59 1.41.59.51 0 1.02-.2 1.41-.59l7.78-7.78 2.81-2.81c.8-.78.8-2.07 0-2.86zM5.41 20L4 18.59l7.72-7.72 1.47 1.35L5.41 20z\"/>\n",
              "  </svg>\n",
              "      </button>\n",
              "      \n",
              "  <style>\n",
              "    .colab-df-container {\n",
              "      display:flex;\n",
              "      flex-wrap:wrap;\n",
              "      gap: 12px;\n",
              "    }\n",
              "\n",
              "    .colab-df-convert {\n",
              "      background-color: #E8F0FE;\n",
              "      border: none;\n",
              "      border-radius: 50%;\n",
              "      cursor: pointer;\n",
              "      display: none;\n",
              "      fill: #1967D2;\n",
              "      height: 32px;\n",
              "      padding: 0 0 0 0;\n",
              "      width: 32px;\n",
              "    }\n",
              "\n",
              "    .colab-df-convert:hover {\n",
              "      background-color: #E2EBFA;\n",
              "      box-shadow: 0px 1px 2px rgba(60, 64, 67, 0.3), 0px 1px 3px 1px rgba(60, 64, 67, 0.15);\n",
              "      fill: #174EA6;\n",
              "    }\n",
              "\n",
              "    [theme=dark] .colab-df-convert {\n",
              "      background-color: #3B4455;\n",
              "      fill: #D2E3FC;\n",
              "    }\n",
              "\n",
              "    [theme=dark] .colab-df-convert:hover {\n",
              "      background-color: #434B5C;\n",
              "      box-shadow: 0px 1px 3px 1px rgba(0, 0, 0, 0.15);\n",
              "      filter: drop-shadow(0px 1px 2px rgba(0, 0, 0, 0.3));\n",
              "      fill: #FFFFFF;\n",
              "    }\n",
              "  </style>\n",
              "\n",
              "      <script>\n",
              "        const buttonEl =\n",
              "          document.querySelector('#df-71752a28-67f5-4115-9cf1-c0ef19e1575c button.colab-df-convert');\n",
              "        buttonEl.style.display =\n",
              "          google.colab.kernel.accessAllowed ? 'block' : 'none';\n",
              "\n",
              "        async function convertToInteractive(key) {\n",
              "          const element = document.querySelector('#df-71752a28-67f5-4115-9cf1-c0ef19e1575c');\n",
              "          const dataTable =\n",
              "            await google.colab.kernel.invokeFunction('convertToInteractive',\n",
              "                                                     [key], {});\n",
              "          if (!dataTable) return;\n",
              "\n",
              "          const docLinkHtml = 'Like what you see? Visit the ' +\n",
              "            '<a target=\"_blank\" href=https://colab.research.google.com/notebooks/data_table.ipynb>data table notebook</a>'\n",
              "            + ' to learn more about interactive tables.';\n",
              "          element.innerHTML = '';\n",
              "          dataTable['output_type'] = 'display_data';\n",
              "          await google.colab.output.renderOutput(dataTable, element);\n",
              "          const docLink = document.createElement('div');\n",
              "          docLink.innerHTML = docLinkHtml;\n",
              "          element.appendChild(docLink);\n",
              "        }\n",
              "      </script>\n",
              "    </div>\n",
              "  </div>\n",
              "  "
            ]
          },
          "metadata": {},
          "execution_count": 37
        }
      ],
      "source": [
        "sleep_clean.head()"
      ]
    },
    {
      "cell_type": "code",
      "execution_count": 38,
      "metadata": {
        "colab": {
          "base_uri": "https://localhost:8080/"
        },
        "id": "a8Cl0FLKnHR9",
        "outputId": "1bf86ac0-7b9e-4300-a3c8-7d3ecc69a37b"
      },
      "outputs": [
        {
          "output_type": "execute_result",
          "data": {
            "text/plain": [
              "Index(['Age', 'Sleep duration', 'Sleep efficiency', 'REM sleep percentage',\n",
              "       'Deep sleep percentage', 'Light sleep percentage', 'Awakenings',\n",
              "       'Caffeine consumption', 'Alcohol consumption', 'Exercise frequency',\n",
              "       'Gender_Female', 'Gender_Male', 'Smoking status_No',\n",
              "       'Smoking status_Yes'],\n",
              "      dtype='object')"
            ]
          },
          "metadata": {},
          "execution_count": 38
        }
      ],
      "source": [
        "sleep_clean.columns[0:14]"
      ]
    },
    {
      "cell_type": "code",
      "execution_count": 39,
      "metadata": {
        "id": "4NGspdUZnHR9"
      },
      "outputs": [],
      "source": [
        "X1 = sleep_clean.drop(columns=['Age', 'Sleep efficiency'])\n",
        "X2 = sleep_clean[sleep_clean.columns[0:14]].drop(columns=['Sleep efficiency'])"
      ]
    },
    {
      "cell_type": "code",
      "execution_count": 40,
      "metadata": {
        "id": "tG5AsHVxnHSA"
      },
      "outputs": [],
      "source": [
        "y = sleep_clean['Sleep efficiency']"
      ]
    },
    {
      "cell_type": "code",
      "execution_count": 41,
      "metadata": {
        "id": "Ge4mAgTVnHSA"
      },
      "outputs": [],
      "source": [
        "from sklearn.model_selection import train_test_split"
      ]
    },
    {
      "cell_type": "code",
      "execution_count": 42,
      "metadata": {
        "id": "actR8R1wnHSA"
      },
      "outputs": [],
      "source": [
        "X1_train, X1_test, y_train, y_test = train_test_split(X1, y, test_size=0.3, random_state=42)\n",
        "X2_train, X2_test, y_train, y_test = train_test_split(X2, y, test_size=0.3, random_state=42)"
      ]
    },
    {
      "cell_type": "markdown",
      "metadata": {
        "id": "JMvq64RanHSB"
      },
      "source": [
        "### In the test split the test_size parameter is set to 0.3, which splits the data into 70% training data and 30% test data."
      ]
    },
    {
      "cell_type": "code",
      "execution_count": 43,
      "metadata": {
        "colab": {
          "base_uri": "https://localhost:8080/"
        },
        "id": "vc41Yw3inHSB",
        "outputId": "717459a5-97ea-462e-d755-a51018dbb163"
      },
      "outputs": [
        {
          "output_type": "stream",
          "name": "stdout",
          "text": [
            "X1_train shape: (316, 19)\n",
            "X1_test shape: (136, 19)\n",
            "\n",
            "X2_train shape: (316, 13)\n",
            "X2_test shape: (136, 13)\n",
            "\n",
            "y_train shape: (316,)\n",
            "y_test shape: (136,)\n"
          ]
        }
      ],
      "source": [
        "print(\"X1_train shape: {}\".format(X1_train.shape))\n",
        "print(\"X1_test shape: {}\".format(X1_test.shape))\n",
        "print()\n",
        "print(\"X2_train shape: {}\".format(X2_train.shape))\n",
        "print(\"X2_test shape: {}\".format(X2_test.shape))\n",
        "print()\n",
        "print(\"y_train shape: {}\".format(y_train.shape))\n",
        "print(\"y_test shape: {}\".format(y_test.shape))"
      ]
    },
    {
      "cell_type": "markdown",
      "metadata": {
        "id": "vnZYC1c7nHSB"
      },
      "source": [
        "## Model training and exploration"
      ]
    },
    {
      "cell_type": "code",
      "execution_count": 44,
      "metadata": {
        "id": "dTxkbCAVnHSB"
      },
      "outputs": [],
      "source": [
        "from sklearn.ensemble import GradientBoostingRegressor, RandomForestRegressor\n",
        "from sklearn.linear_model import LinearRegression, ElasticNet, Lasso, Ridge\n",
        "from xgboost import XGBRegressor"
      ]
    },
    {
      "cell_type": "code",
      "execution_count": 45,
      "metadata": {
        "id": "-HiVPP5FnHSB"
      },
      "outputs": [],
      "source": [
        "from sklearn.metrics import r2_score, mean_absolute_error, mean_squared_error"
      ]
    },
    {
      "cell_type": "code",
      "execution_count": 46,
      "metadata": {
        "id": "huxCvNInnHSB"
      },
      "outputs": [],
      "source": [
        "models = {'GradientBoostingRegressor': GradientBoostingRegressor(random_state=42),\n",
        "          'RandomForestRegressor': RandomForestRegressor(random_state=42),\n",
        "         'LinearRegression': LinearRegression(), 'ElasticNet': ElasticNet(alpha=0.001, random_state=42),\n",
        "          'Lasso': Lasso(alpha=0.001, random_state=42), 'Ridge': Ridge(alpha=0.001, random_state=42),\n",
        "         'XGBRegressor': XGBRegressor(eval_metric=r2_score)}"
      ]
    },
    {
      "cell_type": "code",
      "execution_count": 47,
      "metadata": {
        "id": "pqWGyHypnHSC"
      },
      "outputs": [],
      "source": [
        "def train(model, X_train, y_train):\n",
        "    model.fit(X_train, y_train)\n",
        "    return model"
      ]
    },
    {
      "cell_type": "code",
      "execution_count": 48,
      "metadata": {
        "id": "cSTkmBmMnHSC"
      },
      "outputs": [],
      "source": [
        "def score(model, X_test, y_test):\n",
        "    predictions = model.predict(X_test)\n",
        "    \n",
        "    r2 = r2_score(y_test, predictions)\n",
        "    mae = mean_absolute_error(y_test, predictions)\n",
        "    mse = mean_squared_error(y_test, predictions)\n",
        "    rmse = np.sqrt(mean_squared_error(y_test, predictions))\n",
        "    rss = np.sum(np.square(y_test-predictions))\n",
        "    \n",
        "    print('RMSE:', rmse)\n",
        "    print('R-Squared:', r2)\n",
        "    print('MSE:', mse)\n",
        "    print('RSS', rss)\n",
        "    print('MAE:', mae)\n",
        "    print()\n",
        "    return [r2, mae, mse, rmse, rss]"
      ]
    },
    {
      "cell_type": "code",
      "execution_count": 49,
      "metadata": {
        "id": "XsHHC-whnHSC"
      },
      "outputs": [],
      "source": [
        "scoring1 = pd.DataFrame()\n",
        "scoring1['Metric'] = ['R2_score', 'MAE', 'MSE', 'RMSE', 'RSS']"
      ]
    },
    {
      "cell_type": "code",
      "execution_count": 50,
      "metadata": {
        "colab": {
          "base_uri": "https://localhost:8080/"
        },
        "id": "NsNVVwM9nHSC",
        "outputId": "36cf5118-d9b9-4a9c-bdf6-eb66423531ff"
      },
      "outputs": [
        {
          "output_type": "stream",
          "name": "stdout",
          "text": [
            "Performance of GradientBoostingRegressor on Test:\n",
            "================================================\n",
            "Test set:\n",
            "****************\n",
            "RMSE: 0.05049226794064476\n",
            "R-Squared: 0.8746022242215116\n",
            "MSE: 0.002549469121789862\n",
            "RSS 0.34672780056342123\n",
            "MAE: 0.03876946280996794\n",
            "\n",
            "Performance of RandomForestRegressor on Test:\n",
            "================================================\n",
            "Test set:\n",
            "****************\n",
            "RMSE: 0.04896334300337393\n",
            "R-Squared: 0.88208143083457\n",
            "MSE: 0.0023974089580660472\n",
            "RSS 0.3260476182969824\n",
            "MAE: 0.03645915353641458\n",
            "\n",
            "Performance of LinearRegression on Test:\n",
            "================================================\n",
            "Test set:\n",
            "****************\n",
            "RMSE: 0.060738331078393375\n",
            "R-Squared: 0.8185463176277645\n",
            "MSE: 0.003689144862188527\n",
            "RSS 0.5017237012576397\n",
            "MAE: 0.048651765328775035\n",
            "\n",
            "Performance of ElasticNet on Test:\n",
            "================================================\n",
            "Test set:\n",
            "****************\n",
            "RMSE: 0.06298143915753687\n",
            "R-Squared: 0.8048964204037058\n",
            "MSE: 0.003966661678354518\n",
            "RSS 0.5394659882562145\n",
            "MAE: 0.05161935633111124\n",
            "\n",
            "Performance of Lasso on Test:\n",
            "================================================\n",
            "Test set:\n",
            "****************\n",
            "RMSE: 0.06298872875184137\n",
            "R-Squared: 0.8048512544542693\n",
            "MSE: 0.003967579949773048\n",
            "RSS 0.5395908731691346\n",
            "MAE: 0.05150595732943966\n",
            "\n",
            "Performance of Ridge on Test:\n",
            "================================================\n",
            "Test set:\n",
            "****************\n",
            "RMSE: 0.060740423973868224\n",
            "R-Squared: 0.8185338125053203\n",
            "MSE: 0.003689399104525266\n",
            "RSS 0.5017582782154362\n",
            "MAE: 0.048657989852195\n",
            "\n",
            "Performance of XGBRegressor on Test:\n",
            "================================================\n",
            "Test set:\n",
            "****************\n",
            "RMSE: 0.054382606056045495\n",
            "R-Squared: 0.8545344652013269\n",
            "MSE: 0.0029574678414470363\n",
            "RSS 0.4022156264367969\n",
            "MAE: 0.04006345185286859\n",
            "\n"
          ]
        }
      ],
      "source": [
        "# Using the first training set X1_train\n",
        "for name, func in models.items():\n",
        "    print(f'Performance of {name} on Test:')\n",
        "    print('=='*24)\n",
        "    print ('Test set:')\n",
        "    print(\"**\"*8)\n",
        "    \n",
        "    model = train(func, X1_train, y_train)\n",
        "    results = score(model, X1_test, y_test)\n",
        "    scoring1[name] = results"
      ]
    },
    {
      "cell_type": "code",
      "execution_count": 51,
      "metadata": {
        "colab": {
          "base_uri": "https://localhost:8080/",
          "height": 206
        },
        "id": "o5_eAR5znHSD",
        "outputId": "62054f66-f0e8-44e6-f5e9-d12af8e2f44a"
      },
      "outputs": [
        {
          "output_type": "execute_result",
          "data": {
            "text/plain": [
              "     Metric  GradientBoostingRegressor  RandomForestRegressor  \\\n",
              "0  R2_score                   0.874602               0.882081   \n",
              "1       MAE                   0.038769               0.036459   \n",
              "2       MSE                   0.002549               0.002397   \n",
              "3      RMSE                   0.050492               0.048963   \n",
              "4       RSS                   0.346728               0.326048   \n",
              "\n",
              "   LinearRegression  ElasticNet     Lasso     Ridge  XGBRegressor  \n",
              "0          0.818546    0.804896  0.804851  0.818534      0.854534  \n",
              "1          0.048652    0.051619  0.051506  0.048658      0.040063  \n",
              "2          0.003689    0.003967  0.003968  0.003689      0.002957  \n",
              "3          0.060738    0.062981  0.062989  0.060740      0.054383  \n",
              "4          0.501724    0.539466  0.539591  0.501758      0.402216  "
            ],
            "text/html": [
              "\n",
              "  <div id=\"df-75d05a09-02b2-4429-9cab-b6c3d4fa6fd6\">\n",
              "    <div class=\"colab-df-container\">\n",
              "      <div>\n",
              "<style scoped>\n",
              "    .dataframe tbody tr th:only-of-type {\n",
              "        vertical-align: middle;\n",
              "    }\n",
              "\n",
              "    .dataframe tbody tr th {\n",
              "        vertical-align: top;\n",
              "    }\n",
              "\n",
              "    .dataframe thead th {\n",
              "        text-align: right;\n",
              "    }\n",
              "</style>\n",
              "<table border=\"1\" class=\"dataframe\">\n",
              "  <thead>\n",
              "    <tr style=\"text-align: right;\">\n",
              "      <th></th>\n",
              "      <th>Metric</th>\n",
              "      <th>GradientBoostingRegressor</th>\n",
              "      <th>RandomForestRegressor</th>\n",
              "      <th>LinearRegression</th>\n",
              "      <th>ElasticNet</th>\n",
              "      <th>Lasso</th>\n",
              "      <th>Ridge</th>\n",
              "      <th>XGBRegressor</th>\n",
              "    </tr>\n",
              "  </thead>\n",
              "  <tbody>\n",
              "    <tr>\n",
              "      <th>0</th>\n",
              "      <td>R2_score</td>\n",
              "      <td>0.874602</td>\n",
              "      <td>0.882081</td>\n",
              "      <td>0.818546</td>\n",
              "      <td>0.804896</td>\n",
              "      <td>0.804851</td>\n",
              "      <td>0.818534</td>\n",
              "      <td>0.854534</td>\n",
              "    </tr>\n",
              "    <tr>\n",
              "      <th>1</th>\n",
              "      <td>MAE</td>\n",
              "      <td>0.038769</td>\n",
              "      <td>0.036459</td>\n",
              "      <td>0.048652</td>\n",
              "      <td>0.051619</td>\n",
              "      <td>0.051506</td>\n",
              "      <td>0.048658</td>\n",
              "      <td>0.040063</td>\n",
              "    </tr>\n",
              "    <tr>\n",
              "      <th>2</th>\n",
              "      <td>MSE</td>\n",
              "      <td>0.002549</td>\n",
              "      <td>0.002397</td>\n",
              "      <td>0.003689</td>\n",
              "      <td>0.003967</td>\n",
              "      <td>0.003968</td>\n",
              "      <td>0.003689</td>\n",
              "      <td>0.002957</td>\n",
              "    </tr>\n",
              "    <tr>\n",
              "      <th>3</th>\n",
              "      <td>RMSE</td>\n",
              "      <td>0.050492</td>\n",
              "      <td>0.048963</td>\n",
              "      <td>0.060738</td>\n",
              "      <td>0.062981</td>\n",
              "      <td>0.062989</td>\n",
              "      <td>0.060740</td>\n",
              "      <td>0.054383</td>\n",
              "    </tr>\n",
              "    <tr>\n",
              "      <th>4</th>\n",
              "      <td>RSS</td>\n",
              "      <td>0.346728</td>\n",
              "      <td>0.326048</td>\n",
              "      <td>0.501724</td>\n",
              "      <td>0.539466</td>\n",
              "      <td>0.539591</td>\n",
              "      <td>0.501758</td>\n",
              "      <td>0.402216</td>\n",
              "    </tr>\n",
              "  </tbody>\n",
              "</table>\n",
              "</div>\n",
              "      <button class=\"colab-df-convert\" onclick=\"convertToInteractive('df-75d05a09-02b2-4429-9cab-b6c3d4fa6fd6')\"\n",
              "              title=\"Convert this dataframe to an interactive table.\"\n",
              "              style=\"display:none;\">\n",
              "        \n",
              "  <svg xmlns=\"http://www.w3.org/2000/svg\" height=\"24px\"viewBox=\"0 0 24 24\"\n",
              "       width=\"24px\">\n",
              "    <path d=\"M0 0h24v24H0V0z\" fill=\"none\"/>\n",
              "    <path d=\"M18.56 5.44l.94 2.06.94-2.06 2.06-.94-2.06-.94-.94-2.06-.94 2.06-2.06.94zm-11 1L8.5 8.5l.94-2.06 2.06-.94-2.06-.94L8.5 2.5l-.94 2.06-2.06.94zm10 10l.94 2.06.94-2.06 2.06-.94-2.06-.94-.94-2.06-.94 2.06-2.06.94z\"/><path d=\"M17.41 7.96l-1.37-1.37c-.4-.4-.92-.59-1.43-.59-.52 0-1.04.2-1.43.59L10.3 9.45l-7.72 7.72c-.78.78-.78 2.05 0 2.83L4 21.41c.39.39.9.59 1.41.59.51 0 1.02-.2 1.41-.59l7.78-7.78 2.81-2.81c.8-.78.8-2.07 0-2.86zM5.41 20L4 18.59l7.72-7.72 1.47 1.35L5.41 20z\"/>\n",
              "  </svg>\n",
              "      </button>\n",
              "      \n",
              "  <style>\n",
              "    .colab-df-container {\n",
              "      display:flex;\n",
              "      flex-wrap:wrap;\n",
              "      gap: 12px;\n",
              "    }\n",
              "\n",
              "    .colab-df-convert {\n",
              "      background-color: #E8F0FE;\n",
              "      border: none;\n",
              "      border-radius: 50%;\n",
              "      cursor: pointer;\n",
              "      display: none;\n",
              "      fill: #1967D2;\n",
              "      height: 32px;\n",
              "      padding: 0 0 0 0;\n",
              "      width: 32px;\n",
              "    }\n",
              "\n",
              "    .colab-df-convert:hover {\n",
              "      background-color: #E2EBFA;\n",
              "      box-shadow: 0px 1px 2px rgba(60, 64, 67, 0.3), 0px 1px 3px 1px rgba(60, 64, 67, 0.15);\n",
              "      fill: #174EA6;\n",
              "    }\n",
              "\n",
              "    [theme=dark] .colab-df-convert {\n",
              "      background-color: #3B4455;\n",
              "      fill: #D2E3FC;\n",
              "    }\n",
              "\n",
              "    [theme=dark] .colab-df-convert:hover {\n",
              "      background-color: #434B5C;\n",
              "      box-shadow: 0px 1px 3px 1px rgba(0, 0, 0, 0.15);\n",
              "      filter: drop-shadow(0px 1px 2px rgba(0, 0, 0, 0.3));\n",
              "      fill: #FFFFFF;\n",
              "    }\n",
              "  </style>\n",
              "\n",
              "      <script>\n",
              "        const buttonEl =\n",
              "          document.querySelector('#df-75d05a09-02b2-4429-9cab-b6c3d4fa6fd6 button.colab-df-convert');\n",
              "        buttonEl.style.display =\n",
              "          google.colab.kernel.accessAllowed ? 'block' : 'none';\n",
              "\n",
              "        async function convertToInteractive(key) {\n",
              "          const element = document.querySelector('#df-75d05a09-02b2-4429-9cab-b6c3d4fa6fd6');\n",
              "          const dataTable =\n",
              "            await google.colab.kernel.invokeFunction('convertToInteractive',\n",
              "                                                     [key], {});\n",
              "          if (!dataTable) return;\n",
              "\n",
              "          const docLinkHtml = 'Like what you see? Visit the ' +\n",
              "            '<a target=\"_blank\" href=https://colab.research.google.com/notebooks/data_table.ipynb>data table notebook</a>'\n",
              "            + ' to learn more about interactive tables.';\n",
              "          element.innerHTML = '';\n",
              "          dataTable['output_type'] = 'display_data';\n",
              "          await google.colab.output.renderOutput(dataTable, element);\n",
              "          const docLink = document.createElement('div');\n",
              "          docLink.innerHTML = docLinkHtml;\n",
              "          element.appendChild(docLink);\n",
              "        }\n",
              "      </script>\n",
              "    </div>\n",
              "  </div>\n",
              "  "
            ]
          },
          "metadata": {},
          "execution_count": 51
        }
      ],
      "source": [
        "scoring1"
      ]
    },
    {
      "cell_type": "markdown",
      "metadata": {
        "id": "gd9woJtmnHSD"
      },
      "source": [
        "### The first training set makes use of the binned ages as categories rather than age as continuous data."
      ]
    },
    {
      "cell_type": "code",
      "execution_count": 52,
      "metadata": {
        "id": "Ok5hxmkBnHSD"
      },
      "outputs": [],
      "source": [
        "scoring2 = pd.DataFrame()\n",
        "scoring2['Metric'] = ['R2_score', 'MAE', 'MSE', 'RMSE', 'RSS']"
      ]
    },
    {
      "cell_type": "code",
      "execution_count": 53,
      "metadata": {
        "colab": {
          "base_uri": "https://localhost:8080/"
        },
        "id": "adpGqV3InHSE",
        "outputId": "65be8ee3-53ea-463e-f813-a31395fa60c1"
      },
      "outputs": [
        {
          "output_type": "stream",
          "name": "stdout",
          "text": [
            "Performance of GradientBoostingRegressor on Test:\n",
            "================================================\n",
            "Test set:\n",
            "****************\n",
            "RMSE: 0.04936201701297427\n",
            "R-Squared: 0.8801533575091768\n",
            "MSE: 0.002436608723589161\n",
            "RSS 0.3313787864081259\n",
            "MAE: 0.03794856104012073\n",
            "\n",
            "Performance of RandomForestRegressor on Test:\n",
            "================================================\n",
            "Test set:\n",
            "****************\n",
            "RMSE: 0.047836711382392906\n",
            "R-Squared: 0.8874455400868833\n",
            "MSE: 0.002288350955882359\n",
            "RSS 0.31121573000000086\n",
            "MAE: 0.036147794117647084\n",
            "\n",
            "Performance of LinearRegression on Test:\n",
            "================================================\n",
            "Test set:\n",
            "****************\n",
            "RMSE: 0.060394386356529314\n",
            "R-Squared: 0.8205955451795204\n",
            "MSE: 0.0036474819033817346\n",
            "RSS 0.4960575388599159\n",
            "MAE: 0.04866857384722489\n",
            "\n",
            "Performance of ElasticNet on Test:\n",
            "================================================\n",
            "Test set:\n",
            "****************\n",
            "RMSE: 0.06290008468426475\n",
            "R-Squared: 0.8054001338058796\n",
            "MSE: 0.003956420653287677\n",
            "RSS 0.5380732088471241\n",
            "MAE: 0.0520728937952316\n",
            "\n",
            "Performance of Lasso on Test:\n",
            "================================================\n",
            "Test set:\n",
            "****************\n",
            "RMSE: 0.06297278331167681\n",
            "R-Squared: 0.8049500447884529\n",
            "MSE: 0.003965571438019401\n",
            "RSS 0.5393177155706386\n",
            "MAE: 0.05211858616279635\n",
            "\n",
            "Performance of Ridge on Test:\n",
            "================================================\n",
            "Test set:\n",
            "****************\n",
            "RMSE: 0.06039702107686017\n",
            "R-Squared: 0.820579891708942\n",
            "MSE: 0.003647800154958692\n",
            "RSS 0.4961008210743821\n",
            "MAE: 0.04867447390614337\n",
            "\n",
            "Performance of XGBRegressor on Test:\n",
            "================================================\n",
            "Test set:\n",
            "****************\n",
            "RMSE: 0.051726771741915985\n",
            "R-Squared: 0.8683954734751598\n",
            "MSE: 0.002675658914840278\n",
            "RSS 0.36388961241827783\n",
            "MAE: 0.0380347960135516\n",
            "\n"
          ]
        }
      ],
      "source": [
        "# Using the second training set X2_train\n",
        "for name, func in models.items():\n",
        "    print(f'Performance of {name} on Test:')\n",
        "    print('=='*24)\n",
        "    print ('Test set:')\n",
        "    print(\"**\"*8)\n",
        "    \n",
        "    model = train(func, X2_train, y_train)\n",
        "    results = score(model, X2_test, y_test)\n",
        "    scoring2[name] = results"
      ]
    },
    {
      "cell_type": "code",
      "execution_count": 54,
      "metadata": {
        "colab": {
          "base_uri": "https://localhost:8080/",
          "height": 206
        },
        "id": "rA8V6rYDnHSE",
        "outputId": "fdb0f329-313c-424f-bb68-c8abdbcad62d"
      },
      "outputs": [
        {
          "output_type": "execute_result",
          "data": {
            "text/plain": [
              "     Metric  GradientBoostingRegressor  RandomForestRegressor  \\\n",
              "0  R2_score                   0.880153               0.887446   \n",
              "1       MAE                   0.037949               0.036148   \n",
              "2       MSE                   0.002437               0.002288   \n",
              "3      RMSE                   0.049362               0.047837   \n",
              "4       RSS                   0.331379               0.311216   \n",
              "\n",
              "   LinearRegression  ElasticNet     Lasso     Ridge  XGBRegressor  \n",
              "0          0.820596    0.805400  0.804950  0.820580      0.868395  \n",
              "1          0.048669    0.052073  0.052119  0.048674      0.038035  \n",
              "2          0.003647    0.003956  0.003966  0.003648      0.002676  \n",
              "3          0.060394    0.062900  0.062973  0.060397      0.051727  \n",
              "4          0.496058    0.538073  0.539318  0.496101      0.363890  "
            ],
            "text/html": [
              "\n",
              "  <div id=\"df-25cac08c-9eb2-4844-a98a-c9cb2b483883\">\n",
              "    <div class=\"colab-df-container\">\n",
              "      <div>\n",
              "<style scoped>\n",
              "    .dataframe tbody tr th:only-of-type {\n",
              "        vertical-align: middle;\n",
              "    }\n",
              "\n",
              "    .dataframe tbody tr th {\n",
              "        vertical-align: top;\n",
              "    }\n",
              "\n",
              "    .dataframe thead th {\n",
              "        text-align: right;\n",
              "    }\n",
              "</style>\n",
              "<table border=\"1\" class=\"dataframe\">\n",
              "  <thead>\n",
              "    <tr style=\"text-align: right;\">\n",
              "      <th></th>\n",
              "      <th>Metric</th>\n",
              "      <th>GradientBoostingRegressor</th>\n",
              "      <th>RandomForestRegressor</th>\n",
              "      <th>LinearRegression</th>\n",
              "      <th>ElasticNet</th>\n",
              "      <th>Lasso</th>\n",
              "      <th>Ridge</th>\n",
              "      <th>XGBRegressor</th>\n",
              "    </tr>\n",
              "  </thead>\n",
              "  <tbody>\n",
              "    <tr>\n",
              "      <th>0</th>\n",
              "      <td>R2_score</td>\n",
              "      <td>0.880153</td>\n",
              "      <td>0.887446</td>\n",
              "      <td>0.820596</td>\n",
              "      <td>0.805400</td>\n",
              "      <td>0.804950</td>\n",
              "      <td>0.820580</td>\n",
              "      <td>0.868395</td>\n",
              "    </tr>\n",
              "    <tr>\n",
              "      <th>1</th>\n",
              "      <td>MAE</td>\n",
              "      <td>0.037949</td>\n",
              "      <td>0.036148</td>\n",
              "      <td>0.048669</td>\n",
              "      <td>0.052073</td>\n",
              "      <td>0.052119</td>\n",
              "      <td>0.048674</td>\n",
              "      <td>0.038035</td>\n",
              "    </tr>\n",
              "    <tr>\n",
              "      <th>2</th>\n",
              "      <td>MSE</td>\n",
              "      <td>0.002437</td>\n",
              "      <td>0.002288</td>\n",
              "      <td>0.003647</td>\n",
              "      <td>0.003956</td>\n",
              "      <td>0.003966</td>\n",
              "      <td>0.003648</td>\n",
              "      <td>0.002676</td>\n",
              "    </tr>\n",
              "    <tr>\n",
              "      <th>3</th>\n",
              "      <td>RMSE</td>\n",
              "      <td>0.049362</td>\n",
              "      <td>0.047837</td>\n",
              "      <td>0.060394</td>\n",
              "      <td>0.062900</td>\n",
              "      <td>0.062973</td>\n",
              "      <td>0.060397</td>\n",
              "      <td>0.051727</td>\n",
              "    </tr>\n",
              "    <tr>\n",
              "      <th>4</th>\n",
              "      <td>RSS</td>\n",
              "      <td>0.331379</td>\n",
              "      <td>0.311216</td>\n",
              "      <td>0.496058</td>\n",
              "      <td>0.538073</td>\n",
              "      <td>0.539318</td>\n",
              "      <td>0.496101</td>\n",
              "      <td>0.363890</td>\n",
              "    </tr>\n",
              "  </tbody>\n",
              "</table>\n",
              "</div>\n",
              "      <button class=\"colab-df-convert\" onclick=\"convertToInteractive('df-25cac08c-9eb2-4844-a98a-c9cb2b483883')\"\n",
              "              title=\"Convert this dataframe to an interactive table.\"\n",
              "              style=\"display:none;\">\n",
              "        \n",
              "  <svg xmlns=\"http://www.w3.org/2000/svg\" height=\"24px\"viewBox=\"0 0 24 24\"\n",
              "       width=\"24px\">\n",
              "    <path d=\"M0 0h24v24H0V0z\" fill=\"none\"/>\n",
              "    <path d=\"M18.56 5.44l.94 2.06.94-2.06 2.06-.94-2.06-.94-.94-2.06-.94 2.06-2.06.94zm-11 1L8.5 8.5l.94-2.06 2.06-.94-2.06-.94L8.5 2.5l-.94 2.06-2.06.94zm10 10l.94 2.06.94-2.06 2.06-.94-2.06-.94-.94-2.06-.94 2.06-2.06.94z\"/><path d=\"M17.41 7.96l-1.37-1.37c-.4-.4-.92-.59-1.43-.59-.52 0-1.04.2-1.43.59L10.3 9.45l-7.72 7.72c-.78.78-.78 2.05 0 2.83L4 21.41c.39.39.9.59 1.41.59.51 0 1.02-.2 1.41-.59l7.78-7.78 2.81-2.81c.8-.78.8-2.07 0-2.86zM5.41 20L4 18.59l7.72-7.72 1.47 1.35L5.41 20z\"/>\n",
              "  </svg>\n",
              "      </button>\n",
              "      \n",
              "  <style>\n",
              "    .colab-df-container {\n",
              "      display:flex;\n",
              "      flex-wrap:wrap;\n",
              "      gap: 12px;\n",
              "    }\n",
              "\n",
              "    .colab-df-convert {\n",
              "      background-color: #E8F0FE;\n",
              "      border: none;\n",
              "      border-radius: 50%;\n",
              "      cursor: pointer;\n",
              "      display: none;\n",
              "      fill: #1967D2;\n",
              "      height: 32px;\n",
              "      padding: 0 0 0 0;\n",
              "      width: 32px;\n",
              "    }\n",
              "\n",
              "    .colab-df-convert:hover {\n",
              "      background-color: #E2EBFA;\n",
              "      box-shadow: 0px 1px 2px rgba(60, 64, 67, 0.3), 0px 1px 3px 1px rgba(60, 64, 67, 0.15);\n",
              "      fill: #174EA6;\n",
              "    }\n",
              "\n",
              "    [theme=dark] .colab-df-convert {\n",
              "      background-color: #3B4455;\n",
              "      fill: #D2E3FC;\n",
              "    }\n",
              "\n",
              "    [theme=dark] .colab-df-convert:hover {\n",
              "      background-color: #434B5C;\n",
              "      box-shadow: 0px 1px 3px 1px rgba(0, 0, 0, 0.15);\n",
              "      filter: drop-shadow(0px 1px 2px rgba(0, 0, 0, 0.3));\n",
              "      fill: #FFFFFF;\n",
              "    }\n",
              "  </style>\n",
              "\n",
              "      <script>\n",
              "        const buttonEl =\n",
              "          document.querySelector('#df-25cac08c-9eb2-4844-a98a-c9cb2b483883 button.colab-df-convert');\n",
              "        buttonEl.style.display =\n",
              "          google.colab.kernel.accessAllowed ? 'block' : 'none';\n",
              "\n",
              "        async function convertToInteractive(key) {\n",
              "          const element = document.querySelector('#df-25cac08c-9eb2-4844-a98a-c9cb2b483883');\n",
              "          const dataTable =\n",
              "            await google.colab.kernel.invokeFunction('convertToInteractive',\n",
              "                                                     [key], {});\n",
              "          if (!dataTable) return;\n",
              "\n",
              "          const docLinkHtml = 'Like what you see? Visit the ' +\n",
              "            '<a target=\"_blank\" href=https://colab.research.google.com/notebooks/data_table.ipynb>data table notebook</a>'\n",
              "            + ' to learn more about interactive tables.';\n",
              "          element.innerHTML = '';\n",
              "          dataTable['output_type'] = 'display_data';\n",
              "          await google.colab.output.renderOutput(dataTable, element);\n",
              "          const docLink = document.createElement('div');\n",
              "          docLink.innerHTML = docLinkHtml;\n",
              "          element.appendChild(docLink);\n",
              "        }\n",
              "      </script>\n",
              "    </div>\n",
              "  </div>\n",
              "  "
            ]
          },
          "metadata": {},
          "execution_count": 54
        }
      ],
      "source": [
        "scoring2"
      ]
    },
    {
      "cell_type": "markdown",
      "metadata": {
        "id": "9-7Vk0xMnHSE"
      },
      "source": [
        "### The second training set makes use of the ages as continuous data."
      ]
    },
    {
      "cell_type": "markdown",
      "metadata": {
        "id": "R28RywsOnHSE"
      },
      "source": [
        "### Scaling training data"
      ]
    },
    {
      "cell_type": "code",
      "execution_count": 55,
      "metadata": {
        "id": "7Tdngx4xnHSE"
      },
      "outputs": [],
      "source": [
        "from sklearn.preprocessing import MinMaxScaler"
      ]
    },
    {
      "cell_type": "code",
      "execution_count": 56,
      "metadata": {
        "id": "9Bo-Jv1MnHSE"
      },
      "outputs": [],
      "source": [
        "scaler = MinMaxScaler()"
      ]
    },
    {
      "cell_type": "code",
      "execution_count": 57,
      "metadata": {
        "id": "nKgimVmsnHSE"
      },
      "outputs": [],
      "source": [
        "# Fit and transform the training data\n",
        "X1_train_scaled = scaler.fit_transform(X1_train)\n",
        "X1_test_scaled = scaler.fit_transform(X1_test)\n",
        "\n",
        "X2_train_scaled = scaler.fit_transform(X2_train)\n",
        "X2_test_scaled = scaler.fit_transform(X2_test)"
      ]
    },
    {
      "cell_type": "code",
      "execution_count": 58,
      "metadata": {
        "colab": {
          "base_uri": "https://localhost:8080/"
        },
        "id": "C79ollLznHSF",
        "outputId": "1a51005b-057d-4e9f-b20d-5f17ae036b37"
      },
      "outputs": [
        {
          "output_type": "execute_result",
          "data": {
            "text/plain": [
              "array([[0.4       , 0.33333333, 0.90909091, ..., 0.        , 1.        ,\n",
              "        0.        ],\n",
              "       [0.6       , 0.46666667, 0.78181818, ..., 0.        , 0.        ,\n",
              "        0.        ],\n",
              "       [0.6       , 0.8       , 0.        , ..., 0.        , 1.        ,\n",
              "        0.        ],\n",
              "       ...,\n",
              "       [0.4       , 0.33333333, 0.81818182, ..., 0.        , 1.        ,\n",
              "        0.        ],\n",
              "       [0.4       , 0.86666667, 0.67272727, ..., 1.        , 0.        ,\n",
              "        0.        ],\n",
              "       [0.6       , 0.6       , 0.72727273, ..., 0.        , 1.        ,\n",
              "        0.        ]])"
            ]
          },
          "metadata": {},
          "execution_count": 58
        }
      ],
      "source": [
        "X1_train_scaled"
      ]
    },
    {
      "cell_type": "code",
      "execution_count": 59,
      "metadata": {
        "id": "S1wfXNjxnHSF"
      },
      "outputs": [],
      "source": [
        "scoring3 = pd.DataFrame()\n",
        "scoring3['Metric'] = ['R2_score', 'MAE', 'MSE', 'RMSE', 'RSS']"
      ]
    },
    {
      "cell_type": "code",
      "execution_count": 60,
      "metadata": {
        "colab": {
          "base_uri": "https://localhost:8080/"
        },
        "id": "1jektdQJnHSF",
        "outputId": "6decf684-28c6-4ae9-b9cd-75af73bc083a"
      },
      "outputs": [
        {
          "output_type": "stream",
          "name": "stdout",
          "text": [
            "Performance of GradientBoostingRegressor on Test:\n",
            "================================================\n",
            "Test set:\n",
            "****************\n",
            "RMSE: 0.049944345715004744\n",
            "R-Squared: 0.8773089923605246\n",
            "MSE: 0.0024944376688999124\n",
            "RSS 0.33924352297038807\n",
            "MAE: 0.03709515659413608\n",
            "\n",
            "Performance of RandomForestRegressor on Test:\n",
            "================================================\n",
            "Test set:\n",
            "****************\n",
            "RMSE: 0.04828441314286227\n",
            "R-Squared: 0.8853288965630117\n",
            "MSE: 0.0023313845525506104\n",
            "RSS 0.317068299146883\n",
            "MAE: 0.03640341211484598\n",
            "\n",
            "Performance of LinearRegression on Test:\n",
            "================================================\n",
            "Test set:\n",
            "****************\n",
            "RMSE: 0.05946893048911271\n",
            "R-Squared: 0.8260516421641824\n",
            "MSE: 0.0035365536935189194\n",
            "RSS 0.48097130231857305\n",
            "MAE: 0.04651877010569854\n",
            "\n",
            "Performance of ElasticNet on Test:\n",
            "================================================\n",
            "Test set:\n",
            "****************\n",
            "RMSE: 0.05903137446231929\n",
            "R-Squared: 0.8286019535809669\n",
            "MSE: 0.003484703170910562\n",
            "RSS 0.47391963124383646\n",
            "MAE: 0.04664913850863485\n",
            "\n",
            "Performance of Lasso on Test:\n",
            "================================================\n",
            "Test set:\n",
            "****************\n",
            "RMSE: 0.058825056863078165\n",
            "R-Squared: 0.8297979493387695\n",
            "MSE: 0.0034603873149443793\n",
            "RSS 0.4706126748324356\n",
            "MAE: 0.04659374009163396\n",
            "\n",
            "Performance of Ridge on Test:\n",
            "================================================\n",
            "Test set:\n",
            "****************\n",
            "RMSE: 0.0595007335751395\n",
            "R-Squared: 0.8258655425056453\n",
            "MSE: 0.003540337295979733\n",
            "RSS 0.4814858722532437\n",
            "MAE: 0.046524328168287284\n",
            "\n",
            "Performance of XGBRegressor on Test:\n",
            "================================================\n",
            "Test set:\n",
            "****************\n",
            "RMSE: 0.05361533068749611\n",
            "R-Squared: 0.8586102082081049\n",
            "MSE: 0.0028746036847295624\n",
            "RSS 0.3909461011232205\n",
            "MAE: 0.038595350954462496\n",
            "\n"
          ]
        }
      ],
      "source": [
        "# Using the third training set X1_train_scaled\n",
        "for name, func in models.items():\n",
        "    print(f'Performance of {name} on Test:')\n",
        "    print('=='*24)\n",
        "    print ('Test set:')\n",
        "    print(\"**\"*8)\n",
        "    \n",
        "    model = train(func, X1_train_scaled, y_train)\n",
        "    results = score(model, X1_test_scaled, y_test)\n",
        "    scoring3[name] = results"
      ]
    },
    {
      "cell_type": "code",
      "execution_count": 61,
      "metadata": {
        "scrolled": true,
        "colab": {
          "base_uri": "https://localhost:8080/",
          "height": 206
        },
        "id": "JpSboGGenHSF",
        "outputId": "9ead260b-a415-44d3-828c-eb2c0a36a46d"
      },
      "outputs": [
        {
          "output_type": "execute_result",
          "data": {
            "text/plain": [
              "     Metric  GradientBoostingRegressor  RandomForestRegressor  \\\n",
              "0  R2_score                   0.877309               0.885329   \n",
              "1       MAE                   0.037095               0.036403   \n",
              "2       MSE                   0.002494               0.002331   \n",
              "3      RMSE                   0.049944               0.048284   \n",
              "4       RSS                   0.339244               0.317068   \n",
              "\n",
              "   LinearRegression  ElasticNet     Lasso     Ridge  XGBRegressor  \n",
              "0          0.826052    0.828602  0.829798  0.825866      0.858610  \n",
              "1          0.046519    0.046649  0.046594  0.046524      0.038595  \n",
              "2          0.003537    0.003485  0.003460  0.003540      0.002875  \n",
              "3          0.059469    0.059031  0.058825  0.059501      0.053615  \n",
              "4          0.480971    0.473920  0.470613  0.481486      0.390946  "
            ],
            "text/html": [
              "\n",
              "  <div id=\"df-7ba850eb-f129-49c2-b02d-e7a721224f4a\">\n",
              "    <div class=\"colab-df-container\">\n",
              "      <div>\n",
              "<style scoped>\n",
              "    .dataframe tbody tr th:only-of-type {\n",
              "        vertical-align: middle;\n",
              "    }\n",
              "\n",
              "    .dataframe tbody tr th {\n",
              "        vertical-align: top;\n",
              "    }\n",
              "\n",
              "    .dataframe thead th {\n",
              "        text-align: right;\n",
              "    }\n",
              "</style>\n",
              "<table border=\"1\" class=\"dataframe\">\n",
              "  <thead>\n",
              "    <tr style=\"text-align: right;\">\n",
              "      <th></th>\n",
              "      <th>Metric</th>\n",
              "      <th>GradientBoostingRegressor</th>\n",
              "      <th>RandomForestRegressor</th>\n",
              "      <th>LinearRegression</th>\n",
              "      <th>ElasticNet</th>\n",
              "      <th>Lasso</th>\n",
              "      <th>Ridge</th>\n",
              "      <th>XGBRegressor</th>\n",
              "    </tr>\n",
              "  </thead>\n",
              "  <tbody>\n",
              "    <tr>\n",
              "      <th>0</th>\n",
              "      <td>R2_score</td>\n",
              "      <td>0.877309</td>\n",
              "      <td>0.885329</td>\n",
              "      <td>0.826052</td>\n",
              "      <td>0.828602</td>\n",
              "      <td>0.829798</td>\n",
              "      <td>0.825866</td>\n",
              "      <td>0.858610</td>\n",
              "    </tr>\n",
              "    <tr>\n",
              "      <th>1</th>\n",
              "      <td>MAE</td>\n",
              "      <td>0.037095</td>\n",
              "      <td>0.036403</td>\n",
              "      <td>0.046519</td>\n",
              "      <td>0.046649</td>\n",
              "      <td>0.046594</td>\n",
              "      <td>0.046524</td>\n",
              "      <td>0.038595</td>\n",
              "    </tr>\n",
              "    <tr>\n",
              "      <th>2</th>\n",
              "      <td>MSE</td>\n",
              "      <td>0.002494</td>\n",
              "      <td>0.002331</td>\n",
              "      <td>0.003537</td>\n",
              "      <td>0.003485</td>\n",
              "      <td>0.003460</td>\n",
              "      <td>0.003540</td>\n",
              "      <td>0.002875</td>\n",
              "    </tr>\n",
              "    <tr>\n",
              "      <th>3</th>\n",
              "      <td>RMSE</td>\n",
              "      <td>0.049944</td>\n",
              "      <td>0.048284</td>\n",
              "      <td>0.059469</td>\n",
              "      <td>0.059031</td>\n",
              "      <td>0.058825</td>\n",
              "      <td>0.059501</td>\n",
              "      <td>0.053615</td>\n",
              "    </tr>\n",
              "    <tr>\n",
              "      <th>4</th>\n",
              "      <td>RSS</td>\n",
              "      <td>0.339244</td>\n",
              "      <td>0.317068</td>\n",
              "      <td>0.480971</td>\n",
              "      <td>0.473920</td>\n",
              "      <td>0.470613</td>\n",
              "      <td>0.481486</td>\n",
              "      <td>0.390946</td>\n",
              "    </tr>\n",
              "  </tbody>\n",
              "</table>\n",
              "</div>\n",
              "      <button class=\"colab-df-convert\" onclick=\"convertToInteractive('df-7ba850eb-f129-49c2-b02d-e7a721224f4a')\"\n",
              "              title=\"Convert this dataframe to an interactive table.\"\n",
              "              style=\"display:none;\">\n",
              "        \n",
              "  <svg xmlns=\"http://www.w3.org/2000/svg\" height=\"24px\"viewBox=\"0 0 24 24\"\n",
              "       width=\"24px\">\n",
              "    <path d=\"M0 0h24v24H0V0z\" fill=\"none\"/>\n",
              "    <path d=\"M18.56 5.44l.94 2.06.94-2.06 2.06-.94-2.06-.94-.94-2.06-.94 2.06-2.06.94zm-11 1L8.5 8.5l.94-2.06 2.06-.94-2.06-.94L8.5 2.5l-.94 2.06-2.06.94zm10 10l.94 2.06.94-2.06 2.06-.94-2.06-.94-.94-2.06-.94 2.06-2.06.94z\"/><path d=\"M17.41 7.96l-1.37-1.37c-.4-.4-.92-.59-1.43-.59-.52 0-1.04.2-1.43.59L10.3 9.45l-7.72 7.72c-.78.78-.78 2.05 0 2.83L4 21.41c.39.39.9.59 1.41.59.51 0 1.02-.2 1.41-.59l7.78-7.78 2.81-2.81c.8-.78.8-2.07 0-2.86zM5.41 20L4 18.59l7.72-7.72 1.47 1.35L5.41 20z\"/>\n",
              "  </svg>\n",
              "      </button>\n",
              "      \n",
              "  <style>\n",
              "    .colab-df-container {\n",
              "      display:flex;\n",
              "      flex-wrap:wrap;\n",
              "      gap: 12px;\n",
              "    }\n",
              "\n",
              "    .colab-df-convert {\n",
              "      background-color: #E8F0FE;\n",
              "      border: none;\n",
              "      border-radius: 50%;\n",
              "      cursor: pointer;\n",
              "      display: none;\n",
              "      fill: #1967D2;\n",
              "      height: 32px;\n",
              "      padding: 0 0 0 0;\n",
              "      width: 32px;\n",
              "    }\n",
              "\n",
              "    .colab-df-convert:hover {\n",
              "      background-color: #E2EBFA;\n",
              "      box-shadow: 0px 1px 2px rgba(60, 64, 67, 0.3), 0px 1px 3px 1px rgba(60, 64, 67, 0.15);\n",
              "      fill: #174EA6;\n",
              "    }\n",
              "\n",
              "    [theme=dark] .colab-df-convert {\n",
              "      background-color: #3B4455;\n",
              "      fill: #D2E3FC;\n",
              "    }\n",
              "\n",
              "    [theme=dark] .colab-df-convert:hover {\n",
              "      background-color: #434B5C;\n",
              "      box-shadow: 0px 1px 3px 1px rgba(0, 0, 0, 0.15);\n",
              "      filter: drop-shadow(0px 1px 2px rgba(0, 0, 0, 0.3));\n",
              "      fill: #FFFFFF;\n",
              "    }\n",
              "  </style>\n",
              "\n",
              "      <script>\n",
              "        const buttonEl =\n",
              "          document.querySelector('#df-7ba850eb-f129-49c2-b02d-e7a721224f4a button.colab-df-convert');\n",
              "        buttonEl.style.display =\n",
              "          google.colab.kernel.accessAllowed ? 'block' : 'none';\n",
              "\n",
              "        async function convertToInteractive(key) {\n",
              "          const element = document.querySelector('#df-7ba850eb-f129-49c2-b02d-e7a721224f4a');\n",
              "          const dataTable =\n",
              "            await google.colab.kernel.invokeFunction('convertToInteractive',\n",
              "                                                     [key], {});\n",
              "          if (!dataTable) return;\n",
              "\n",
              "          const docLinkHtml = 'Like what you see? Visit the ' +\n",
              "            '<a target=\"_blank\" href=https://colab.research.google.com/notebooks/data_table.ipynb>data table notebook</a>'\n",
              "            + ' to learn more about interactive tables.';\n",
              "          element.innerHTML = '';\n",
              "          dataTable['output_type'] = 'display_data';\n",
              "          await google.colab.output.renderOutput(dataTable, element);\n",
              "          const docLink = document.createElement('div');\n",
              "          docLink.innerHTML = docLinkHtml;\n",
              "          element.appendChild(docLink);\n",
              "        }\n",
              "      </script>\n",
              "    </div>\n",
              "  </div>\n",
              "  "
            ]
          },
          "metadata": {},
          "execution_count": 61
        }
      ],
      "source": [
        "scoring3"
      ]
    },
    {
      "cell_type": "code",
      "execution_count": 62,
      "metadata": {
        "id": "-k7Qt6qUnHSF"
      },
      "outputs": [],
      "source": [
        "scoring4 = pd.DataFrame()\n",
        "scoring4['Metric'] = ['R2_score', 'MAE', 'MSE', 'RMSE', 'RSS']"
      ]
    },
    {
      "cell_type": "code",
      "execution_count": 63,
      "metadata": {
        "colab": {
          "base_uri": "https://localhost:8080/"
        },
        "id": "ft9eniWPnHSF",
        "outputId": "1cd07964-de78-469e-fd27-27cd10b25a86"
      },
      "outputs": [
        {
          "output_type": "stream",
          "name": "stdout",
          "text": [
            "Performance of GradientBoostingRegressor on Test:\n",
            "================================================\n",
            "Test set:\n",
            "****************\n",
            "RMSE: 0.050245859913531754\n",
            "R-Squared: 0.8758231487085102\n",
            "MSE: 0.002524646438450257\n",
            "RSS 0.34335191562923495\n",
            "MAE: 0.03755820137637095\n",
            "\n",
            "Performance of RandomForestRegressor on Test:\n",
            "================================================\n",
            "Test set:\n",
            "****************\n",
            "RMSE: 0.047426853122032354\n",
            "R-Squared: 0.8893659794406596\n",
            "MSE: 0.0022493063970588302\n",
            "RSS 0.3059056700000009\n",
            "MAE: 0.03667279411764711\n",
            "\n",
            "Performance of LinearRegression on Test:\n",
            "================================================\n",
            "Test set:\n",
            "****************\n",
            "RMSE: 0.059336526900442915\n",
            "R-Squared: 0.8268253486260866\n",
            "MSE: 0.0035208234246069856\n",
            "RSS 0.47883198574655006\n",
            "MAE: 0.04685741401353394\n",
            "\n",
            "Performance of ElasticNet on Test:\n",
            "================================================\n",
            "Test set:\n",
            "****************\n",
            "RMSE: 0.058904031902541745\n",
            "R-Squared: 0.8293406361661316\n",
            "MSE: 0.003469684974375656\n",
            "RSS 0.4718771565150892\n",
            "MAE: 0.04708484947384761\n",
            "\n",
            "Performance of Lasso on Test:\n",
            "================================================\n",
            "Test set:\n",
            "****************\n",
            "RMSE: 0.05872555462986771\n",
            "R-Squared: 0.8303732538741111\n",
            "MSE: 0.0034486907665855775\n",
            "RSS 0.46902194425563853\n",
            "MAE: 0.04707248193737851\n",
            "\n",
            "Performance of Ridge on Test:\n",
            "================================================\n",
            "Test set:\n",
            "****************\n",
            "RMSE: 0.05933649954335656\n",
            "R-Squared: 0.8268255083102827\n",
            "MSE: 0.003520820178058753\n",
            "RSS 0.47883154421599045\n",
            "MAE: 0.046858448135446845\n",
            "\n",
            "Performance of XGBRegressor on Test:\n",
            "================================================\n",
            "Test set:\n",
            "****************\n",
            "RMSE: 0.05137914856953115\n",
            "R-Squared: 0.8701583926384702\n",
            "MSE: 0.0026398169077299547\n",
            "RSS 0.35901509945127386\n",
            "MAE: 0.03846704214811325\n",
            "\n"
          ]
        }
      ],
      "source": [
        "# Using the fourth training set X2_train_scaled\n",
        "for name, func in models.items():\n",
        "    print(f'Performance of {name} on Test:')\n",
        "    print('=='*24)\n",
        "    print ('Test set:')\n",
        "    print(\"**\"*8)\n",
        "    \n",
        "    model = train(func, X2_train_scaled, y_train)\n",
        "    results = score(model, X2_test_scaled, y_test)\n",
        "    scoring4[name] = results"
      ]
    },
    {
      "cell_type": "code",
      "execution_count": 64,
      "metadata": {
        "colab": {
          "base_uri": "https://localhost:8080/",
          "height": 206
        },
        "id": "7bkUmcgUnHSG",
        "outputId": "a67610cb-4208-4610-bc47-41657834f700"
      },
      "outputs": [
        {
          "output_type": "execute_result",
          "data": {
            "text/plain": [
              "     Metric  GradientBoostingRegressor  RandomForestRegressor  \\\n",
              "0  R2_score                   0.875823               0.889366   \n",
              "1       MAE                   0.037558               0.036673   \n",
              "2       MSE                   0.002525               0.002249   \n",
              "3      RMSE                   0.050246               0.047427   \n",
              "4       RSS                   0.343352               0.305906   \n",
              "\n",
              "   LinearRegression  ElasticNet     Lasso     Ridge  XGBRegressor  \n",
              "0          0.826825    0.829341  0.830373  0.826826      0.870158  \n",
              "1          0.046857    0.047085  0.047072  0.046858      0.038467  \n",
              "2          0.003521    0.003470  0.003449  0.003521      0.002640  \n",
              "3          0.059337    0.058904  0.058726  0.059336      0.051379  \n",
              "4          0.478832    0.471877  0.469022  0.478832      0.359015  "
            ],
            "text/html": [
              "\n",
              "  <div id=\"df-0acebf79-d55d-43a7-9409-9e4786339dec\">\n",
              "    <div class=\"colab-df-container\">\n",
              "      <div>\n",
              "<style scoped>\n",
              "    .dataframe tbody tr th:only-of-type {\n",
              "        vertical-align: middle;\n",
              "    }\n",
              "\n",
              "    .dataframe tbody tr th {\n",
              "        vertical-align: top;\n",
              "    }\n",
              "\n",
              "    .dataframe thead th {\n",
              "        text-align: right;\n",
              "    }\n",
              "</style>\n",
              "<table border=\"1\" class=\"dataframe\">\n",
              "  <thead>\n",
              "    <tr style=\"text-align: right;\">\n",
              "      <th></th>\n",
              "      <th>Metric</th>\n",
              "      <th>GradientBoostingRegressor</th>\n",
              "      <th>RandomForestRegressor</th>\n",
              "      <th>LinearRegression</th>\n",
              "      <th>ElasticNet</th>\n",
              "      <th>Lasso</th>\n",
              "      <th>Ridge</th>\n",
              "      <th>XGBRegressor</th>\n",
              "    </tr>\n",
              "  </thead>\n",
              "  <tbody>\n",
              "    <tr>\n",
              "      <th>0</th>\n",
              "      <td>R2_score</td>\n",
              "      <td>0.875823</td>\n",
              "      <td>0.889366</td>\n",
              "      <td>0.826825</td>\n",
              "      <td>0.829341</td>\n",
              "      <td>0.830373</td>\n",
              "      <td>0.826826</td>\n",
              "      <td>0.870158</td>\n",
              "    </tr>\n",
              "    <tr>\n",
              "      <th>1</th>\n",
              "      <td>MAE</td>\n",
              "      <td>0.037558</td>\n",
              "      <td>0.036673</td>\n",
              "      <td>0.046857</td>\n",
              "      <td>0.047085</td>\n",
              "      <td>0.047072</td>\n",
              "      <td>0.046858</td>\n",
              "      <td>0.038467</td>\n",
              "    </tr>\n",
              "    <tr>\n",
              "      <th>2</th>\n",
              "      <td>MSE</td>\n",
              "      <td>0.002525</td>\n",
              "      <td>0.002249</td>\n",
              "      <td>0.003521</td>\n",
              "      <td>0.003470</td>\n",
              "      <td>0.003449</td>\n",
              "      <td>0.003521</td>\n",
              "      <td>0.002640</td>\n",
              "    </tr>\n",
              "    <tr>\n",
              "      <th>3</th>\n",
              "      <td>RMSE</td>\n",
              "      <td>0.050246</td>\n",
              "      <td>0.047427</td>\n",
              "      <td>0.059337</td>\n",
              "      <td>0.058904</td>\n",
              "      <td>0.058726</td>\n",
              "      <td>0.059336</td>\n",
              "      <td>0.051379</td>\n",
              "    </tr>\n",
              "    <tr>\n",
              "      <th>4</th>\n",
              "      <td>RSS</td>\n",
              "      <td>0.343352</td>\n",
              "      <td>0.305906</td>\n",
              "      <td>0.478832</td>\n",
              "      <td>0.471877</td>\n",
              "      <td>0.469022</td>\n",
              "      <td>0.478832</td>\n",
              "      <td>0.359015</td>\n",
              "    </tr>\n",
              "  </tbody>\n",
              "</table>\n",
              "</div>\n",
              "      <button class=\"colab-df-convert\" onclick=\"convertToInteractive('df-0acebf79-d55d-43a7-9409-9e4786339dec')\"\n",
              "              title=\"Convert this dataframe to an interactive table.\"\n",
              "              style=\"display:none;\">\n",
              "        \n",
              "  <svg xmlns=\"http://www.w3.org/2000/svg\" height=\"24px\"viewBox=\"0 0 24 24\"\n",
              "       width=\"24px\">\n",
              "    <path d=\"M0 0h24v24H0V0z\" fill=\"none\"/>\n",
              "    <path d=\"M18.56 5.44l.94 2.06.94-2.06 2.06-.94-2.06-.94-.94-2.06-.94 2.06-2.06.94zm-11 1L8.5 8.5l.94-2.06 2.06-.94-2.06-.94L8.5 2.5l-.94 2.06-2.06.94zm10 10l.94 2.06.94-2.06 2.06-.94-2.06-.94-.94-2.06-.94 2.06-2.06.94z\"/><path d=\"M17.41 7.96l-1.37-1.37c-.4-.4-.92-.59-1.43-.59-.52 0-1.04.2-1.43.59L10.3 9.45l-7.72 7.72c-.78.78-.78 2.05 0 2.83L4 21.41c.39.39.9.59 1.41.59.51 0 1.02-.2 1.41-.59l7.78-7.78 2.81-2.81c.8-.78.8-2.07 0-2.86zM5.41 20L4 18.59l7.72-7.72 1.47 1.35L5.41 20z\"/>\n",
              "  </svg>\n",
              "      </button>\n",
              "      \n",
              "  <style>\n",
              "    .colab-df-container {\n",
              "      display:flex;\n",
              "      flex-wrap:wrap;\n",
              "      gap: 12px;\n",
              "    }\n",
              "\n",
              "    .colab-df-convert {\n",
              "      background-color: #E8F0FE;\n",
              "      border: none;\n",
              "      border-radius: 50%;\n",
              "      cursor: pointer;\n",
              "      display: none;\n",
              "      fill: #1967D2;\n",
              "      height: 32px;\n",
              "      padding: 0 0 0 0;\n",
              "      width: 32px;\n",
              "    }\n",
              "\n",
              "    .colab-df-convert:hover {\n",
              "      background-color: #E2EBFA;\n",
              "      box-shadow: 0px 1px 2px rgba(60, 64, 67, 0.3), 0px 1px 3px 1px rgba(60, 64, 67, 0.15);\n",
              "      fill: #174EA6;\n",
              "    }\n",
              "\n",
              "    [theme=dark] .colab-df-convert {\n",
              "      background-color: #3B4455;\n",
              "      fill: #D2E3FC;\n",
              "    }\n",
              "\n",
              "    [theme=dark] .colab-df-convert:hover {\n",
              "      background-color: #434B5C;\n",
              "      box-shadow: 0px 1px 3px 1px rgba(0, 0, 0, 0.15);\n",
              "      filter: drop-shadow(0px 1px 2px rgba(0, 0, 0, 0.3));\n",
              "      fill: #FFFFFF;\n",
              "    }\n",
              "  </style>\n",
              "\n",
              "      <script>\n",
              "        const buttonEl =\n",
              "          document.querySelector('#df-0acebf79-d55d-43a7-9409-9e4786339dec button.colab-df-convert');\n",
              "        buttonEl.style.display =\n",
              "          google.colab.kernel.accessAllowed ? 'block' : 'none';\n",
              "\n",
              "        async function convertToInteractive(key) {\n",
              "          const element = document.querySelector('#df-0acebf79-d55d-43a7-9409-9e4786339dec');\n",
              "          const dataTable =\n",
              "            await google.colab.kernel.invokeFunction('convertToInteractive',\n",
              "                                                     [key], {});\n",
              "          if (!dataTable) return;\n",
              "\n",
              "          const docLinkHtml = 'Like what you see? Visit the ' +\n",
              "            '<a target=\"_blank\" href=https://colab.research.google.com/notebooks/data_table.ipynb>data table notebook</a>'\n",
              "            + ' to learn more about interactive tables.';\n",
              "          element.innerHTML = '';\n",
              "          dataTable['output_type'] = 'display_data';\n",
              "          await google.colab.output.renderOutput(dataTable, element);\n",
              "          const docLink = document.createElement('div');\n",
              "          docLink.innerHTML = docLinkHtml;\n",
              "          element.appendChild(docLink);\n",
              "        }\n",
              "      </script>\n",
              "    </div>\n",
              "  </div>\n",
              "  "
            ]
          },
          "metadata": {},
          "execution_count": 64
        }
      ],
      "source": [
        "scoring4"
      ]
    },
    {
      "cell_type": "markdown",
      "metadata": {
        "id": "Cnx3p4fLnHSG"
      },
      "source": [
        "### We select RandomForestRegressor and the scaled dataset of using the ages as continuous data as our best set for the best model scores."
      ]
    },
    {
      "cell_type": "markdown",
      "metadata": {
        "id": "Xul9ofM9nHSG"
      },
      "source": [
        "## Final Model Training"
      ]
    },
    {
      "cell_type": "markdown",
      "metadata": {
        "id": "I8rZ3UfSnHSG"
      },
      "source": [
        "### Hyperparameter tuning"
      ]
    },
    {
      "cell_type": "code",
      "execution_count": 65,
      "metadata": {
        "id": "XHW9_NWBnHSG"
      },
      "outputs": [],
      "source": [
        "# Using Grid Search for hyper parameter tuning\n",
        "from sklearn.model_selection import GridSearchCV "
      ]
    },
    {
      "cell_type": "code",
      "execution_count": 66,
      "metadata": {
        "id": "HH0jlX5unHSG"
      },
      "outputs": [],
      "source": [
        "rf_model = RandomForestRegressor(random_state=42)"
      ]
    },
    {
      "cell_type": "code",
      "execution_count": 67,
      "metadata": {
        "colab": {
          "base_uri": "https://localhost:8080/"
        },
        "id": "XupJRaqAnHSH",
        "outputId": "ad1989cc-dfa9-468f-d604-1eada6ccef97"
      },
      "outputs": [
        {
          "output_type": "execute_result",
          "data": {
            "text/plain": [
              "dict_keys(['bootstrap', 'ccp_alpha', 'criterion', 'max_depth', 'max_features', 'max_leaf_nodes', 'max_samples', 'min_impurity_decrease', 'min_samples_leaf', 'min_samples_split', 'min_weight_fraction_leaf', 'n_estimators', 'n_jobs', 'oob_score', 'random_state', 'verbose', 'warm_start'])"
            ]
          },
          "metadata": {},
          "execution_count": 67
        }
      ],
      "source": [
        "# Getting parameters of model that can be tuned\n",
        "rf_model.get_params().keys()"
      ]
    },
    {
      "cell_type": "code",
      "execution_count": 68,
      "metadata": {
        "id": "x2sgLTadnHSH"
      },
      "outputs": [],
      "source": [
        "# We need to find the best parameters of the RF in order to obtain the best possible performance.\n",
        "\n",
        "param_grid = {\n",
        "    'max_depth' : [3,5,7,9,10],\n",
        "    'criterion': ['squared_error', 'absolute_error', 'friedman_mse'],\n",
        "    'n_estimators': [1,2,4,8,10,16,32,64,100,200],\n",
        "    'min_samples_split': [1,2,5,8,10,11,15,20,25,50,55,60,80,100],\n",
        "}"
      ]
    },
    {
      "cell_type": "code",
      "execution_count": 69,
      "metadata": {
        "colab": {
          "base_uri": "https://localhost:8080/"
        },
        "id": "EofkG1mLnHSH",
        "outputId": "f5ff9e4e-cbbc-4edd-ad46-c4a589c54eba"
      },
      "outputs": [
        {
          "output_type": "stream",
          "name": "stdout",
          "text": [
            "0.8487421383371647\n",
            "{'criterion': 'friedman_mse', 'max_depth': 9, 'min_samples_split': 8, 'n_estimators': 8}\n"
          ]
        }
      ],
      "source": [
        "grid_search = GridSearchCV(estimator=rf_model, param_grid=param_grid, scoring='r2',cv=5,n_jobs=3)\n",
        "grid_search.fit(X2_train_scaled,y_train)\n",
        "\n",
        "print(grid_search.best_score_)\n",
        "print(grid_search.best_params_)"
      ]
    },
    {
      "cell_type": "code",
      "execution_count": 70,
      "metadata": {
        "id": "euk1KLNNnHSH"
      },
      "outputs": [],
      "source": [
        "rf_model_search = RandomForestRegressor(criterion = 'friedman_mse', max_depth = 9,\n",
        "                                       min_samples_split = 8, n_estimators = 8, random_state = 42)"
      ]
    },
    {
      "cell_type": "code",
      "execution_count": 71,
      "metadata": {
        "colab": {
          "base_uri": "https://localhost:8080/",
          "height": 92
        },
        "id": "ret6tqpCnHSH",
        "outputId": "02b365a0-d2ab-4388-f3c6-ca310c71698c"
      },
      "outputs": [
        {
          "output_type": "execute_result",
          "data": {
            "text/plain": [
              "RandomForestRegressor(criterion='friedman_mse', max_depth=9,\n",
              "                      min_samples_split=8, n_estimators=8, random_state=42)"
            ],
            "text/html": [
              "<style>#sk-container-id-1 {color: black;background-color: white;}#sk-container-id-1 pre{padding: 0;}#sk-container-id-1 div.sk-toggleable {background-color: white;}#sk-container-id-1 label.sk-toggleable__label {cursor: pointer;display: block;width: 100%;margin-bottom: 0;padding: 0.3em;box-sizing: border-box;text-align: center;}#sk-container-id-1 label.sk-toggleable__label-arrow:before {content: \"▸\";float: left;margin-right: 0.25em;color: #696969;}#sk-container-id-1 label.sk-toggleable__label-arrow:hover:before {color: black;}#sk-container-id-1 div.sk-estimator:hover label.sk-toggleable__label-arrow:before {color: black;}#sk-container-id-1 div.sk-toggleable__content {max-height: 0;max-width: 0;overflow: hidden;text-align: left;background-color: #f0f8ff;}#sk-container-id-1 div.sk-toggleable__content pre {margin: 0.2em;color: black;border-radius: 0.25em;background-color: #f0f8ff;}#sk-container-id-1 input.sk-toggleable__control:checked~div.sk-toggleable__content {max-height: 200px;max-width: 100%;overflow: auto;}#sk-container-id-1 input.sk-toggleable__control:checked~label.sk-toggleable__label-arrow:before {content: \"▾\";}#sk-container-id-1 div.sk-estimator input.sk-toggleable__control:checked~label.sk-toggleable__label {background-color: #d4ebff;}#sk-container-id-1 div.sk-label input.sk-toggleable__control:checked~label.sk-toggleable__label {background-color: #d4ebff;}#sk-container-id-1 input.sk-hidden--visually {border: 0;clip: rect(1px 1px 1px 1px);clip: rect(1px, 1px, 1px, 1px);height: 1px;margin: -1px;overflow: hidden;padding: 0;position: absolute;width: 1px;}#sk-container-id-1 div.sk-estimator {font-family: monospace;background-color: #f0f8ff;border: 1px dotted black;border-radius: 0.25em;box-sizing: border-box;margin-bottom: 0.5em;}#sk-container-id-1 div.sk-estimator:hover {background-color: #d4ebff;}#sk-container-id-1 div.sk-parallel-item::after {content: \"\";width: 100%;border-bottom: 1px solid gray;flex-grow: 1;}#sk-container-id-1 div.sk-label:hover label.sk-toggleable__label {background-color: #d4ebff;}#sk-container-id-1 div.sk-serial::before {content: \"\";position: absolute;border-left: 1px solid gray;box-sizing: border-box;top: 0;bottom: 0;left: 50%;z-index: 0;}#sk-container-id-1 div.sk-serial {display: flex;flex-direction: column;align-items: center;background-color: white;padding-right: 0.2em;padding-left: 0.2em;position: relative;}#sk-container-id-1 div.sk-item {position: relative;z-index: 1;}#sk-container-id-1 div.sk-parallel {display: flex;align-items: stretch;justify-content: center;background-color: white;position: relative;}#sk-container-id-1 div.sk-item::before, #sk-container-id-1 div.sk-parallel-item::before {content: \"\";position: absolute;border-left: 1px solid gray;box-sizing: border-box;top: 0;bottom: 0;left: 50%;z-index: -1;}#sk-container-id-1 div.sk-parallel-item {display: flex;flex-direction: column;z-index: 1;position: relative;background-color: white;}#sk-container-id-1 div.sk-parallel-item:first-child::after {align-self: flex-end;width: 50%;}#sk-container-id-1 div.sk-parallel-item:last-child::after {align-self: flex-start;width: 50%;}#sk-container-id-1 div.sk-parallel-item:only-child::after {width: 0;}#sk-container-id-1 div.sk-dashed-wrapped {border: 1px dashed gray;margin: 0 0.4em 0.5em 0.4em;box-sizing: border-box;padding-bottom: 0.4em;background-color: white;}#sk-container-id-1 div.sk-label label {font-family: monospace;font-weight: bold;display: inline-block;line-height: 1.2em;}#sk-container-id-1 div.sk-label-container {text-align: center;}#sk-container-id-1 div.sk-container {/* jupyter's `normalize.less` sets `[hidden] { display: none; }` but bootstrap.min.css set `[hidden] { display: none !important; }` so we also need the `!important` here to be able to override the default hidden behavior on the sphinx rendered scikit-learn.org. See: https://github.com/scikit-learn/scikit-learn/issues/21755 */display: inline-block !important;position: relative;}#sk-container-id-1 div.sk-text-repr-fallback {display: none;}</style><div id=\"sk-container-id-1\" class=\"sk-top-container\"><div class=\"sk-text-repr-fallback\"><pre>RandomForestRegressor(criterion=&#x27;friedman_mse&#x27;, max_depth=9,\n",
              "                      min_samples_split=8, n_estimators=8, random_state=42)</pre><b>In a Jupyter environment, please rerun this cell to show the HTML representation or trust the notebook. <br />On GitHub, the HTML representation is unable to render, please try loading this page with nbviewer.org.</b></div><div class=\"sk-container\" hidden><div class=\"sk-item\"><div class=\"sk-estimator sk-toggleable\"><input class=\"sk-toggleable__control sk-hidden--visually\" id=\"sk-estimator-id-1\" type=\"checkbox\" checked><label for=\"sk-estimator-id-1\" class=\"sk-toggleable__label sk-toggleable__label-arrow\">RandomForestRegressor</label><div class=\"sk-toggleable__content\"><pre>RandomForestRegressor(criterion=&#x27;friedman_mse&#x27;, max_depth=9,\n",
              "                      min_samples_split=8, n_estimators=8, random_state=42)</pre></div></div></div></div></div>"
            ]
          },
          "metadata": {},
          "execution_count": 71
        }
      ],
      "source": [
        "rf_model_search.fit(X2_train_scaled, y_train)"
      ]
    },
    {
      "cell_type": "code",
      "execution_count": 72,
      "metadata": {
        "colab": {
          "base_uri": "https://localhost:8080/"
        },
        "id": "HGmEMVo2nHSH",
        "outputId": "b33a6545-03e5-4577-afb4-4597a7ff997f"
      },
      "outputs": [
        {
          "output_type": "stream",
          "name": "stdout",
          "text": [
            "RMSE: 0.05029351172335004\n",
            "R-Squared: 0.8755875051115165\n",
            "MSE: 0.0025294373214667476\n",
            "RSS 0.34400347571947765\n",
            "MAE: 0.03916323622374326\n",
            "\n"
          ]
        }
      ],
      "source": [
        "result = score(rf_model_search, X2_test_scaled, y_test)"
      ]
    },
    {
      "cell_type": "code",
      "execution_count": 73,
      "metadata": {
        "id": "ypKSHFi8nHSI"
      },
      "outputs": [],
      "source": [
        "scores = pd.DataFrame()\n",
        "scores['Metric'] = ['R2_score', 'MAE', 'MSE', 'RMSE', 'RSS']\n",
        "scores['RandomForestRegressor'] = result"
      ]
    },
    {
      "cell_type": "code",
      "execution_count": 74,
      "metadata": {
        "colab": {
          "base_uri": "https://localhost:8080/",
          "height": 206
        },
        "id": "hHoGlMcNnHSI",
        "outputId": "a74f44ae-373d-456a-ad46-64ec65b58703"
      },
      "outputs": [
        {
          "output_type": "execute_result",
          "data": {
            "text/plain": [
              "     Metric  RandomForestRegressor\n",
              "0  R2_score               0.875588\n",
              "1       MAE               0.039163\n",
              "2       MSE               0.002529\n",
              "3      RMSE               0.050294\n",
              "4       RSS               0.344003"
            ],
            "text/html": [
              "\n",
              "  <div id=\"df-2caf0a2b-82a4-4c67-9f95-bac2e01189ba\">\n",
              "    <div class=\"colab-df-container\">\n",
              "      <div>\n",
              "<style scoped>\n",
              "    .dataframe tbody tr th:only-of-type {\n",
              "        vertical-align: middle;\n",
              "    }\n",
              "\n",
              "    .dataframe tbody tr th {\n",
              "        vertical-align: top;\n",
              "    }\n",
              "\n",
              "    .dataframe thead th {\n",
              "        text-align: right;\n",
              "    }\n",
              "</style>\n",
              "<table border=\"1\" class=\"dataframe\">\n",
              "  <thead>\n",
              "    <tr style=\"text-align: right;\">\n",
              "      <th></th>\n",
              "      <th>Metric</th>\n",
              "      <th>RandomForestRegressor</th>\n",
              "    </tr>\n",
              "  </thead>\n",
              "  <tbody>\n",
              "    <tr>\n",
              "      <th>0</th>\n",
              "      <td>R2_score</td>\n",
              "      <td>0.875588</td>\n",
              "    </tr>\n",
              "    <tr>\n",
              "      <th>1</th>\n",
              "      <td>MAE</td>\n",
              "      <td>0.039163</td>\n",
              "    </tr>\n",
              "    <tr>\n",
              "      <th>2</th>\n",
              "      <td>MSE</td>\n",
              "      <td>0.002529</td>\n",
              "    </tr>\n",
              "    <tr>\n",
              "      <th>3</th>\n",
              "      <td>RMSE</td>\n",
              "      <td>0.050294</td>\n",
              "    </tr>\n",
              "    <tr>\n",
              "      <th>4</th>\n",
              "      <td>RSS</td>\n",
              "      <td>0.344003</td>\n",
              "    </tr>\n",
              "  </tbody>\n",
              "</table>\n",
              "</div>\n",
              "      <button class=\"colab-df-convert\" onclick=\"convertToInteractive('df-2caf0a2b-82a4-4c67-9f95-bac2e01189ba')\"\n",
              "              title=\"Convert this dataframe to an interactive table.\"\n",
              "              style=\"display:none;\">\n",
              "        \n",
              "  <svg xmlns=\"http://www.w3.org/2000/svg\" height=\"24px\"viewBox=\"0 0 24 24\"\n",
              "       width=\"24px\">\n",
              "    <path d=\"M0 0h24v24H0V0z\" fill=\"none\"/>\n",
              "    <path d=\"M18.56 5.44l.94 2.06.94-2.06 2.06-.94-2.06-.94-.94-2.06-.94 2.06-2.06.94zm-11 1L8.5 8.5l.94-2.06 2.06-.94-2.06-.94L8.5 2.5l-.94 2.06-2.06.94zm10 10l.94 2.06.94-2.06 2.06-.94-2.06-.94-.94-2.06-.94 2.06-2.06.94z\"/><path d=\"M17.41 7.96l-1.37-1.37c-.4-.4-.92-.59-1.43-.59-.52 0-1.04.2-1.43.59L10.3 9.45l-7.72 7.72c-.78.78-.78 2.05 0 2.83L4 21.41c.39.39.9.59 1.41.59.51 0 1.02-.2 1.41-.59l7.78-7.78 2.81-2.81c.8-.78.8-2.07 0-2.86zM5.41 20L4 18.59l7.72-7.72 1.47 1.35L5.41 20z\"/>\n",
              "  </svg>\n",
              "      </button>\n",
              "      \n",
              "  <style>\n",
              "    .colab-df-container {\n",
              "      display:flex;\n",
              "      flex-wrap:wrap;\n",
              "      gap: 12px;\n",
              "    }\n",
              "\n",
              "    .colab-df-convert {\n",
              "      background-color: #E8F0FE;\n",
              "      border: none;\n",
              "      border-radius: 50%;\n",
              "      cursor: pointer;\n",
              "      display: none;\n",
              "      fill: #1967D2;\n",
              "      height: 32px;\n",
              "      padding: 0 0 0 0;\n",
              "      width: 32px;\n",
              "    }\n",
              "\n",
              "    .colab-df-convert:hover {\n",
              "      background-color: #E2EBFA;\n",
              "      box-shadow: 0px 1px 2px rgba(60, 64, 67, 0.3), 0px 1px 3px 1px rgba(60, 64, 67, 0.15);\n",
              "      fill: #174EA6;\n",
              "    }\n",
              "\n",
              "    [theme=dark] .colab-df-convert {\n",
              "      background-color: #3B4455;\n",
              "      fill: #D2E3FC;\n",
              "    }\n",
              "\n",
              "    [theme=dark] .colab-df-convert:hover {\n",
              "      background-color: #434B5C;\n",
              "      box-shadow: 0px 1px 3px 1px rgba(0, 0, 0, 0.15);\n",
              "      filter: drop-shadow(0px 1px 2px rgba(0, 0, 0, 0.3));\n",
              "      fill: #FFFFFF;\n",
              "    }\n",
              "  </style>\n",
              "\n",
              "      <script>\n",
              "        const buttonEl =\n",
              "          document.querySelector('#df-2caf0a2b-82a4-4c67-9f95-bac2e01189ba button.colab-df-convert');\n",
              "        buttonEl.style.display =\n",
              "          google.colab.kernel.accessAllowed ? 'block' : 'none';\n",
              "\n",
              "        async function convertToInteractive(key) {\n",
              "          const element = document.querySelector('#df-2caf0a2b-82a4-4c67-9f95-bac2e01189ba');\n",
              "          const dataTable =\n",
              "            await google.colab.kernel.invokeFunction('convertToInteractive',\n",
              "                                                     [key], {});\n",
              "          if (!dataTable) return;\n",
              "\n",
              "          const docLinkHtml = 'Like what you see? Visit the ' +\n",
              "            '<a target=\"_blank\" href=https://colab.research.google.com/notebooks/data_table.ipynb>data table notebook</a>'\n",
              "            + ' to learn more about interactive tables.';\n",
              "          element.innerHTML = '';\n",
              "          dataTable['output_type'] = 'display_data';\n",
              "          await google.colab.output.renderOutput(dataTable, element);\n",
              "          const docLink = document.createElement('div');\n",
              "          docLink.innerHTML = docLinkHtml;\n",
              "          element.appendChild(docLink);\n",
              "        }\n",
              "      </script>\n",
              "    </div>\n",
              "  </div>\n",
              "  "
            ]
          },
          "metadata": {},
          "execution_count": 74
        }
      ],
      "source": [
        "scores"
      ]
    },
    {
      "cell_type": "markdown",
      "metadata": {
        "id": "VBvQrAWfnHSI"
      },
      "source": [
        "### The metrics above tell us that training the model with the default values of its hyper parameters give us a better metric than other set of values after performing hyperparameter tuning using Grid Search."
      ]
    },
    {
      "cell_type": "markdown",
      "metadata": {
        "id": "Y-5a4byKnHSI"
      },
      "source": [
        "### Final model"
      ]
    },
    {
      "cell_type": "code",
      "execution_count": 75,
      "metadata": {
        "colab": {
          "base_uri": "https://localhost:8080/",
          "height": 75
        },
        "id": "vpl_loQanHSI",
        "outputId": "9690493c-b678-4bb8-83d5-5936c54bea27"
      },
      "outputs": [
        {
          "output_type": "execute_result",
          "data": {
            "text/plain": [
              "RandomForestRegressor(random_state=42)"
            ],
            "text/html": [
              "<style>#sk-container-id-2 {color: black;background-color: white;}#sk-container-id-2 pre{padding: 0;}#sk-container-id-2 div.sk-toggleable {background-color: white;}#sk-container-id-2 label.sk-toggleable__label {cursor: pointer;display: block;width: 100%;margin-bottom: 0;padding: 0.3em;box-sizing: border-box;text-align: center;}#sk-container-id-2 label.sk-toggleable__label-arrow:before {content: \"▸\";float: left;margin-right: 0.25em;color: #696969;}#sk-container-id-2 label.sk-toggleable__label-arrow:hover:before {color: black;}#sk-container-id-2 div.sk-estimator:hover label.sk-toggleable__label-arrow:before {color: black;}#sk-container-id-2 div.sk-toggleable__content {max-height: 0;max-width: 0;overflow: hidden;text-align: left;background-color: #f0f8ff;}#sk-container-id-2 div.sk-toggleable__content pre {margin: 0.2em;color: black;border-radius: 0.25em;background-color: #f0f8ff;}#sk-container-id-2 input.sk-toggleable__control:checked~div.sk-toggleable__content {max-height: 200px;max-width: 100%;overflow: auto;}#sk-container-id-2 input.sk-toggleable__control:checked~label.sk-toggleable__label-arrow:before {content: \"▾\";}#sk-container-id-2 div.sk-estimator input.sk-toggleable__control:checked~label.sk-toggleable__label {background-color: #d4ebff;}#sk-container-id-2 div.sk-label input.sk-toggleable__control:checked~label.sk-toggleable__label {background-color: #d4ebff;}#sk-container-id-2 input.sk-hidden--visually {border: 0;clip: rect(1px 1px 1px 1px);clip: rect(1px, 1px, 1px, 1px);height: 1px;margin: -1px;overflow: hidden;padding: 0;position: absolute;width: 1px;}#sk-container-id-2 div.sk-estimator {font-family: monospace;background-color: #f0f8ff;border: 1px dotted black;border-radius: 0.25em;box-sizing: border-box;margin-bottom: 0.5em;}#sk-container-id-2 div.sk-estimator:hover {background-color: #d4ebff;}#sk-container-id-2 div.sk-parallel-item::after {content: \"\";width: 100%;border-bottom: 1px solid gray;flex-grow: 1;}#sk-container-id-2 div.sk-label:hover label.sk-toggleable__label {background-color: #d4ebff;}#sk-container-id-2 div.sk-serial::before {content: \"\";position: absolute;border-left: 1px solid gray;box-sizing: border-box;top: 0;bottom: 0;left: 50%;z-index: 0;}#sk-container-id-2 div.sk-serial {display: flex;flex-direction: column;align-items: center;background-color: white;padding-right: 0.2em;padding-left: 0.2em;position: relative;}#sk-container-id-2 div.sk-item {position: relative;z-index: 1;}#sk-container-id-2 div.sk-parallel {display: flex;align-items: stretch;justify-content: center;background-color: white;position: relative;}#sk-container-id-2 div.sk-item::before, #sk-container-id-2 div.sk-parallel-item::before {content: \"\";position: absolute;border-left: 1px solid gray;box-sizing: border-box;top: 0;bottom: 0;left: 50%;z-index: -1;}#sk-container-id-2 div.sk-parallel-item {display: flex;flex-direction: column;z-index: 1;position: relative;background-color: white;}#sk-container-id-2 div.sk-parallel-item:first-child::after {align-self: flex-end;width: 50%;}#sk-container-id-2 div.sk-parallel-item:last-child::after {align-self: flex-start;width: 50%;}#sk-container-id-2 div.sk-parallel-item:only-child::after {width: 0;}#sk-container-id-2 div.sk-dashed-wrapped {border: 1px dashed gray;margin: 0 0.4em 0.5em 0.4em;box-sizing: border-box;padding-bottom: 0.4em;background-color: white;}#sk-container-id-2 div.sk-label label {font-family: monospace;font-weight: bold;display: inline-block;line-height: 1.2em;}#sk-container-id-2 div.sk-label-container {text-align: center;}#sk-container-id-2 div.sk-container {/* jupyter's `normalize.less` sets `[hidden] { display: none; }` but bootstrap.min.css set `[hidden] { display: none !important; }` so we also need the `!important` here to be able to override the default hidden behavior on the sphinx rendered scikit-learn.org. See: https://github.com/scikit-learn/scikit-learn/issues/21755 */display: inline-block !important;position: relative;}#sk-container-id-2 div.sk-text-repr-fallback {display: none;}</style><div id=\"sk-container-id-2\" class=\"sk-top-container\"><div class=\"sk-text-repr-fallback\"><pre>RandomForestRegressor(random_state=42)</pre><b>In a Jupyter environment, please rerun this cell to show the HTML representation or trust the notebook. <br />On GitHub, the HTML representation is unable to render, please try loading this page with nbviewer.org.</b></div><div class=\"sk-container\" hidden><div class=\"sk-item\"><div class=\"sk-estimator sk-toggleable\"><input class=\"sk-toggleable__control sk-hidden--visually\" id=\"sk-estimator-id-2\" type=\"checkbox\" checked><label for=\"sk-estimator-id-2\" class=\"sk-toggleable__label sk-toggleable__label-arrow\">RandomForestRegressor</label><div class=\"sk-toggleable__content\"><pre>RandomForestRegressor(random_state=42)</pre></div></div></div></div></div>"
            ]
          },
          "metadata": {},
          "execution_count": 75
        }
      ],
      "source": [
        "rf_model_final = RandomForestRegressor(random_state=42)\n",
        "rf_model_final.fit(X2_train_scaled, y_train)"
      ]
    },
    {
      "cell_type": "code",
      "execution_count": 76,
      "metadata": {
        "colab": {
          "base_uri": "https://localhost:8080/"
        },
        "id": "cvncJaNWnHSI",
        "outputId": "aaaa69a1-31aa-4217-fa2c-13698cd87b44"
      },
      "outputs": [
        {
          "output_type": "stream",
          "name": "stdout",
          "text": [
            "RMSE: 0.047426853122032354\n",
            "R-Squared: 0.8893659794406596\n",
            "MSE: 0.0022493063970588302\n",
            "RSS 0.3059056700000009\n",
            "MAE: 0.03667279411764711\n",
            "\n"
          ]
        }
      ],
      "source": [
        "pred_final = rf_model_final.predict(X2_test_scaled)\n",
        "result_final = score(rf_model_final, X2_test_scaled, y_test)"
      ]
    },
    {
      "cell_type": "code",
      "execution_count": 77,
      "metadata": {
        "colab": {
          "base_uri": "https://localhost:8080/",
          "height": 206
        },
        "id": "VbwSONfenHSJ",
        "outputId": "2963b39b-0bb1-4eb1-9ec9-e5c3de9ec17c"
      },
      "outputs": [
        {
          "output_type": "execute_result",
          "data": {
            "text/plain": [
              "     Metric  RandomForestRegressor\n",
              "0  R2_score               0.889366\n",
              "1       MAE               0.036673\n",
              "2       MSE               0.002249\n",
              "3      RMSE               0.047427\n",
              "4       RSS               0.305906"
            ],
            "text/html": [
              "\n",
              "  <div id=\"df-cdce4689-d72a-4745-a8c1-a15ce089eb8c\">\n",
              "    <div class=\"colab-df-container\">\n",
              "      <div>\n",
              "<style scoped>\n",
              "    .dataframe tbody tr th:only-of-type {\n",
              "        vertical-align: middle;\n",
              "    }\n",
              "\n",
              "    .dataframe tbody tr th {\n",
              "        vertical-align: top;\n",
              "    }\n",
              "\n",
              "    .dataframe thead th {\n",
              "        text-align: right;\n",
              "    }\n",
              "</style>\n",
              "<table border=\"1\" class=\"dataframe\">\n",
              "  <thead>\n",
              "    <tr style=\"text-align: right;\">\n",
              "      <th></th>\n",
              "      <th>Metric</th>\n",
              "      <th>RandomForestRegressor</th>\n",
              "    </tr>\n",
              "  </thead>\n",
              "  <tbody>\n",
              "    <tr>\n",
              "      <th>0</th>\n",
              "      <td>R2_score</td>\n",
              "      <td>0.889366</td>\n",
              "    </tr>\n",
              "    <tr>\n",
              "      <th>1</th>\n",
              "      <td>MAE</td>\n",
              "      <td>0.036673</td>\n",
              "    </tr>\n",
              "    <tr>\n",
              "      <th>2</th>\n",
              "      <td>MSE</td>\n",
              "      <td>0.002249</td>\n",
              "    </tr>\n",
              "    <tr>\n",
              "      <th>3</th>\n",
              "      <td>RMSE</td>\n",
              "      <td>0.047427</td>\n",
              "    </tr>\n",
              "    <tr>\n",
              "      <th>4</th>\n",
              "      <td>RSS</td>\n",
              "      <td>0.305906</td>\n",
              "    </tr>\n",
              "  </tbody>\n",
              "</table>\n",
              "</div>\n",
              "      <button class=\"colab-df-convert\" onclick=\"convertToInteractive('df-cdce4689-d72a-4745-a8c1-a15ce089eb8c')\"\n",
              "              title=\"Convert this dataframe to an interactive table.\"\n",
              "              style=\"display:none;\">\n",
              "        \n",
              "  <svg xmlns=\"http://www.w3.org/2000/svg\" height=\"24px\"viewBox=\"0 0 24 24\"\n",
              "       width=\"24px\">\n",
              "    <path d=\"M0 0h24v24H0V0z\" fill=\"none\"/>\n",
              "    <path d=\"M18.56 5.44l.94 2.06.94-2.06 2.06-.94-2.06-.94-.94-2.06-.94 2.06-2.06.94zm-11 1L8.5 8.5l.94-2.06 2.06-.94-2.06-.94L8.5 2.5l-.94 2.06-2.06.94zm10 10l.94 2.06.94-2.06 2.06-.94-2.06-.94-.94-2.06-.94 2.06-2.06.94z\"/><path d=\"M17.41 7.96l-1.37-1.37c-.4-.4-.92-.59-1.43-.59-.52 0-1.04.2-1.43.59L10.3 9.45l-7.72 7.72c-.78.78-.78 2.05 0 2.83L4 21.41c.39.39.9.59 1.41.59.51 0 1.02-.2 1.41-.59l7.78-7.78 2.81-2.81c.8-.78.8-2.07 0-2.86zM5.41 20L4 18.59l7.72-7.72 1.47 1.35L5.41 20z\"/>\n",
              "  </svg>\n",
              "      </button>\n",
              "      \n",
              "  <style>\n",
              "    .colab-df-container {\n",
              "      display:flex;\n",
              "      flex-wrap:wrap;\n",
              "      gap: 12px;\n",
              "    }\n",
              "\n",
              "    .colab-df-convert {\n",
              "      background-color: #E8F0FE;\n",
              "      border: none;\n",
              "      border-radius: 50%;\n",
              "      cursor: pointer;\n",
              "      display: none;\n",
              "      fill: #1967D2;\n",
              "      height: 32px;\n",
              "      padding: 0 0 0 0;\n",
              "      width: 32px;\n",
              "    }\n",
              "\n",
              "    .colab-df-convert:hover {\n",
              "      background-color: #E2EBFA;\n",
              "      box-shadow: 0px 1px 2px rgba(60, 64, 67, 0.3), 0px 1px 3px 1px rgba(60, 64, 67, 0.15);\n",
              "      fill: #174EA6;\n",
              "    }\n",
              "\n",
              "    [theme=dark] .colab-df-convert {\n",
              "      background-color: #3B4455;\n",
              "      fill: #D2E3FC;\n",
              "    }\n",
              "\n",
              "    [theme=dark] .colab-df-convert:hover {\n",
              "      background-color: #434B5C;\n",
              "      box-shadow: 0px 1px 3px 1px rgba(0, 0, 0, 0.15);\n",
              "      filter: drop-shadow(0px 1px 2px rgba(0, 0, 0, 0.3));\n",
              "      fill: #FFFFFF;\n",
              "    }\n",
              "  </style>\n",
              "\n",
              "      <script>\n",
              "        const buttonEl =\n",
              "          document.querySelector('#df-cdce4689-d72a-4745-a8c1-a15ce089eb8c button.colab-df-convert');\n",
              "        buttonEl.style.display =\n",
              "          google.colab.kernel.accessAllowed ? 'block' : 'none';\n",
              "\n",
              "        async function convertToInteractive(key) {\n",
              "          const element = document.querySelector('#df-cdce4689-d72a-4745-a8c1-a15ce089eb8c');\n",
              "          const dataTable =\n",
              "            await google.colab.kernel.invokeFunction('convertToInteractive',\n",
              "                                                     [key], {});\n",
              "          if (!dataTable) return;\n",
              "\n",
              "          const docLinkHtml = 'Like what you see? Visit the ' +\n",
              "            '<a target=\"_blank\" href=https://colab.research.google.com/notebooks/data_table.ipynb>data table notebook</a>'\n",
              "            + ' to learn more about interactive tables.';\n",
              "          element.innerHTML = '';\n",
              "          dataTable['output_type'] = 'display_data';\n",
              "          await google.colab.output.renderOutput(dataTable, element);\n",
              "          const docLink = document.createElement('div');\n",
              "          docLink.innerHTML = docLinkHtml;\n",
              "          element.appendChild(docLink);\n",
              "        }\n",
              "      </script>\n",
              "    </div>\n",
              "  </div>\n",
              "  "
            ]
          },
          "metadata": {},
          "execution_count": 77
        }
      ],
      "source": [
        "final_scores = pd.DataFrame()\n",
        "final_scores['Metric'] = ['R2_score', 'MAE', 'MSE', 'RMSE', 'RSS']\n",
        "final_scores['RandomForestRegressor'] = result_final\n",
        "\n",
        "final_scores"
      ]
    },
    {
      "cell_type": "markdown",
      "metadata": {
        "id": "Knq3a-J6nHSJ"
      },
      "source": [
        "## Comparing values from prediction to actual"
      ]
    },
    {
      "cell_type": "code",
      "execution_count": 78,
      "metadata": {
        "id": "rwPhOU8lnHSJ"
      },
      "outputs": [],
      "source": [
        "predictions = pd.DataFrame(columns=['actual', 'pred'])\n",
        "predictions['actual'] = y_test\n",
        "predictions['pred'] = pred_final"
      ]
    },
    {
      "cell_type": "code",
      "execution_count": 79,
      "metadata": {
        "colab": {
          "base_uri": "https://localhost:8080/",
          "height": 424
        },
        "id": "QndTZsK0nHSJ",
        "outputId": "f44fd8f7-7714-4ea5-a79d-fd02832eddd0"
      },
      "outputs": [
        {
          "output_type": "execute_result",
          "data": {
            "text/plain": [
              "     actual    pred\n",
              "299    0.60  0.6420\n",
              "39     0.63  0.6541\n",
              "336    0.90  0.9026\n",
              "332    0.56  0.5799\n",
              "153    0.70  0.8051\n",
              "..      ...     ...\n",
              "29     0.91  0.9057\n",
              "148    0.75  0.7895\n",
              "265    0.87  0.9253\n",
              "26     0.95  0.9098\n",
              "7      0.90  0.9147\n",
              "\n",
              "[136 rows x 2 columns]"
            ],
            "text/html": [
              "\n",
              "  <div id=\"df-a42c29e3-b8ba-442d-93f3-d018af47130c\">\n",
              "    <div class=\"colab-df-container\">\n",
              "      <div>\n",
              "<style scoped>\n",
              "    .dataframe tbody tr th:only-of-type {\n",
              "        vertical-align: middle;\n",
              "    }\n",
              "\n",
              "    .dataframe tbody tr th {\n",
              "        vertical-align: top;\n",
              "    }\n",
              "\n",
              "    .dataframe thead th {\n",
              "        text-align: right;\n",
              "    }\n",
              "</style>\n",
              "<table border=\"1\" class=\"dataframe\">\n",
              "  <thead>\n",
              "    <tr style=\"text-align: right;\">\n",
              "      <th></th>\n",
              "      <th>actual</th>\n",
              "      <th>pred</th>\n",
              "    </tr>\n",
              "  </thead>\n",
              "  <tbody>\n",
              "    <tr>\n",
              "      <th>299</th>\n",
              "      <td>0.60</td>\n",
              "      <td>0.6420</td>\n",
              "    </tr>\n",
              "    <tr>\n",
              "      <th>39</th>\n",
              "      <td>0.63</td>\n",
              "      <td>0.6541</td>\n",
              "    </tr>\n",
              "    <tr>\n",
              "      <th>336</th>\n",
              "      <td>0.90</td>\n",
              "      <td>0.9026</td>\n",
              "    </tr>\n",
              "    <tr>\n",
              "      <th>332</th>\n",
              "      <td>0.56</td>\n",
              "      <td>0.5799</td>\n",
              "    </tr>\n",
              "    <tr>\n",
              "      <th>153</th>\n",
              "      <td>0.70</td>\n",
              "      <td>0.8051</td>\n",
              "    </tr>\n",
              "    <tr>\n",
              "      <th>...</th>\n",
              "      <td>...</td>\n",
              "      <td>...</td>\n",
              "    </tr>\n",
              "    <tr>\n",
              "      <th>29</th>\n",
              "      <td>0.91</td>\n",
              "      <td>0.9057</td>\n",
              "    </tr>\n",
              "    <tr>\n",
              "      <th>148</th>\n",
              "      <td>0.75</td>\n",
              "      <td>0.7895</td>\n",
              "    </tr>\n",
              "    <tr>\n",
              "      <th>265</th>\n",
              "      <td>0.87</td>\n",
              "      <td>0.9253</td>\n",
              "    </tr>\n",
              "    <tr>\n",
              "      <th>26</th>\n",
              "      <td>0.95</td>\n",
              "      <td>0.9098</td>\n",
              "    </tr>\n",
              "    <tr>\n",
              "      <th>7</th>\n",
              "      <td>0.90</td>\n",
              "      <td>0.9147</td>\n",
              "    </tr>\n",
              "  </tbody>\n",
              "</table>\n",
              "<p>136 rows × 2 columns</p>\n",
              "</div>\n",
              "      <button class=\"colab-df-convert\" onclick=\"convertToInteractive('df-a42c29e3-b8ba-442d-93f3-d018af47130c')\"\n",
              "              title=\"Convert this dataframe to an interactive table.\"\n",
              "              style=\"display:none;\">\n",
              "        \n",
              "  <svg xmlns=\"http://www.w3.org/2000/svg\" height=\"24px\"viewBox=\"0 0 24 24\"\n",
              "       width=\"24px\">\n",
              "    <path d=\"M0 0h24v24H0V0z\" fill=\"none\"/>\n",
              "    <path d=\"M18.56 5.44l.94 2.06.94-2.06 2.06-.94-2.06-.94-.94-2.06-.94 2.06-2.06.94zm-11 1L8.5 8.5l.94-2.06 2.06-.94-2.06-.94L8.5 2.5l-.94 2.06-2.06.94zm10 10l.94 2.06.94-2.06 2.06-.94-2.06-.94-.94-2.06-.94 2.06-2.06.94z\"/><path d=\"M17.41 7.96l-1.37-1.37c-.4-.4-.92-.59-1.43-.59-.52 0-1.04.2-1.43.59L10.3 9.45l-7.72 7.72c-.78.78-.78 2.05 0 2.83L4 21.41c.39.39.9.59 1.41.59.51 0 1.02-.2 1.41-.59l7.78-7.78 2.81-2.81c.8-.78.8-2.07 0-2.86zM5.41 20L4 18.59l7.72-7.72 1.47 1.35L5.41 20z\"/>\n",
              "  </svg>\n",
              "      </button>\n",
              "      \n",
              "  <style>\n",
              "    .colab-df-container {\n",
              "      display:flex;\n",
              "      flex-wrap:wrap;\n",
              "      gap: 12px;\n",
              "    }\n",
              "\n",
              "    .colab-df-convert {\n",
              "      background-color: #E8F0FE;\n",
              "      border: none;\n",
              "      border-radius: 50%;\n",
              "      cursor: pointer;\n",
              "      display: none;\n",
              "      fill: #1967D2;\n",
              "      height: 32px;\n",
              "      padding: 0 0 0 0;\n",
              "      width: 32px;\n",
              "    }\n",
              "\n",
              "    .colab-df-convert:hover {\n",
              "      background-color: #E2EBFA;\n",
              "      box-shadow: 0px 1px 2px rgba(60, 64, 67, 0.3), 0px 1px 3px 1px rgba(60, 64, 67, 0.15);\n",
              "      fill: #174EA6;\n",
              "    }\n",
              "\n",
              "    [theme=dark] .colab-df-convert {\n",
              "      background-color: #3B4455;\n",
              "      fill: #D2E3FC;\n",
              "    }\n",
              "\n",
              "    [theme=dark] .colab-df-convert:hover {\n",
              "      background-color: #434B5C;\n",
              "      box-shadow: 0px 1px 3px 1px rgba(0, 0, 0, 0.15);\n",
              "      filter: drop-shadow(0px 1px 2px rgba(0, 0, 0, 0.3));\n",
              "      fill: #FFFFFF;\n",
              "    }\n",
              "  </style>\n",
              "\n",
              "      <script>\n",
              "        const buttonEl =\n",
              "          document.querySelector('#df-a42c29e3-b8ba-442d-93f3-d018af47130c button.colab-df-convert');\n",
              "        buttonEl.style.display =\n",
              "          google.colab.kernel.accessAllowed ? 'block' : 'none';\n",
              "\n",
              "        async function convertToInteractive(key) {\n",
              "          const element = document.querySelector('#df-a42c29e3-b8ba-442d-93f3-d018af47130c');\n",
              "          const dataTable =\n",
              "            await google.colab.kernel.invokeFunction('convertToInteractive',\n",
              "                                                     [key], {});\n",
              "          if (!dataTable) return;\n",
              "\n",
              "          const docLinkHtml = 'Like what you see? Visit the ' +\n",
              "            '<a target=\"_blank\" href=https://colab.research.google.com/notebooks/data_table.ipynb>data table notebook</a>'\n",
              "            + ' to learn more about interactive tables.';\n",
              "          element.innerHTML = '';\n",
              "          dataTable['output_type'] = 'display_data';\n",
              "          await google.colab.output.renderOutput(dataTable, element);\n",
              "          const docLink = document.createElement('div');\n",
              "          docLink.innerHTML = docLinkHtml;\n",
              "          element.appendChild(docLink);\n",
              "        }\n",
              "      </script>\n",
              "    </div>\n",
              "  </div>\n",
              "  "
            ]
          },
          "metadata": {},
          "execution_count": 79
        }
      ],
      "source": [
        "predictions"
      ]
    },
    {
      "cell_type": "markdown",
      "metadata": {
        "id": "IRM3Lt5snHSK"
      },
      "source": [
        "## Visualizing Feature Importance"
      ]
    },
    {
      "cell_type": "markdown",
      "metadata": {
        "id": "EVGILjC6nHSK"
      },
      "source": [
        "Creating a function for visualizing the feature importance\n",
        "\n",
        "The purpose of this function is to visualize the feature importances of a machine learning model, which can provide insights into which features are most important for predicting the target variable, and inform feature selection and engineering decisions.\n"
      ]
    },
    {
      "cell_type": "code",
      "execution_count": 80,
      "metadata": {
        "id": "eArRh8e2nHSL"
      },
      "outputs": [],
      "source": [
        "def plot_importance(columns, importances, n=20):\n",
        "    df = pd.DataFrame(\n",
        "        {'features' : columns, 'feature_importance' : importances}).sort_values(\n",
        "                                                    'feature_importance', ascending=False).reset_index(drop=False)\n",
        "    \n",
        "    # Plotting the dataframe\n",
        "    fig, ax = plt.subplots(figsize=(10,8))\n",
        "    ax = sns.barplot(x ='feature_importance', y='features', data=df[:n], orient='h')\n",
        "    plt.ylabel('features')\n",
        "    plt.xlabel('feature_importance')"
      ]
    },
    {
      "cell_type": "markdown",
      "metadata": {
        "id": "uiZlT-X6nHSL"
      },
      "source": [
        "### Feature importance attribute to show the importance of each feature (or column) in the dataset, based on the impact that it has on the target variable"
      ]
    },
    {
      "cell_type": "code",
      "execution_count": 81,
      "metadata": {
        "colab": {
          "base_uri": "https://localhost:8080/",
          "height": 705
        },
        "id": "AR25-gY5nHSL",
        "outputId": "45737ca3-0bce-45b1-d433-09d37981d3cb"
      },
      "outputs": [
        {
          "output_type": "display_data",
          "data": {
            "text/plain": [
              "<Figure size 1000x800 with 1 Axes>"
            ],
            "image/png": "[encoded data removed]"
          },
          "metadata": {}
        }
      ],
      "source": [
        "plot_importance(X2_train.columns, rf_model_final.feature_importances_)"
      ]
    },
    {
      "cell_type": "markdown",
      "metadata": {
        "id": "St2ew0JwnHSL"
      },
      "source": [
        "## Conclusion\n",
        "### *After model evaluation, we get an R-squared score of 88.9%. <br>This tells us that the variance of the data from the mean of Sleep efficiency is reduced by 88.9% and with a Root Mean-squared error of 0.047, it shows that the predictions are very close to the actual values in the test set that was sampled for evaluation.*"
      ]
    },
    {
      "cell_type": "markdown",
      "metadata": {
        "id": "sRUI8_HPnHSL"
      },
      "source": [
        "### Save model"
      ]
    },
    {
      "cell_type": "code",
      "execution_count": 82,
      "metadata": {
        "id": "7AB8CEF_nHSL"
      },
      "outputs": [],
      "source": [
        "import joblib"
      ]
    },
    {
      "cell_type": "code",
      "execution_count": 83,
      "metadata": {
        "colab": {
          "base_uri": "https://localhost:8080/"
        },
        "id": "D575BoyEnHSL",
        "outputId": "d5091859-652a-4dc7-f216-05619f83d243"
      },
      "outputs": [
        {
          "output_type": "execute_result",
          "data": {
            "text/plain": [
              "['sleep_efficiency_model.pkl']"
            ]
          },
          "metadata": {},
          "execution_count": 83
        }
      ],
      "source": [
        "# Save the model as a pickle in a file\n",
        "joblib.dump(rf_model_final, 'sleep_efficiency_model.pkl')"
      ]
    },
    {
      "cell_type": "code",
      "execution_count": null,
      "metadata": {
        "id": "OmDBFU2UnHSM"
      },
      "outputs": [],
      "source": []
    }
  ],
  "metadata": {
    "kernelspec": {
      "display_name": "Python 3",
      "language": "python",
      "name": "python3"
    },
    "language_info": {
      "codemirror_mode": {
        "name": "ipython",
        "version": 3
      },
      "file_extension": ".py",
      "mimetype": "text/x-python",
      "name": "python",
      "nbconvert_exporter": "python",
      "pygments_lexer": "ipython3",
      "version": "3.7.6"
    },
    "colab": {
      "provenance": [],
      "gpuType": "T4",
      "include_colab_link": true
    },
    "accelerator": "GPU",
    "gpuClass": "standard"
  },
  "nbformat": 4,
  "nbformat_minor": 0
}